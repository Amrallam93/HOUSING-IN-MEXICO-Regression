{
  "nbformat": 4,
  "nbformat_minor": 0,
  "metadata": {
    "colab": {
      "provenance": []
    },
    "kernelspec": {
      "name": "python3",
      "display_name": "Python 3"
    },
    "language_info": {
      "name": "python"
    },
    "widgets": {
      "application/vnd.jupyter.widget-state+json": {
        "0d0753fac70a42a28c9d7981cae76836": {
          "model_module": "@jupyter-widgets/controls",
          "model_name": "VBoxModel",
          "model_module_version": "1.5.0",
          "state": {
            "_dom_classes": [
              "widget-interact"
            ],
            "_model_module": "@jupyter-widgets/controls",
            "_model_module_version": "1.5.0",
            "_model_name": "VBoxModel",
            "_view_count": null,
            "_view_module": "@jupyter-widgets/controls",
            "_view_module_version": "1.5.0",
            "_view_name": "VBoxView",
            "box_style": "",
            "children": [
              "IPY_MODEL_97d87f15c4dd428eb234c35df22ba641",
              "IPY_MODEL_373af50f2bab4dedb428435608b6fb7a",
              "IPY_MODEL_fef2e563cdfe45c78dfdb2feffa04578",
              "IPY_MODEL_e40d56de3f404aeca13f05adc5d5f78e",
              "IPY_MODEL_4e77b6b6ba6f4143a801c37361df185c"
            ],
            "layout": "IPY_MODEL_c96f3713cbe643a1aaaf5b30b08e9a55"
          }
        },
        "97d87f15c4dd428eb234c35df22ba641": {
          "model_module": "@jupyter-widgets/controls",
          "model_name": "IntSliderModel",
          "model_module_version": "1.5.0",
          "state": {
            "_dom_classes": [],
            "_model_module": "@jupyter-widgets/controls",
            "_model_module_version": "1.5.0",
            "_model_name": "IntSliderModel",
            "_view_count": null,
            "_view_module": "@jupyter-widgets/controls",
            "_view_module_version": "1.5.0",
            "_view_name": "IntSliderView",
            "continuous_update": true,
            "description": "area",
            "description_tooltip": null,
            "disabled": false,
            "layout": "IPY_MODEL_898ffe614b6d47b6a839b40907f14eac",
            "max": 91,
            "min": 48,
            "orientation": "horizontal",
            "readout": true,
            "readout_format": "d",
            "step": 1,
            "style": "IPY_MODEL_bcb618e466984732964743879082dc04",
            "value": 68
          }
        },
        "373af50f2bab4dedb428435608b6fb7a": {
          "model_module": "@jupyter-widgets/controls",
          "model_name": "FloatSliderModel",
          "model_module_version": "1.5.0",
          "state": {
            "_dom_classes": [],
            "_model_module": "@jupyter-widgets/controls",
            "_model_module_version": "1.5.0",
            "_model_name": "FloatSliderModel",
            "_view_count": null,
            "_view_module": "@jupyter-widgets/controls",
            "_view_module_version": "1.5.0",
            "_view_name": "FloatSliderView",
            "continuous_update": true,
            "description": "lat",
            "description_tooltip": null,
            "disabled": false,
            "layout": "IPY_MODEL_8af49a73a08844e5bdd864cbe49ec04a",
            "max": 23.634501,
            "min": 19.194247,
            "orientation": "horizontal",
            "readout": true,
            "readout_format": ".2f",
            "step": 0.01,
            "style": "IPY_MODEL_490e66b40e164a228481eaf41e0f4252",
            "value": 19.460538111190505
          }
        },
        "fef2e563cdfe45c78dfdb2feffa04578": {
          "model_module": "@jupyter-widgets/controls",
          "model_name": "FloatSliderModel",
          "model_module_version": "1.5.0",
          "state": {
            "_dom_classes": [],
            "_model_module": "@jupyter-widgets/controls",
            "_model_module_version": "1.5.0",
            "_model_name": "FloatSliderModel",
            "_view_count": null,
            "_view_module": "@jupyter-widgets/controls",
            "_view_module_version": "1.5.0",
            "_view_name": "FloatSliderView",
            "continuous_update": true,
            "description": "lon",
            "description_tooltip": null,
            "disabled": false,
            "layout": "IPY_MODEL_ecc61c1b47654cc8a3ac9235bac655b5",
            "max": -99.007392,
            "min": -102.552788,
            "orientation": "horizontal",
            "readout": true,
            "readout_format": ".2f",
            "step": 0.01,
            "style": "IPY_MODEL_9568685a2f3449958174498d62d3b2b5",
            "value": -99.19349208908979
          }
        },
        "e40d56de3f404aeca13f05adc5d5f78e": {
          "model_module": "@jupyter-widgets/controls",
          "model_name": "DropdownModel",
          "model_module_version": "1.5.0",
          "state": {
            "_dom_classes": [],
            "_model_module": "@jupyter-widgets/controls",
            "_model_module_version": "1.5.0",
            "_model_name": "DropdownModel",
            "_options_labels": [
              "Azcapotzalco",
              "Benito Juárez",
              "Coyoacán",
              "Cuauhtémoc",
              "Gustavo A. Madero",
              "Iztacalco",
              "Iztapalapa",
              "La Magdalena Contreras",
              "Miguel Hidalgo",
              "Tlalpan",
              "Tláhuac",
              "Venustiano Carranza",
              "Xochimilco",
              "Álvaro Obregón"
            ],
            "_view_count": null,
            "_view_module": "@jupyter-widgets/controls",
            "_view_module_version": "1.5.0",
            "_view_name": "DropdownView",
            "description": "borough",
            "description_tooltip": null,
            "disabled": false,
            "index": 0,
            "layout": "IPY_MODEL_6af46d412f1d4ae4a0967c075e6b2103",
            "style": "IPY_MODEL_29ae5187e3284936a7fca0a7b53dfdaf"
          }
        },
        "4e77b6b6ba6f4143a801c37361df185c": {
          "model_module": "@jupyter-widgets/output",
          "model_name": "OutputModel",
          "model_module_version": "1.0.0",
          "state": {
            "_dom_classes": [],
            "_model_module": "@jupyter-widgets/output",
            "_model_module_version": "1.0.0",
            "_model_name": "OutputModel",
            "_view_count": null,
            "_view_module": "@jupyter-widgets/output",
            "_view_module_version": "1.0.0",
            "_view_name": "OutputView",
            "layout": "IPY_MODEL_bb047f6fbe824761844829ef5a99e5be",
            "msg_id": "",
            "outputs": [
              {
                "output_type": "display_data",
                "data": {
                  "text/plain": "'Predicted apartment price: $58308.33'",
                  "application/vnd.google.colaboratory.intrinsic+json": {
                    "type": "string"
                  }
                },
                "metadata": {}
              }
            ]
          }
        },
        "c96f3713cbe643a1aaaf5b30b08e9a55": {
          "model_module": "@jupyter-widgets/base",
          "model_name": "LayoutModel",
          "model_module_version": "1.2.0",
          "state": {
            "_model_module": "@jupyter-widgets/base",
            "_model_module_version": "1.2.0",
            "_model_name": "LayoutModel",
            "_view_count": null,
            "_view_module": "@jupyter-widgets/base",
            "_view_module_version": "1.2.0",
            "_view_name": "LayoutView",
            "align_content": null,
            "align_items": null,
            "align_self": null,
            "border": null,
            "bottom": null,
            "display": null,
            "flex": null,
            "flex_flow": null,
            "grid_area": null,
            "grid_auto_columns": null,
            "grid_auto_flow": null,
            "grid_auto_rows": null,
            "grid_column": null,
            "grid_gap": null,
            "grid_row": null,
            "grid_template_areas": null,
            "grid_template_columns": null,
            "grid_template_rows": null,
            "height": null,
            "justify_content": null,
            "justify_items": null,
            "left": null,
            "margin": null,
            "max_height": null,
            "max_width": null,
            "min_height": null,
            "min_width": null,
            "object_fit": null,
            "object_position": null,
            "order": null,
            "overflow": null,
            "overflow_x": null,
            "overflow_y": null,
            "padding": null,
            "right": null,
            "top": null,
            "visibility": null,
            "width": null
          }
        },
        "898ffe614b6d47b6a839b40907f14eac": {
          "model_module": "@jupyter-widgets/base",
          "model_name": "LayoutModel",
          "model_module_version": "1.2.0",
          "state": {
            "_model_module": "@jupyter-widgets/base",
            "_model_module_version": "1.2.0",
            "_model_name": "LayoutModel",
            "_view_count": null,
            "_view_module": "@jupyter-widgets/base",
            "_view_module_version": "1.2.0",
            "_view_name": "LayoutView",
            "align_content": null,
            "align_items": null,
            "align_self": null,
            "border": null,
            "bottom": null,
            "display": null,
            "flex": null,
            "flex_flow": null,
            "grid_area": null,
            "grid_auto_columns": null,
            "grid_auto_flow": null,
            "grid_auto_rows": null,
            "grid_column": null,
            "grid_gap": null,
            "grid_row": null,
            "grid_template_areas": null,
            "grid_template_columns": null,
            "grid_template_rows": null,
            "height": null,
            "justify_content": null,
            "justify_items": null,
            "left": null,
            "margin": null,
            "max_height": null,
            "max_width": null,
            "min_height": null,
            "min_width": null,
            "object_fit": null,
            "object_position": null,
            "order": null,
            "overflow": null,
            "overflow_x": null,
            "overflow_y": null,
            "padding": null,
            "right": null,
            "top": null,
            "visibility": null,
            "width": null
          }
        },
        "bcb618e466984732964743879082dc04": {
          "model_module": "@jupyter-widgets/controls",
          "model_name": "SliderStyleModel",
          "model_module_version": "1.5.0",
          "state": {
            "_model_module": "@jupyter-widgets/controls",
            "_model_module_version": "1.5.0",
            "_model_name": "SliderStyleModel",
            "_view_count": null,
            "_view_module": "@jupyter-widgets/base",
            "_view_module_version": "1.2.0",
            "_view_name": "StyleView",
            "description_width": "",
            "handle_color": null
          }
        },
        "8af49a73a08844e5bdd864cbe49ec04a": {
          "model_module": "@jupyter-widgets/base",
          "model_name": "LayoutModel",
          "model_module_version": "1.2.0",
          "state": {
            "_model_module": "@jupyter-widgets/base",
            "_model_module_version": "1.2.0",
            "_model_name": "LayoutModel",
            "_view_count": null,
            "_view_module": "@jupyter-widgets/base",
            "_view_module_version": "1.2.0",
            "_view_name": "LayoutView",
            "align_content": null,
            "align_items": null,
            "align_self": null,
            "border": null,
            "bottom": null,
            "display": null,
            "flex": null,
            "flex_flow": null,
            "grid_area": null,
            "grid_auto_columns": null,
            "grid_auto_flow": null,
            "grid_auto_rows": null,
            "grid_column": null,
            "grid_gap": null,
            "grid_row": null,
            "grid_template_areas": null,
            "grid_template_columns": null,
            "grid_template_rows": null,
            "height": null,
            "justify_content": null,
            "justify_items": null,
            "left": null,
            "margin": null,
            "max_height": null,
            "max_width": null,
            "min_height": null,
            "min_width": null,
            "object_fit": null,
            "object_position": null,
            "order": null,
            "overflow": null,
            "overflow_x": null,
            "overflow_y": null,
            "padding": null,
            "right": null,
            "top": null,
            "visibility": null,
            "width": null
          }
        },
        "490e66b40e164a228481eaf41e0f4252": {
          "model_module": "@jupyter-widgets/controls",
          "model_name": "SliderStyleModel",
          "model_module_version": "1.5.0",
          "state": {
            "_model_module": "@jupyter-widgets/controls",
            "_model_module_version": "1.5.0",
            "_model_name": "SliderStyleModel",
            "_view_count": null,
            "_view_module": "@jupyter-widgets/base",
            "_view_module_version": "1.2.0",
            "_view_name": "StyleView",
            "description_width": "",
            "handle_color": null
          }
        },
        "ecc61c1b47654cc8a3ac9235bac655b5": {
          "model_module": "@jupyter-widgets/base",
          "model_name": "LayoutModel",
          "model_module_version": "1.2.0",
          "state": {
            "_model_module": "@jupyter-widgets/base",
            "_model_module_version": "1.2.0",
            "_model_name": "LayoutModel",
            "_view_count": null,
            "_view_module": "@jupyter-widgets/base",
            "_view_module_version": "1.2.0",
            "_view_name": "LayoutView",
            "align_content": null,
            "align_items": null,
            "align_self": null,
            "border": null,
            "bottom": null,
            "display": null,
            "flex": null,
            "flex_flow": null,
            "grid_area": null,
            "grid_auto_columns": null,
            "grid_auto_flow": null,
            "grid_auto_rows": null,
            "grid_column": null,
            "grid_gap": null,
            "grid_row": null,
            "grid_template_areas": null,
            "grid_template_columns": null,
            "grid_template_rows": null,
            "height": null,
            "justify_content": null,
            "justify_items": null,
            "left": null,
            "margin": null,
            "max_height": null,
            "max_width": null,
            "min_height": null,
            "min_width": null,
            "object_fit": null,
            "object_position": null,
            "order": null,
            "overflow": null,
            "overflow_x": null,
            "overflow_y": null,
            "padding": null,
            "right": null,
            "top": null,
            "visibility": null,
            "width": null
          }
        },
        "9568685a2f3449958174498d62d3b2b5": {
          "model_module": "@jupyter-widgets/controls",
          "model_name": "SliderStyleModel",
          "model_module_version": "1.5.0",
          "state": {
            "_model_module": "@jupyter-widgets/controls",
            "_model_module_version": "1.5.0",
            "_model_name": "SliderStyleModel",
            "_view_count": null,
            "_view_module": "@jupyter-widgets/base",
            "_view_module_version": "1.2.0",
            "_view_name": "StyleView",
            "description_width": "",
            "handle_color": null
          }
        },
        "6af46d412f1d4ae4a0967c075e6b2103": {
          "model_module": "@jupyter-widgets/base",
          "model_name": "LayoutModel",
          "model_module_version": "1.2.0",
          "state": {
            "_model_module": "@jupyter-widgets/base",
            "_model_module_version": "1.2.0",
            "_model_name": "LayoutModel",
            "_view_count": null,
            "_view_module": "@jupyter-widgets/base",
            "_view_module_version": "1.2.0",
            "_view_name": "LayoutView",
            "align_content": null,
            "align_items": null,
            "align_self": null,
            "border": null,
            "bottom": null,
            "display": null,
            "flex": null,
            "flex_flow": null,
            "grid_area": null,
            "grid_auto_columns": null,
            "grid_auto_flow": null,
            "grid_auto_rows": null,
            "grid_column": null,
            "grid_gap": null,
            "grid_row": null,
            "grid_template_areas": null,
            "grid_template_columns": null,
            "grid_template_rows": null,
            "height": null,
            "justify_content": null,
            "justify_items": null,
            "left": null,
            "margin": null,
            "max_height": null,
            "max_width": null,
            "min_height": null,
            "min_width": null,
            "object_fit": null,
            "object_position": null,
            "order": null,
            "overflow": null,
            "overflow_x": null,
            "overflow_y": null,
            "padding": null,
            "right": null,
            "top": null,
            "visibility": null,
            "width": null
          }
        },
        "29ae5187e3284936a7fca0a7b53dfdaf": {
          "model_module": "@jupyter-widgets/controls",
          "model_name": "DescriptionStyleModel",
          "model_module_version": "1.5.0",
          "state": {
            "_model_module": "@jupyter-widgets/controls",
            "_model_module_version": "1.5.0",
            "_model_name": "DescriptionStyleModel",
            "_view_count": null,
            "_view_module": "@jupyter-widgets/base",
            "_view_module_version": "1.2.0",
            "_view_name": "StyleView",
            "description_width": ""
          }
        },
        "bb047f6fbe824761844829ef5a99e5be": {
          "model_module": "@jupyter-widgets/base",
          "model_name": "LayoutModel",
          "model_module_version": "1.2.0",
          "state": {
            "_model_module": "@jupyter-widgets/base",
            "_model_module_version": "1.2.0",
            "_model_name": "LayoutModel",
            "_view_count": null,
            "_view_module": "@jupyter-widgets/base",
            "_view_module_version": "1.2.0",
            "_view_name": "LayoutView",
            "align_content": null,
            "align_items": null,
            "align_self": null,
            "border": null,
            "bottom": null,
            "display": null,
            "flex": null,
            "flex_flow": null,
            "grid_area": null,
            "grid_auto_columns": null,
            "grid_auto_flow": null,
            "grid_auto_rows": null,
            "grid_column": null,
            "grid_gap": null,
            "grid_row": null,
            "grid_template_areas": null,
            "grid_template_columns": null,
            "grid_template_rows": null,
            "height": null,
            "justify_content": null,
            "justify_items": null,
            "left": null,
            "margin": null,
            "max_height": null,
            "max_width": null,
            "min_height": null,
            "min_width": null,
            "object_fit": null,
            "object_position": null,
            "order": null,
            "overflow": null,
            "overflow_x": null,
            "overflow_y": null,
            "padding": null,
            "right": null,
            "top": null,
            "visibility": null,
            "width": null
          }
        }
      }
    }
  },
  "cells": [
    {
      "cell_type": "markdown",
      "source": [
        "Goals ⛪\n",
        "\n",
        "predicting aparment price in Mexico city depaned on four features\n",
        "\n",
        "\n",
        "\n",
        "     ['surface_covered_in_m2', 'lat', 'lon', 'borough']\n",
        "\n",
        "\n",
        "---\n",
        "\n",
        "\n",
        "Algorithms Used\n",
        "\n",
        "    Linear Regression\n",
        "    Ridge\n"
      ],
      "metadata": {
        "id": "SDOlMbL7BvdG"
      }
    },
    {
      "cell_type": "markdown",
      "source": [
        "# **`Tasks`**\n",
        "1. Subset the data in the CSV file and return only apartments in Mexico City (`\"Distrito Federal\"`) that cost less than \\$100,000.\n",
        "2. Remove outliers by trimming the bottom and top 10\\% of properties in terms of `\"surface_covered_in_m2\"`.\n",
        "3. Create separate `\"lat\"` and `\"lon\"` columns.\n",
        "4. Mexico City is divided into [15 boroughs](https://en.wikipedia.org/wiki/Boroughs_of_Mexico_City). Create a `\"borough\"` feature from the `\"place_with_parent_names\"` column.\n",
        "5. Drop columns that are more than 50\\% null values.\n",
        "6. Drop columns containing low- or high-cardinality categorical values. \n",
        "7. Drop any columns that would constitute leakage for the target `\"price_aprox_usd\"`.\n"
      ],
      "metadata": {
        "id": "Pneb_jafaxNl"
      }
    },
    {
      "cell_type": "markdown",
      "source": [
        "\n",
        "\n",
        "\n",
        "> **1-Import libraries**\n",
        "\n"
      ],
      "metadata": {
        "id": "lpQYVWDIUZDW"
      }
    },
    {
      "cell_type": "code",
      "source": [
        "!pip install category_encoders\n",
        "import cartopy"
      ],
      "metadata": {
        "colab": {
          "base_uri": "https://localhost:8080/"
        },
        "id": "2s3Qs81J0_2F",
        "outputId": "b24ce4a0-6535-4eda-8f2f-b1c29e794737"
      },
      "execution_count": 55,
      "outputs": [
        {
          "output_type": "stream",
          "name": "stdout",
          "text": [
            "Looking in indexes: https://pypi.org/simple, https://us-python.pkg.dev/colab-wheels/public/simple/\n",
            "Collecting category_encoders\n",
            "  Downloading category_encoders-2.6.0-py2.py3-none-any.whl (81 kB)\n",
            "\u001b[?25l     \u001b[90m━━━━━━━━━━━━━━━━━━━━━━━━━━━━━━━━━━━━━━━━\u001b[0m \u001b[32m0.0/81.2 KB\u001b[0m \u001b[31m?\u001b[0m eta \u001b[36m-:--:--\u001b[0m\r\u001b[2K     \u001b[90m━━━━━━━━━━━━━━━━━━━━━━━━━━━━━━━━━━━━━━━━\u001b[0m \u001b[32m81.2/81.2 KB\u001b[0m \u001b[31m3.9 MB/s\u001b[0m eta \u001b[36m0:00:00\u001b[0m\n",
            "\u001b[?25hRequirement already satisfied: statsmodels>=0.9.0 in /usr/local/lib/python3.9/dist-packages (from category_encoders) (0.13.5)\n",
            "Requirement already satisfied: scikit-learn>=0.20.0 in /usr/local/lib/python3.9/dist-packages (from category_encoders) (1.2.2)\n",
            "Requirement already satisfied: scipy>=1.0.0 in /usr/local/lib/python3.9/dist-packages (from category_encoders) (1.10.1)\n",
            "Requirement already satisfied: patsy>=0.5.1 in /usr/local/lib/python3.9/dist-packages (from category_encoders) (0.5.3)\n",
            "Requirement already satisfied: numpy>=1.14.0 in /usr/local/lib/python3.9/dist-packages (from category_encoders) (1.22.4)\n",
            "Requirement already satisfied: pandas>=1.0.5 in /usr/local/lib/python3.9/dist-packages (from category_encoders) (1.4.4)\n",
            "Requirement already satisfied: python-dateutil>=2.8.1 in /usr/local/lib/python3.9/dist-packages (from pandas>=1.0.5->category_encoders) (2.8.2)\n",
            "Requirement already satisfied: pytz>=2020.1 in /usr/local/lib/python3.9/dist-packages (from pandas>=1.0.5->category_encoders) (2022.7.1)\n",
            "Requirement already satisfied: six in /usr/local/lib/python3.9/dist-packages (from patsy>=0.5.1->category_encoders) (1.16.0)\n",
            "Requirement already satisfied: joblib>=1.1.1 in /usr/local/lib/python3.9/dist-packages (from scikit-learn>=0.20.0->category_encoders) (1.1.1)\n",
            "Requirement already satisfied: threadpoolctl>=2.0.0 in /usr/local/lib/python3.9/dist-packages (from scikit-learn>=0.20.0->category_encoders) (3.1.0)\n",
            "Requirement already satisfied: packaging>=21.3 in /usr/local/lib/python3.9/dist-packages (from statsmodels>=0.9.0->category_encoders) (23.0)\n",
            "Installing collected packages: category_encoders\n",
            "Successfully installed category_encoders-2.6.0\n"
          ]
        }
      ]
    },
    {
      "cell_type": "code",
      "source": [
        "#Read data libraries\n",
        "import pandas as pd\n",
        "import numpy as np\n",
        "#Data Visulalization libraries \n",
        "import plotly.express as px\n",
        "import matplotlib.pyplot as plt\n",
        "import seaborn as sns\n",
        "# Data preprocessing libraries\n",
        "from category_encoders import OneHotEncoder\n",
        "from sklearn.compose import ColumnTransformer\n",
        "from sklearn.impute import SimpleImputer\n",
        "# split data library\n",
        "from sklearn.model_selection import train_test_split\n",
        "# model libraries\n",
        "\n",
        "from ipywidgets import Dropdown, FloatSlider, IntSlider, interact\n",
        "from sklearn.linear_model import LinearRegression, Ridge\n",
        "from sklearn.metrics import mean_absolute_error\n",
        "from sklearn.pipeline import make_pipeline\n"
      ],
      "metadata": {
        "id": "pnRZ2ICsVCor"
      },
      "execution_count": 56,
      "outputs": []
    },
    {
      "cell_type": "markdown",
      "source": [
        "\n",
        "\n",
        "> **2-Read data**\n",
        "\n"
      ],
      "metadata": {
        "id": "hZ-saDB3Vz41"
      }
    },
    {
      "cell_type": "code",
      "source": [
        "from google.colab import drive\n",
        "drive.mount('/content/drive')"
      ],
      "metadata": {
        "colab": {
          "base_uri": "https://localhost:8080/"
        },
        "id": "t-7xNNxQWAx2",
        "outputId": "774872d1-8942-4306-dc05-d6eea2a78723"
      },
      "execution_count": 3,
      "outputs": [
        {
          "output_type": "stream",
          "name": "stdout",
          "text": [
            "Mounted at /content/drive\n"
          ]
        }
      ]
    },
    {
      "cell_type": "code",
      "source": [
        "df= pd.read_csv(\"/content/drive/MyDrive/mexico house/mexico-city-real-estate-1.csv\")\n",
        "df.head()"
      ],
      "metadata": {
        "colab": {
          "base_uri": "https://localhost:8080/",
          "height": 374
        },
        "id": "51MV7xdSWkpd",
        "outputId": "0567be97-10d0-4996-ae12-0c6f632cb33d"
      },
      "execution_count": 4,
      "outputs": [
        {
          "output_type": "execute_result",
          "data": {
            "text/plain": [
              "   Unnamed: 0 operation property_type  \\\n",
              "0           1      sell     apartment   \n",
              "1           2      sell         house   \n",
              "2           3      sell     apartment   \n",
              "3           4      sell     apartment   \n",
              "4           5      sell     apartment   \n",
              "\n",
              "                    place_with_parent_names                 lat-lon  \\\n",
              "0  |Miguel Hidalgo|Distrito Federal|México|   23.634501,-102.552788   \n",
              "1      |Iztapalapa|Distrito Federal|México|     19.31033,-99.068557   \n",
              "2         |Tlalpan|Distrito Federal|México|    19.279771,-99.234597   \n",
              "3  |Miguel Hidalgo|Distrito Federal|México|   23.634501,-102.552788   \n",
              "4       |Benito Juárez|Quintana Roo|México|  21.1902642,-86.8198375   \n",
              "\n",
              "       price currency  price_aprox_local_currency  price_aprox_usd  \\\n",
              "0  5500000.0      MXN                  5450245.50        289775.66   \n",
              "1  1512000.0      MXN                  1498321.97         79661.96   \n",
              "2   926667.0      MXN                   918284.00         48822.82   \n",
              "3  6410000.0      MXN                  6352013.39        337720.36   \n",
              "4   875000.0      USD                 16457437.50        875000.00   \n",
              "\n",
              "   surface_total_in_m2  surface_covered_in_m2  price_usd_per_m2  \\\n",
              "0                  NaN                   54.0               NaN   \n",
              "1                  NaN                   80.0               NaN   \n",
              "2                  NaN                  100.0               NaN   \n",
              "3                  NaN                  135.0               NaN   \n",
              "4                  0.0                  263.0               NaN   \n",
              "\n",
              "    price_per_m2  floor  rooms  expenses  \\\n",
              "0  101851.851900    NaN    NaN       NaN   \n",
              "1   18900.000000    NaN    NaN       NaN   \n",
              "2    9266.670000    NaN    NaN       NaN   \n",
              "3   47481.481480    NaN    NaN       NaN   \n",
              "4    3326.996198    NaN    NaN       NaN   \n",
              "\n",
              "                                       properati_url  \n",
              "0  http://miguel-hidalgo-df.properati.com.mx/o3zb...  \n",
              "1  http://iztapalapa.properati.com.mx/q7t0_venta_...  \n",
              "2  http://tlalpan.properati.com.mx/qbi4_venta_dep...  \n",
              "3  http://miguel-hidalgo-df.properati.com.mx/opeq...  \n",
              "4  http://cancun.properati.com.mx/hg4t_venta_depa...  "
            ],
            "text/html": [
              "\n",
              "  <div id=\"df-61932658-d561-41e8-aaa6-83a453527a89\">\n",
              "    <div class=\"colab-df-container\">\n",
              "      <div>\n",
              "<style scoped>\n",
              "    .dataframe tbody tr th:only-of-type {\n",
              "        vertical-align: middle;\n",
              "    }\n",
              "\n",
              "    .dataframe tbody tr th {\n",
              "        vertical-align: top;\n",
              "    }\n",
              "\n",
              "    .dataframe thead th {\n",
              "        text-align: right;\n",
              "    }\n",
              "</style>\n",
              "<table border=\"1\" class=\"dataframe\">\n",
              "  <thead>\n",
              "    <tr style=\"text-align: right;\">\n",
              "      <th></th>\n",
              "      <th>Unnamed: 0</th>\n",
              "      <th>operation</th>\n",
              "      <th>property_type</th>\n",
              "      <th>place_with_parent_names</th>\n",
              "      <th>lat-lon</th>\n",
              "      <th>price</th>\n",
              "      <th>currency</th>\n",
              "      <th>price_aprox_local_currency</th>\n",
              "      <th>price_aprox_usd</th>\n",
              "      <th>surface_total_in_m2</th>\n",
              "      <th>surface_covered_in_m2</th>\n",
              "      <th>price_usd_per_m2</th>\n",
              "      <th>price_per_m2</th>\n",
              "      <th>floor</th>\n",
              "      <th>rooms</th>\n",
              "      <th>expenses</th>\n",
              "      <th>properati_url</th>\n",
              "    </tr>\n",
              "  </thead>\n",
              "  <tbody>\n",
              "    <tr>\n",
              "      <th>0</th>\n",
              "      <td>1</td>\n",
              "      <td>sell</td>\n",
              "      <td>apartment</td>\n",
              "      <td>|Miguel Hidalgo|Distrito Federal|México|</td>\n",
              "      <td>23.634501,-102.552788</td>\n",
              "      <td>5500000.0</td>\n",
              "      <td>MXN</td>\n",
              "      <td>5450245.50</td>\n",
              "      <td>289775.66</td>\n",
              "      <td>NaN</td>\n",
              "      <td>54.0</td>\n",
              "      <td>NaN</td>\n",
              "      <td>101851.851900</td>\n",
              "      <td>NaN</td>\n",
              "      <td>NaN</td>\n",
              "      <td>NaN</td>\n",
              "      <td>http://miguel-hidalgo-df.properati.com.mx/o3zb...</td>\n",
              "    </tr>\n",
              "    <tr>\n",
              "      <th>1</th>\n",
              "      <td>2</td>\n",
              "      <td>sell</td>\n",
              "      <td>house</td>\n",
              "      <td>|Iztapalapa|Distrito Federal|México|</td>\n",
              "      <td>19.31033,-99.068557</td>\n",
              "      <td>1512000.0</td>\n",
              "      <td>MXN</td>\n",
              "      <td>1498321.97</td>\n",
              "      <td>79661.96</td>\n",
              "      <td>NaN</td>\n",
              "      <td>80.0</td>\n",
              "      <td>NaN</td>\n",
              "      <td>18900.000000</td>\n",
              "      <td>NaN</td>\n",
              "      <td>NaN</td>\n",
              "      <td>NaN</td>\n",
              "      <td>http://iztapalapa.properati.com.mx/q7t0_venta_...</td>\n",
              "    </tr>\n",
              "    <tr>\n",
              "      <th>2</th>\n",
              "      <td>3</td>\n",
              "      <td>sell</td>\n",
              "      <td>apartment</td>\n",
              "      <td>|Tlalpan|Distrito Federal|México|</td>\n",
              "      <td>19.279771,-99.234597</td>\n",
              "      <td>926667.0</td>\n",
              "      <td>MXN</td>\n",
              "      <td>918284.00</td>\n",
              "      <td>48822.82</td>\n",
              "      <td>NaN</td>\n",
              "      <td>100.0</td>\n",
              "      <td>NaN</td>\n",
              "      <td>9266.670000</td>\n",
              "      <td>NaN</td>\n",
              "      <td>NaN</td>\n",
              "      <td>NaN</td>\n",
              "      <td>http://tlalpan.properati.com.mx/qbi4_venta_dep...</td>\n",
              "    </tr>\n",
              "    <tr>\n",
              "      <th>3</th>\n",
              "      <td>4</td>\n",
              "      <td>sell</td>\n",
              "      <td>apartment</td>\n",
              "      <td>|Miguel Hidalgo|Distrito Federal|México|</td>\n",
              "      <td>23.634501,-102.552788</td>\n",
              "      <td>6410000.0</td>\n",
              "      <td>MXN</td>\n",
              "      <td>6352013.39</td>\n",
              "      <td>337720.36</td>\n",
              "      <td>NaN</td>\n",
              "      <td>135.0</td>\n",
              "      <td>NaN</td>\n",
              "      <td>47481.481480</td>\n",
              "      <td>NaN</td>\n",
              "      <td>NaN</td>\n",
              "      <td>NaN</td>\n",
              "      <td>http://miguel-hidalgo-df.properati.com.mx/opeq...</td>\n",
              "    </tr>\n",
              "    <tr>\n",
              "      <th>4</th>\n",
              "      <td>5</td>\n",
              "      <td>sell</td>\n",
              "      <td>apartment</td>\n",
              "      <td>|Benito Juárez|Quintana Roo|México|</td>\n",
              "      <td>21.1902642,-86.8198375</td>\n",
              "      <td>875000.0</td>\n",
              "      <td>USD</td>\n",
              "      <td>16457437.50</td>\n",
              "      <td>875000.00</td>\n",
              "      <td>0.0</td>\n",
              "      <td>263.0</td>\n",
              "      <td>NaN</td>\n",
              "      <td>3326.996198</td>\n",
              "      <td>NaN</td>\n",
              "      <td>NaN</td>\n",
              "      <td>NaN</td>\n",
              "      <td>http://cancun.properati.com.mx/hg4t_venta_depa...</td>\n",
              "    </tr>\n",
              "  </tbody>\n",
              "</table>\n",
              "</div>\n",
              "      <button class=\"colab-df-convert\" onclick=\"convertToInteractive('df-61932658-d561-41e8-aaa6-83a453527a89')\"\n",
              "              title=\"Convert this dataframe to an interactive table.\"\n",
              "              style=\"display:none;\">\n",
              "        \n",
              "  <svg xmlns=\"http://www.w3.org/2000/svg\" height=\"24px\"viewBox=\"0 0 24 24\"\n",
              "       width=\"24px\">\n",
              "    <path d=\"M0 0h24v24H0V0z\" fill=\"none\"/>\n",
              "    <path d=\"M18.56 5.44l.94 2.06.94-2.06 2.06-.94-2.06-.94-.94-2.06-.94 2.06-2.06.94zm-11 1L8.5 8.5l.94-2.06 2.06-.94-2.06-.94L8.5 2.5l-.94 2.06-2.06.94zm10 10l.94 2.06.94-2.06 2.06-.94-2.06-.94-.94-2.06-.94 2.06-2.06.94z\"/><path d=\"M17.41 7.96l-1.37-1.37c-.4-.4-.92-.59-1.43-.59-.52 0-1.04.2-1.43.59L10.3 9.45l-7.72 7.72c-.78.78-.78 2.05 0 2.83L4 21.41c.39.39.9.59 1.41.59.51 0 1.02-.2 1.41-.59l7.78-7.78 2.81-2.81c.8-.78.8-2.07 0-2.86zM5.41 20L4 18.59l7.72-7.72 1.47 1.35L5.41 20z\"/>\n",
              "  </svg>\n",
              "      </button>\n",
              "      \n",
              "  <style>\n",
              "    .colab-df-container {\n",
              "      display:flex;\n",
              "      flex-wrap:wrap;\n",
              "      gap: 12px;\n",
              "    }\n",
              "\n",
              "    .colab-df-convert {\n",
              "      background-color: #E8F0FE;\n",
              "      border: none;\n",
              "      border-radius: 50%;\n",
              "      cursor: pointer;\n",
              "      display: none;\n",
              "      fill: #1967D2;\n",
              "      height: 32px;\n",
              "      padding: 0 0 0 0;\n",
              "      width: 32px;\n",
              "    }\n",
              "\n",
              "    .colab-df-convert:hover {\n",
              "      background-color: #E2EBFA;\n",
              "      box-shadow: 0px 1px 2px rgba(60, 64, 67, 0.3), 0px 1px 3px 1px rgba(60, 64, 67, 0.15);\n",
              "      fill: #174EA6;\n",
              "    }\n",
              "\n",
              "    [theme=dark] .colab-df-convert {\n",
              "      background-color: #3B4455;\n",
              "      fill: #D2E3FC;\n",
              "    }\n",
              "\n",
              "    [theme=dark] .colab-df-convert:hover {\n",
              "      background-color: #434B5C;\n",
              "      box-shadow: 0px 1px 3px 1px rgba(0, 0, 0, 0.15);\n",
              "      filter: drop-shadow(0px 1px 2px rgba(0, 0, 0, 0.3));\n",
              "      fill: #FFFFFF;\n",
              "    }\n",
              "  </style>\n",
              "\n",
              "      <script>\n",
              "        const buttonEl =\n",
              "          document.querySelector('#df-61932658-d561-41e8-aaa6-83a453527a89 button.colab-df-convert');\n",
              "        buttonEl.style.display =\n",
              "          google.colab.kernel.accessAllowed ? 'block' : 'none';\n",
              "\n",
              "        async function convertToInteractive(key) {\n",
              "          const element = document.querySelector('#df-61932658-d561-41e8-aaa6-83a453527a89');\n",
              "          const dataTable =\n",
              "            await google.colab.kernel.invokeFunction('convertToInteractive',\n",
              "                                                     [key], {});\n",
              "          if (!dataTable) return;\n",
              "\n",
              "          const docLinkHtml = 'Like what you see? Visit the ' +\n",
              "            '<a target=\"_blank\" href=https://colab.research.google.com/notebooks/data_table.ipynb>data table notebook</a>'\n",
              "            + ' to learn more about interactive tables.';\n",
              "          element.innerHTML = '';\n",
              "          dataTable['output_type'] = 'display_data';\n",
              "          await google.colab.output.renderOutput(dataTable, element);\n",
              "          const docLink = document.createElement('div');\n",
              "          docLink.innerHTML = docLinkHtml;\n",
              "          element.appendChild(docLink);\n",
              "        }\n",
              "      </script>\n",
              "    </div>\n",
              "  </div>\n",
              "  "
            ]
          },
          "metadata": {},
          "execution_count": 4
        }
      ]
    },
    {
      "cell_type": "code",
      "source": [
        "df.info()"
      ],
      "metadata": {
        "colab": {
          "base_uri": "https://localhost:8080/"
        },
        "id": "DYbMsj4FXROB",
        "outputId": "418fbba5-cf41-41b1-e45c-03b74b89af58"
      },
      "execution_count": 5,
      "outputs": [
        {
          "output_type": "stream",
          "name": "stdout",
          "text": [
            "<class 'pandas.core.frame.DataFrame'>\n",
            "RangeIndex: 4628 entries, 0 to 4627\n",
            "Data columns (total 17 columns):\n",
            " #   Column                      Non-Null Count  Dtype  \n",
            "---  ------                      --------------  -----  \n",
            " 0   Unnamed: 0                  4628 non-null   int64  \n",
            " 1   operation                   4628 non-null   object \n",
            " 2   property_type               4628 non-null   object \n",
            " 3   place_with_parent_names     4628 non-null   object \n",
            " 4   lat-lon                     4144 non-null   object \n",
            " 5   price                       4538 non-null   float64\n",
            " 6   currency                    4538 non-null   object \n",
            " 7   price_aprox_local_currency  4538 non-null   float64\n",
            " 8   price_aprox_usd             4538 non-null   float64\n",
            " 9   surface_total_in_m2         1668 non-null   float64\n",
            " 10  surface_covered_in_m2       4436 non-null   float64\n",
            " 11  price_usd_per_m2            1150 non-null   float64\n",
            " 12  price_per_m2                4249 non-null   float64\n",
            " 13  floor                       291 non-null    float64\n",
            " 14  rooms                       136 non-null    float64\n",
            " 15  expenses                    5 non-null      float64\n",
            " 16  properati_url               4628 non-null   object \n",
            "dtypes: float64(10), int64(1), object(6)\n",
            "memory usage: 614.8+ KB\n"
          ]
        }
      ]
    },
    {
      "cell_type": "markdown",
      "source": [
        "\n",
        "\n",
        "> **3-Data Preparation**\n",
        "\n"
      ],
      "metadata": {
        "id": "S21irkYdbNj-"
      }
    },
    {
      "cell_type": "code",
      "source": [
        "df.drop(columns = [\"Unnamed: 0\"], inplace = True)"
      ],
      "metadata": {
        "id": "g2PmSFK19Iol"
      },
      "execution_count": 6,
      "outputs": []
    },
    {
      "cell_type": "code",
      "source": [
        "df[\"place_with_parent_names\"].head(10)"
      ],
      "metadata": {
        "colab": {
          "base_uri": "https://localhost:8080/"
        },
        "id": "tVq_35dXcAtn",
        "outputId": "947400a1-bb21-4eb5-f4a4-c08538f73348"
      },
      "execution_count": 7,
      "outputs": [
        {
          "output_type": "execute_result",
          "data": {
            "text/plain": [
              "0       |Miguel Hidalgo|Distrito Federal|México|\n",
              "1           |Iztapalapa|Distrito Federal|México|\n",
              "2              |Tlalpan|Distrito Federal|México|\n",
              "3       |Miguel Hidalgo|Distrito Federal|México|\n",
              "4            |Benito Juárez|Quintana Roo|México|\n",
              "5       |Miguel Hidalgo|Distrito Federal|México|\n",
              "6        |Benito Juárez|Distrito Federal|México|\n",
              "7       |Álvaro Obregón|Distrito Federal|México|\n",
              "8    |Gustavo A. Madero|Distrito Federal|México|\n",
              "9            |Benito Juárez|Quintana Roo|México|\n",
              "Name: place_with_parent_names, dtype: object"
            ]
          },
          "metadata": {},
          "execution_count": 7
        }
      ]
    },
    {
      "cell_type": "code",
      "source": [
        "#Subset the data in the CSV file and return only apartments in Mexico City (\"Distrito Federal\") that cost less than $100,000.\n",
        "mask_apt = df[\"place_with_parent_names\"].str.contains(\"Distrito Federal\")\n",
        "mask_price = df['price_aprox_usd'] < 100000\n",
        "mask_prt = df['property_type'] == \"apartment\"\n",
        "df = df[mask_apt & mask_price & mask_prt]\n",
        "df.head()"
      ],
      "metadata": {
        "colab": {
          "base_uri": "https://localhost:8080/",
          "height": 409
        },
        "id": "O5esw6j_bhdB",
        "outputId": "8937fb18-5e2e-4b88-c38f-0fe026b72360"
      },
      "execution_count": 8,
      "outputs": [
        {
          "output_type": "execute_result",
          "data": {
            "text/plain": [
              "   operation property_type                  place_with_parent_names  \\\n",
              "2       sell     apartment        |Tlalpan|Distrito Federal|México|   \n",
              "11      sell     apartment  |Benito Juárez|Distrito Federal|México|   \n",
              "14      sell     apartment  |Benito Juárez|Distrito Federal|México|   \n",
              "20      sell     apartment      |Iztacalco|Distrito Federal|México|   \n",
              "21      sell     apartment  |Benito Juárez|Distrito Federal|México|   \n",
              "\n",
              "                   lat-lon      price currency  price_aprox_local_currency  \\\n",
              "2     19.279771,-99.234597   926667.0      MXN                   918284.00   \n",
              "11   23.634501,-102.552788  1784569.0      MXN                  1768425.20   \n",
              "14     19.36269,-99.150565  1260000.0      MXN                  1248601.52   \n",
              "20  19.4024128,-99.0953907  1345000.0      MXN                  1333148.73   \n",
              "21     19.35782,-99.149406  1295000.0      MXN                  1283284.95   \n",
              "\n",
              "    price_aprox_usd  surface_total_in_m2  surface_covered_in_m2  \\\n",
              "2          48822.82                  NaN                  100.0   \n",
              "11         94022.66                  NaN                   57.0   \n",
              "14         66384.96                  NaN                  103.0   \n",
              "20         70880.12                 56.0                   56.0   \n",
              "21         68228.99                  NaN                   80.0   \n",
              "\n",
              "    price_usd_per_m2  price_per_m2  floor  rooms  expenses  \\\n",
              "2                NaN    9266.67000    NaN    NaN       NaN   \n",
              "11               NaN   31308.22807    NaN    NaN       NaN   \n",
              "14               NaN   12233.00971    NaN    NaN       NaN   \n",
              "20       1265.716429   24017.85714    NaN    NaN       NaN   \n",
              "21               NaN   16187.50000    NaN    NaN       NaN   \n",
              "\n",
              "                                        properati_url  \n",
              "2   http://tlalpan.properati.com.mx/qbi4_venta_dep...  \n",
              "11  http://benito-juarez.properati.com.mx/pdji_ven...  \n",
              "14  http://benito-juarez.properati.com.mx/onph_ven...  \n",
              "20  http://iztacalco.properati.com.mx/r6gm_venta_d...  \n",
              "21  http://benito-juarez.properati.com.mx/qvop_ven...  "
            ],
            "text/html": [
              "\n",
              "  <div id=\"df-e43994a9-0cc3-45ec-9b77-55955a140b91\">\n",
              "    <div class=\"colab-df-container\">\n",
              "      <div>\n",
              "<style scoped>\n",
              "    .dataframe tbody tr th:only-of-type {\n",
              "        vertical-align: middle;\n",
              "    }\n",
              "\n",
              "    .dataframe tbody tr th {\n",
              "        vertical-align: top;\n",
              "    }\n",
              "\n",
              "    .dataframe thead th {\n",
              "        text-align: right;\n",
              "    }\n",
              "</style>\n",
              "<table border=\"1\" class=\"dataframe\">\n",
              "  <thead>\n",
              "    <tr style=\"text-align: right;\">\n",
              "      <th></th>\n",
              "      <th>operation</th>\n",
              "      <th>property_type</th>\n",
              "      <th>place_with_parent_names</th>\n",
              "      <th>lat-lon</th>\n",
              "      <th>price</th>\n",
              "      <th>currency</th>\n",
              "      <th>price_aprox_local_currency</th>\n",
              "      <th>price_aprox_usd</th>\n",
              "      <th>surface_total_in_m2</th>\n",
              "      <th>surface_covered_in_m2</th>\n",
              "      <th>price_usd_per_m2</th>\n",
              "      <th>price_per_m2</th>\n",
              "      <th>floor</th>\n",
              "      <th>rooms</th>\n",
              "      <th>expenses</th>\n",
              "      <th>properati_url</th>\n",
              "    </tr>\n",
              "  </thead>\n",
              "  <tbody>\n",
              "    <tr>\n",
              "      <th>2</th>\n",
              "      <td>sell</td>\n",
              "      <td>apartment</td>\n",
              "      <td>|Tlalpan|Distrito Federal|México|</td>\n",
              "      <td>19.279771,-99.234597</td>\n",
              "      <td>926667.0</td>\n",
              "      <td>MXN</td>\n",
              "      <td>918284.00</td>\n",
              "      <td>48822.82</td>\n",
              "      <td>NaN</td>\n",
              "      <td>100.0</td>\n",
              "      <td>NaN</td>\n",
              "      <td>9266.67000</td>\n",
              "      <td>NaN</td>\n",
              "      <td>NaN</td>\n",
              "      <td>NaN</td>\n",
              "      <td>http://tlalpan.properati.com.mx/qbi4_venta_dep...</td>\n",
              "    </tr>\n",
              "    <tr>\n",
              "      <th>11</th>\n",
              "      <td>sell</td>\n",
              "      <td>apartment</td>\n",
              "      <td>|Benito Juárez|Distrito Federal|México|</td>\n",
              "      <td>23.634501,-102.552788</td>\n",
              "      <td>1784569.0</td>\n",
              "      <td>MXN</td>\n",
              "      <td>1768425.20</td>\n",
              "      <td>94022.66</td>\n",
              "      <td>NaN</td>\n",
              "      <td>57.0</td>\n",
              "      <td>NaN</td>\n",
              "      <td>31308.22807</td>\n",
              "      <td>NaN</td>\n",
              "      <td>NaN</td>\n",
              "      <td>NaN</td>\n",
              "      <td>http://benito-juarez.properati.com.mx/pdji_ven...</td>\n",
              "    </tr>\n",
              "    <tr>\n",
              "      <th>14</th>\n",
              "      <td>sell</td>\n",
              "      <td>apartment</td>\n",
              "      <td>|Benito Juárez|Distrito Federal|México|</td>\n",
              "      <td>19.36269,-99.150565</td>\n",
              "      <td>1260000.0</td>\n",
              "      <td>MXN</td>\n",
              "      <td>1248601.52</td>\n",
              "      <td>66384.96</td>\n",
              "      <td>NaN</td>\n",
              "      <td>103.0</td>\n",
              "      <td>NaN</td>\n",
              "      <td>12233.00971</td>\n",
              "      <td>NaN</td>\n",
              "      <td>NaN</td>\n",
              "      <td>NaN</td>\n",
              "      <td>http://benito-juarez.properati.com.mx/onph_ven...</td>\n",
              "    </tr>\n",
              "    <tr>\n",
              "      <th>20</th>\n",
              "      <td>sell</td>\n",
              "      <td>apartment</td>\n",
              "      <td>|Iztacalco|Distrito Federal|México|</td>\n",
              "      <td>19.4024128,-99.0953907</td>\n",
              "      <td>1345000.0</td>\n",
              "      <td>MXN</td>\n",
              "      <td>1333148.73</td>\n",
              "      <td>70880.12</td>\n",
              "      <td>56.0</td>\n",
              "      <td>56.0</td>\n",
              "      <td>1265.716429</td>\n",
              "      <td>24017.85714</td>\n",
              "      <td>NaN</td>\n",
              "      <td>NaN</td>\n",
              "      <td>NaN</td>\n",
              "      <td>http://iztacalco.properati.com.mx/r6gm_venta_d...</td>\n",
              "    </tr>\n",
              "    <tr>\n",
              "      <th>21</th>\n",
              "      <td>sell</td>\n",
              "      <td>apartment</td>\n",
              "      <td>|Benito Juárez|Distrito Federal|México|</td>\n",
              "      <td>19.35782,-99.149406</td>\n",
              "      <td>1295000.0</td>\n",
              "      <td>MXN</td>\n",
              "      <td>1283284.95</td>\n",
              "      <td>68228.99</td>\n",
              "      <td>NaN</td>\n",
              "      <td>80.0</td>\n",
              "      <td>NaN</td>\n",
              "      <td>16187.50000</td>\n",
              "      <td>NaN</td>\n",
              "      <td>NaN</td>\n",
              "      <td>NaN</td>\n",
              "      <td>http://benito-juarez.properati.com.mx/qvop_ven...</td>\n",
              "    </tr>\n",
              "  </tbody>\n",
              "</table>\n",
              "</div>\n",
              "      <button class=\"colab-df-convert\" onclick=\"convertToInteractive('df-e43994a9-0cc3-45ec-9b77-55955a140b91')\"\n",
              "              title=\"Convert this dataframe to an interactive table.\"\n",
              "              style=\"display:none;\">\n",
              "        \n",
              "  <svg xmlns=\"http://www.w3.org/2000/svg\" height=\"24px\"viewBox=\"0 0 24 24\"\n",
              "       width=\"24px\">\n",
              "    <path d=\"M0 0h24v24H0V0z\" fill=\"none\"/>\n",
              "    <path d=\"M18.56 5.44l.94 2.06.94-2.06 2.06-.94-2.06-.94-.94-2.06-.94 2.06-2.06.94zm-11 1L8.5 8.5l.94-2.06 2.06-.94-2.06-.94L8.5 2.5l-.94 2.06-2.06.94zm10 10l.94 2.06.94-2.06 2.06-.94-2.06-.94-.94-2.06-.94 2.06-2.06.94z\"/><path d=\"M17.41 7.96l-1.37-1.37c-.4-.4-.92-.59-1.43-.59-.52 0-1.04.2-1.43.59L10.3 9.45l-7.72 7.72c-.78.78-.78 2.05 0 2.83L4 21.41c.39.39.9.59 1.41.59.51 0 1.02-.2 1.41-.59l7.78-7.78 2.81-2.81c.8-.78.8-2.07 0-2.86zM5.41 20L4 18.59l7.72-7.72 1.47 1.35L5.41 20z\"/>\n",
              "  </svg>\n",
              "      </button>\n",
              "      \n",
              "  <style>\n",
              "    .colab-df-container {\n",
              "      display:flex;\n",
              "      flex-wrap:wrap;\n",
              "      gap: 12px;\n",
              "    }\n",
              "\n",
              "    .colab-df-convert {\n",
              "      background-color: #E8F0FE;\n",
              "      border: none;\n",
              "      border-radius: 50%;\n",
              "      cursor: pointer;\n",
              "      display: none;\n",
              "      fill: #1967D2;\n",
              "      height: 32px;\n",
              "      padding: 0 0 0 0;\n",
              "      width: 32px;\n",
              "    }\n",
              "\n",
              "    .colab-df-convert:hover {\n",
              "      background-color: #E2EBFA;\n",
              "      box-shadow: 0px 1px 2px rgba(60, 64, 67, 0.3), 0px 1px 3px 1px rgba(60, 64, 67, 0.15);\n",
              "      fill: #174EA6;\n",
              "    }\n",
              "\n",
              "    [theme=dark] .colab-df-convert {\n",
              "      background-color: #3B4455;\n",
              "      fill: #D2E3FC;\n",
              "    }\n",
              "\n",
              "    [theme=dark] .colab-df-convert:hover {\n",
              "      background-color: #434B5C;\n",
              "      box-shadow: 0px 1px 3px 1px rgba(0, 0, 0, 0.15);\n",
              "      filter: drop-shadow(0px 1px 2px rgba(0, 0, 0, 0.3));\n",
              "      fill: #FFFFFF;\n",
              "    }\n",
              "  </style>\n",
              "\n",
              "      <script>\n",
              "        const buttonEl =\n",
              "          document.querySelector('#df-e43994a9-0cc3-45ec-9b77-55955a140b91 button.colab-df-convert');\n",
              "        buttonEl.style.display =\n",
              "          google.colab.kernel.accessAllowed ? 'block' : 'none';\n",
              "\n",
              "        async function convertToInteractive(key) {\n",
              "          const element = document.querySelector('#df-e43994a9-0cc3-45ec-9b77-55955a140b91');\n",
              "          const dataTable =\n",
              "            await google.colab.kernel.invokeFunction('convertToInteractive',\n",
              "                                                     [key], {});\n",
              "          if (!dataTable) return;\n",
              "\n",
              "          const docLinkHtml = 'Like what you see? Visit the ' +\n",
              "            '<a target=\"_blank\" href=https://colab.research.google.com/notebooks/data_table.ipynb>data table notebook</a>'\n",
              "            + ' to learn more about interactive tables.';\n",
              "          element.innerHTML = '';\n",
              "          dataTable['output_type'] = 'display_data';\n",
              "          await google.colab.output.renderOutput(dataTable, element);\n",
              "          const docLink = document.createElement('div');\n",
              "          docLink.innerHTML = docLinkHtml;\n",
              "          element.appendChild(docLink);\n",
              "        }\n",
              "      </script>\n",
              "    </div>\n",
              "  </div>\n",
              "  "
            ]
          },
          "metadata": {},
          "execution_count": 8
        }
      ]
    },
    {
      "cell_type": "code",
      "source": [
        "plt.hist(df[\"price_aprox_usd\"])\n",
        "# Label axes\n",
        "plt.xlabel(\"Price [$]\")\n",
        "plt.ylabel(\"Count\")\n",
        "# Add title\n",
        "plt.title(\"Distribution of Apartment Prices\")"
      ],
      "metadata": {
        "colab": {
          "base_uri": "https://localhost:8080/",
          "height": 490
        },
        "id": "6kdqbsujg2rG",
        "outputId": "8f8e447d-f9bd-48f6-c8a3-ec4fdaa9ca62"
      },
      "execution_count": 15,
      "outputs": [
        {
          "output_type": "execute_result",
          "data": {
            "text/plain": [
              "Text(0.5, 1.0, 'Distribution of Apartment Prices')"
            ]
          },
          "metadata": {},
          "execution_count": 15
        },
        {
          "output_type": "display_data",
          "data": {
            "text/plain": [
              "<Figure size 640x480 with 1 Axes>"
            ],
            "image/png": "[encoded data removed]"
          },
          "metadata": {}
        }
      ]
    },
    {
      "cell_type": "code",
      "source": [
        "#Remove outliers by trimming the bottom and top 10% of properties in terms of \"surface_covered_in_m2\".\n",
        "low, high = df[\"surface_covered_in_m2\"].quantile([0.1, 0.9])\n",
        "mask_area = df[\"surface_covered_in_m2\"].between(low, high)\n",
        "df = df[mask_area]"
      ],
      "metadata": {
        "id": "n52kUMf4c54M"
      },
      "execution_count": 16,
      "outputs": []
    },
    {
      "cell_type": "code",
      "source": [
        "#Create separate \"lat\" and \"lon\" columns\n",
        "# Split \"lat-lon\" into 2 separate features \"lat\" and \"lon\"\n",
        "df[[\"lat\", \"lon\"]] = df[\"lat-lon\"].str.split(\",\", expand = True).astype(float)\n",
        "df.drop(columns = [\"lat-lon\"], inplace = True)\n",
        "df.head()\n"
      ],
      "metadata": {
        "colab": {
          "base_uri": "https://localhost:8080/",
          "height": 409
        },
        "id": "lBBDpesfkXh3",
        "outputId": "81742489-c753-4096-c6ff-7632c7cee8ad"
      },
      "execution_count": 17,
      "outputs": [
        {
          "output_type": "execute_result",
          "data": {
            "text/plain": [
              "   operation property_type                  place_with_parent_names  \\\n",
              "11      sell     apartment  |Benito Juárez|Distrito Federal|México|   \n",
              "20      sell     apartment      |Iztacalco|Distrito Federal|México|   \n",
              "21      sell     apartment  |Benito Juárez|Distrito Federal|México|   \n",
              "22      sell     apartment   |Azcapotzalco|Distrito Federal|México|   \n",
              "26      sell     apartment       |Coyoacán|Distrito Federal|México|   \n",
              "\n",
              "        price currency  price_aprox_local_currency  price_aprox_usd  \\\n",
              "11  1784569.0      MXN                  1768425.20         94022.66   \n",
              "20  1345000.0      MXN                  1333148.73         70880.12   \n",
              "21  1295000.0      MXN                  1283284.95         68228.99   \n",
              "22   460000.0      MXN                   455838.66         24235.78   \n",
              "26  1786800.0      MXN                  1770635.95         94140.20   \n",
              "\n",
              "    surface_total_in_m2  surface_covered_in_m2  price_usd_per_m2  \\\n",
              "11                  NaN                   57.0               NaN   \n",
              "20                 56.0                   56.0       1265.716429   \n",
              "21                  NaN                   80.0               NaN   \n",
              "22                  NaN                   60.0               NaN   \n",
              "26                  NaN                   50.0               NaN   \n",
              "\n",
              "    price_per_m2  floor  rooms  expenses  \\\n",
              "11  31308.228070    NaN    NaN       NaN   \n",
              "20  24017.857140    NaN    NaN       NaN   \n",
              "21  16187.500000    NaN    NaN       NaN   \n",
              "22   7666.666667    NaN    NaN       NaN   \n",
              "26  35736.000000    NaN    NaN       NaN   \n",
              "\n",
              "                                        properati_url        lat         lon  \n",
              "11  http://benito-juarez.properati.com.mx/pdji_ven...  23.634501 -102.552788  \n",
              "20  http://iztacalco.properati.com.mx/r6gm_venta_d...  19.402413  -99.095391  \n",
              "21  http://benito-juarez.properati.com.mx/qvop_ven...  19.357820  -99.149406  \n",
              "22  http://prados-del-rosario.properati.com.mx/qba...  19.504985  -99.208557  \n",
              "26  http://prado-churubusco.properati.com.mx/pm05_...  19.354219  -99.126244  "
            ],
            "text/html": [
              "\n",
              "  <div id=\"df-9d1407ac-2f49-4df8-82c0-a610e96bdea9\">\n",
              "    <div class=\"colab-df-container\">\n",
              "      <div>\n",
              "<style scoped>\n",
              "    .dataframe tbody tr th:only-of-type {\n",
              "        vertical-align: middle;\n",
              "    }\n",
              "\n",
              "    .dataframe tbody tr th {\n",
              "        vertical-align: top;\n",
              "    }\n",
              "\n",
              "    .dataframe thead th {\n",
              "        text-align: right;\n",
              "    }\n",
              "</style>\n",
              "<table border=\"1\" class=\"dataframe\">\n",
              "  <thead>\n",
              "    <tr style=\"text-align: right;\">\n",
              "      <th></th>\n",
              "      <th>operation</th>\n",
              "      <th>property_type</th>\n",
              "      <th>place_with_parent_names</th>\n",
              "      <th>price</th>\n",
              "      <th>currency</th>\n",
              "      <th>price_aprox_local_currency</th>\n",
              "      <th>price_aprox_usd</th>\n",
              "      <th>surface_total_in_m2</th>\n",
              "      <th>surface_covered_in_m2</th>\n",
              "      <th>price_usd_per_m2</th>\n",
              "      <th>price_per_m2</th>\n",
              "      <th>floor</th>\n",
              "      <th>rooms</th>\n",
              "      <th>expenses</th>\n",
              "      <th>properati_url</th>\n",
              "      <th>lat</th>\n",
              "      <th>lon</th>\n",
              "    </tr>\n",
              "  </thead>\n",
              "  <tbody>\n",
              "    <tr>\n",
              "      <th>11</th>\n",
              "      <td>sell</td>\n",
              "      <td>apartment</td>\n",
              "      <td>|Benito Juárez|Distrito Federal|México|</td>\n",
              "      <td>1784569.0</td>\n",
              "      <td>MXN</td>\n",
              "      <td>1768425.20</td>\n",
              "      <td>94022.66</td>\n",
              "      <td>NaN</td>\n",
              "      <td>57.0</td>\n",
              "      <td>NaN</td>\n",
              "      <td>31308.228070</td>\n",
              "      <td>NaN</td>\n",
              "      <td>NaN</td>\n",
              "      <td>NaN</td>\n",
              "      <td>http://benito-juarez.properati.com.mx/pdji_ven...</td>\n",
              "      <td>23.634501</td>\n",
              "      <td>-102.552788</td>\n",
              "    </tr>\n",
              "    <tr>\n",
              "      <th>20</th>\n",
              "      <td>sell</td>\n",
              "      <td>apartment</td>\n",
              "      <td>|Iztacalco|Distrito Federal|México|</td>\n",
              "      <td>1345000.0</td>\n",
              "      <td>MXN</td>\n",
              "      <td>1333148.73</td>\n",
              "      <td>70880.12</td>\n",
              "      <td>56.0</td>\n",
              "      <td>56.0</td>\n",
              "      <td>1265.716429</td>\n",
              "      <td>24017.857140</td>\n",
              "      <td>NaN</td>\n",
              "      <td>NaN</td>\n",
              "      <td>NaN</td>\n",
              "      <td>http://iztacalco.properati.com.mx/r6gm_venta_d...</td>\n",
              "      <td>19.402413</td>\n",
              "      <td>-99.095391</td>\n",
              "    </tr>\n",
              "    <tr>\n",
              "      <th>21</th>\n",
              "      <td>sell</td>\n",
              "      <td>apartment</td>\n",
              "      <td>|Benito Juárez|Distrito Federal|México|</td>\n",
              "      <td>1295000.0</td>\n",
              "      <td>MXN</td>\n",
              "      <td>1283284.95</td>\n",
              "      <td>68228.99</td>\n",
              "      <td>NaN</td>\n",
              "      <td>80.0</td>\n",
              "      <td>NaN</td>\n",
              "      <td>16187.500000</td>\n",
              "      <td>NaN</td>\n",
              "      <td>NaN</td>\n",
              "      <td>NaN</td>\n",
              "      <td>http://benito-juarez.properati.com.mx/qvop_ven...</td>\n",
              "      <td>19.357820</td>\n",
              "      <td>-99.149406</td>\n",
              "    </tr>\n",
              "    <tr>\n",
              "      <th>22</th>\n",
              "      <td>sell</td>\n",
              "      <td>apartment</td>\n",
              "      <td>|Azcapotzalco|Distrito Federal|México|</td>\n",
              "      <td>460000.0</td>\n",
              "      <td>MXN</td>\n",
              "      <td>455838.66</td>\n",
              "      <td>24235.78</td>\n",
              "      <td>NaN</td>\n",
              "      <td>60.0</td>\n",
              "      <td>NaN</td>\n",
              "      <td>7666.666667</td>\n",
              "      <td>NaN</td>\n",
              "      <td>NaN</td>\n",
              "      <td>NaN</td>\n",
              "      <td>http://prados-del-rosario.properati.com.mx/qba...</td>\n",
              "      <td>19.504985</td>\n",
              "      <td>-99.208557</td>\n",
              "    </tr>\n",
              "    <tr>\n",
              "      <th>26</th>\n",
              "      <td>sell</td>\n",
              "      <td>apartment</td>\n",
              "      <td>|Coyoacán|Distrito Federal|México|</td>\n",
              "      <td>1786800.0</td>\n",
              "      <td>MXN</td>\n",
              "      <td>1770635.95</td>\n",
              "      <td>94140.20</td>\n",
              "      <td>NaN</td>\n",
              "      <td>50.0</td>\n",
              "      <td>NaN</td>\n",
              "      <td>35736.000000</td>\n",
              "      <td>NaN</td>\n",
              "      <td>NaN</td>\n",
              "      <td>NaN</td>\n",
              "      <td>http://prado-churubusco.properati.com.mx/pm05_...</td>\n",
              "      <td>19.354219</td>\n",
              "      <td>-99.126244</td>\n",
              "    </tr>\n",
              "  </tbody>\n",
              "</table>\n",
              "</div>\n",
              "      <button class=\"colab-df-convert\" onclick=\"convertToInteractive('df-9d1407ac-2f49-4df8-82c0-a610e96bdea9')\"\n",
              "              title=\"Convert this dataframe to an interactive table.\"\n",
              "              style=\"display:none;\">\n",
              "        \n",
              "  <svg xmlns=\"http://www.w3.org/2000/svg\" height=\"24px\"viewBox=\"0 0 24 24\"\n",
              "       width=\"24px\">\n",
              "    <path d=\"M0 0h24v24H0V0z\" fill=\"none\"/>\n",
              "    <path d=\"M18.56 5.44l.94 2.06.94-2.06 2.06-.94-2.06-.94-.94-2.06-.94 2.06-2.06.94zm-11 1L8.5 8.5l.94-2.06 2.06-.94-2.06-.94L8.5 2.5l-.94 2.06-2.06.94zm10 10l.94 2.06.94-2.06 2.06-.94-2.06-.94-.94-2.06-.94 2.06-2.06.94z\"/><path d=\"M17.41 7.96l-1.37-1.37c-.4-.4-.92-.59-1.43-.59-.52 0-1.04.2-1.43.59L10.3 9.45l-7.72 7.72c-.78.78-.78 2.05 0 2.83L4 21.41c.39.39.9.59 1.41.59.51 0 1.02-.2 1.41-.59l7.78-7.78 2.81-2.81c.8-.78.8-2.07 0-2.86zM5.41 20L4 18.59l7.72-7.72 1.47 1.35L5.41 20z\"/>\n",
              "  </svg>\n",
              "      </button>\n",
              "      \n",
              "  <style>\n",
              "    .colab-df-container {\n",
              "      display:flex;\n",
              "      flex-wrap:wrap;\n",
              "      gap: 12px;\n",
              "    }\n",
              "\n",
              "    .colab-df-convert {\n",
              "      background-color: #E8F0FE;\n",
              "      border: none;\n",
              "      border-radius: 50%;\n",
              "      cursor: pointer;\n",
              "      display: none;\n",
              "      fill: #1967D2;\n",
              "      height: 32px;\n",
              "      padding: 0 0 0 0;\n",
              "      width: 32px;\n",
              "    }\n",
              "\n",
              "    .colab-df-convert:hover {\n",
              "      background-color: #E2EBFA;\n",
              "      box-shadow: 0px 1px 2px rgba(60, 64, 67, 0.3), 0px 1px 3px 1px rgba(60, 64, 67, 0.15);\n",
              "      fill: #174EA6;\n",
              "    }\n",
              "\n",
              "    [theme=dark] .colab-df-convert {\n",
              "      background-color: #3B4455;\n",
              "      fill: #D2E3FC;\n",
              "    }\n",
              "\n",
              "    [theme=dark] .colab-df-convert:hover {\n",
              "      background-color: #434B5C;\n",
              "      box-shadow: 0px 1px 3px 1px rgba(0, 0, 0, 0.15);\n",
              "      filter: drop-shadow(0px 1px 2px rgba(0, 0, 0, 0.3));\n",
              "      fill: #FFFFFF;\n",
              "    }\n",
              "  </style>\n",
              "\n",
              "      <script>\n",
              "        const buttonEl =\n",
              "          document.querySelector('#df-9d1407ac-2f49-4df8-82c0-a610e96bdea9 button.colab-df-convert');\n",
              "        buttonEl.style.display =\n",
              "          google.colab.kernel.accessAllowed ? 'block' : 'none';\n",
              "\n",
              "        async function convertToInteractive(key) {\n",
              "          const element = document.querySelector('#df-9d1407ac-2f49-4df8-82c0-a610e96bdea9');\n",
              "          const dataTable =\n",
              "            await google.colab.kernel.invokeFunction('convertToInteractive',\n",
              "                                                     [key], {});\n",
              "          if (!dataTable) return;\n",
              "\n",
              "          const docLinkHtml = 'Like what you see? Visit the ' +\n",
              "            '<a target=\"_blank\" href=https://colab.research.google.com/notebooks/data_table.ipynb>data table notebook</a>'\n",
              "            + ' to learn more about interactive tables.';\n",
              "          element.innerHTML = '';\n",
              "          dataTable['output_type'] = 'display_data';\n",
              "          await google.colab.output.renderOutput(dataTable, element);\n",
              "          const docLink = document.createElement('div');\n",
              "          docLink.innerHTML = docLinkHtml;\n",
              "          element.appendChild(docLink);\n",
              "        }\n",
              "      </script>\n",
              "    </div>\n",
              "  </div>\n",
              "  "
            ]
          },
          "metadata": {},
          "execution_count": 17
        }
      ]
    },
    {
      "cell_type": "code",
      "source": [
        "fig = px.scatter_mapbox(df, lat = \"lat\",lon = \"lon\",width = 1000,height = 400,color = \"price_aprox_usd\",hover_data = [\"price_aprox_usd\"])\n",
        "fig.update_layout(mapbox_style = \"open-street-map\")\n",
        "fig.show()"
      ],
      "metadata": {
        "colab": {
          "base_uri": "https://localhost:8080/",
          "height": 417
        },
        "id": "LlWcitrQ1tIl",
        "outputId": "07ce4581-b8c1-406e-fce6-7ab304c00619"
      },
      "execution_count": 18,
      "outputs": [
        {
          "output_type": "display_data",
          "data": {
            "text/html": [
              "<html>\n",
              "<head><meta charset=\"utf-8\" /></head>\n",
              "<body>\n",
              "    <div>            <script src=\"https://cdnjs.cloudflare.com/ajax/libs/mathjax/2.7.5/MathJax.js?config=TeX-AMS-MML_SVG\"></script><script type=\"text/javascript\">if (window.MathJax && window.MathJax.Hub && window.MathJax.Hub.Config) {window.MathJax.Hub.Config({SVG: {font: \"STIX-Web\"}});}</script>                <script type=\"text/javascript\">window.PlotlyConfig = {MathJaxConfig: 'local'};</script>\n",
              "        <script src=\"https://cdn.plot.ly/plotly-2.18.2.min.js\"></script>                <div id=\"c4365b01-71cc-4b2a-a2ba-cd77d8912fe9\" class=\"plotly-graph-div\" style=\"height:400px; width:1000px;\"></div>            <script type=\"text/javascript\">                                    window.PLOTLYENV=window.PLOTLYENV || {};                                    if (document.getElementById(\"c4365b01-71cc-4b2a-a2ba-cd77d8912fe9\")) {                    Plotly.newPlot(                        \"c4365b01-71cc-4b2a-a2ba-cd77d8912fe9\",                        [{\"customdata\":[[94022.66],[70880.12],[68228.99],[24235.78],[94140.2],[76395.4],[40103.52],[68070.93],[39409.48],[44794.13],[53399.87],[35847.88],[29962.59],[35984.86],[16967.15],[37196.65],[79820.02],[29969.69],[68228.99],[52440.59],[62644.22],[76940.5],[79029.72],[68597.8],[55847.67],[61864.46],[37039.91],[41358.15],[91147.61],[47376.38],[99530.03],[79556.59],[77141.75],[66455.88],[94858.16],[76395.4],[31822.63],[48340.87],[71126.75],[30716.22],[54899.31],[68070.93],[45837.24],[62170.05],[55847.67],[98523.72],[75375.18],[49419.92],[65858.1],[31875.32],[42823.57],[52698.97],[47681.26],[66384.96],[89514.33],[76614.89],[69546.15],[38039.64],[52067.41],[74498.68],[46256.62],[39585.14],[34720.39],[39773.02],[47417.83],[34720.39],[68508.67],[34246.21],[31717.26],[85668.22],[89567.02],[54899.31],[51632.75],[68492.42],[44203.95],[46469.47],[86827.32],[54688.57],[75375.18],[60603.82],[60030.97],[54372.45],[62433.48],[68546.74],[76922.26],[38303.07],[54688.57],[47207.08],[75815.85],[37201.39],[27198.6],[90058.74],[68861.23],[54952.0],[33930.09],[93255.07],[52100.61],[54829.08],[53158.13],[26870.1],[60589.45],[25306.04],[36889.28],[20582.81],[29682.82],[33297.85],[55847.67],[94022.66],[46364.1],[51076.22],[90058.74],[46726.39],[31927.95],[32314.35],[39524.23],[28398.01],[79575.45],[21795.44],[76395.4],[24459.75],[70516.85],[86862.09],[76079.28],[81664.04],[31619.38],[57968.87],[94045.37],[37934.26],[36880.53],[71126.75],[53112.13],[27133.53],[50327.52],[98502.65],[18444.64],[46633.43],[32279.21],[38777.25],[26027.12],[85878.96],[42676.05],[80139.33],[33982.78],[60076.83],[44203.95],[51632.75],[81664.04],[42823.57],[93333.36],[55320.8],[79029.72],[47191.28],[35475.54],[25299.31],[27486.01],[53399.87],[32138.75],[40568.59],[38039.64],[46364.1],[60238.19],[90093.88],[84482.77],[68546.69],[44203.95],[33218.82],[47628.58],[46375.1],[79029.72],[46954.78],[79556.59],[77533.42],[94308.8],[90093.88],[39567.54],[33200.35],[32474.95],[43202.91],[64857.06],[34387.36],[46943.65],[60043.36],[81372.59],[96416.26],[61881.11],[39567.54],[50327.52],[44783.51],[34351.58],[34421.87],[34720.39],[44167.29],[90884.18],[39514.86],[54583.19],[75815.85],[85547.99],[18971.63],[32763.82],[66384.96],[32911.5],[71670.61],[77449.13],[94308.8],[60589.45],[36692.81],[33930.09],[36459.04],[34254.33],[71653.61],[90726.12],[61288.91],[42524.31],[52943.48],[54758.8],[39567.54],[17386.53],[92201.34],[61641.52],[89514.33],[27606.96],[58640.21],[55320.8],[39773.02],[60484.08],[89040.15],[20547.72],[47417.83],[52171.98],[67596.75],[28766.82],[61274.38],[28837.1],[45205.0],[44045.9],[83191.95],[26595.29],[68492.42],[51393.55],[73900.83],[38329.41],[55689.61],[57955.13],[47402.99],[44497.91],[35458.0],[35911.31],[39524.23],[34088.15],[39887.51],[86584.42],[24235.78],[50579.02],[33982.78],[18861.76],[33719.34],[50947.82],[37934.26],[40067.01],[86858.35],[47139.23],[88513.29],[44151.27],[63171.09],[97996.85],[77572.89],[54322.39],[61537.81],[62170.05],[90093.88],[76922.26],[50948.31],[57968.87],[81683.41],[77148.81],[39896.97],[79029.72],[32763.77],[31440.65],[54793.94],[55847.67],[50052.15],[91147.61],[39514.86],[68861.23],[65858.1],[97751.02],[31611.89],[46943.65],[76922.26],[86953.31],[61401.0],[60826.16],[73761.07],[68492.42],[65858.1],[45563.27],[41368.69],[46146.24],[76097.32],[83244.64],[63926.24],[24858.52],[64119.45],[28825.02],[42149.18],[76395.4],[64488.25],[79048.46],[46123.32],[29525.5],[23919.66],[61881.06],[15809.69],[69019.29],[26751.56],[36889.28],[63961.39],[67579.16],[93518.5],[68228.99],[98787.15],[56643.6],[91990.6],[82190.91],[73761.07],[20547.72],[60589.45],[90093.88],[44783.51],[43694.63],[27486.01],[54279.94],[32876.36],[33502.21],[48581.99],[24382.88],[58481.99],[36269.37],[88112.69],[60958.26],[60062.59],[61626.9],[34254.33],[31611.89],[52440.59],[57955.13],[38091.59],[53929.88],[94835.67],[65873.72],[94858.16],[44178.77],[79029.72],[43202.91],[44572.76],[44666.44],[58671.66],[26138.69],[97891.48],[33982.78],[86748.29],[31593.03],[35080.76],[93071.72],[63750.64],[36300.98],[66384.96],[37916.86],[71748.66],[85352.1],[66384.96],[33719.34],[42570.67],[72760.03],[22128.32],[48218.66],[67069.89],[35890.24],[77148.81],[27486.01],[7823.94],[84298.37],[40041.72],[64031.62],[51632.75],[55252.24],[20552.6],[42159.18],[81683.41],[86689.81],[34246.21],[45995.3],[34831.03],[88534.28],[93118.88],[63238.77],[97404.94],[39883.66],[44583.33],[79029.72],[36195.61],[33508.6],[43729.78],[82138.73],[63898.79],[40568.59],[36511.73],[29962.59],[40041.72],[34193.52],[22133.57],[39764.59],[63238.77],[48097.12],[35826.8],[42676.05],[24768.51],[49279.39],[56972.86],[71653.61],[61626.9],[53160.66],[34948.68],[55847.67],[48631.25],[94858.16],[38987.99],[70599.88],[56936.49],[35616.06],[35631.86],[44178.77],[43202.91],[26349.48],[57955.13],[44783.51],[86880.01],[68861.23],[61537.81],[35483.96],[35793.4],[45310.37],[22912.19],[35278.86],[51381.5],[50958.36],[51076.22],[94014.97],[34246.21],[90747.64],[60589.45],[97996.85],[48550.59],[52686.48],[35185.34],[49876.55],[88513.29],[48629.62],[60062.59],[52686.48],[44161.44],[39040.68],[90936.87],[25822.49],[27198.6],[59430.35],[50385.91],[31655.09],[84999.1],[78502.86],[93118.88],[65494.29],[94835.67],[26943.86],[41854.14],[62711.78],[71126.75],[28977.56],[50579.02],[53476.78],[52440.59],[85668.22],[47010.35],[47101.71],[33200.35],[55689.61],[40028.02],[36158.73],[52574.87],[43213.16],[31092.39],[40568.59],[95889.4],[33787.84],[39514.86],[77449.13],[47429.08],[88513.29],[38904.64],[48295.96],[48443.74],[46902.09],[36353.67],[79029.72],[29212.28],[25816.37],[54056.33],[45584.61],[94835.67],[83244.64],[38819.4],[52686.48],[88513.29],[32919.31],[69194.89],[89588.26],[34246.21],[51405.79],[73761.07],[57733.84],[36880.53],[25842.19],[73778.56],[90726.12],[70705.26],[54166.48],[73761.07],[94858.16],[23023.99],[53158.18],[98523.72],[34825.76],[50930.23],[68861.23],[87810.82],[16118.9],[38935.31],[37960.61],[65085.35],[77533.42],[48893.05],[34246.21],[22381.21],[55882.76],[35847.88],[47681.26],[44363.96],[48969.03],[53158.18],[18861.76],[44783.51],[40028.02],[39093.37],[92991.64],[47681.26],[58640.16],[49051.11],[26876.47],[29571.34],[66384.96],[28450.7],[81261.82],[28292.64],[31085.02],[60589.45],[46890.97],[41797.92],[59520.18],[32770.99],[80610.32],[44363.96],[93518.5],[15809.69],[59377.66],[60284.62],[76922.26],[45696.72],[83116.82],[56234.02],[93992.68],[22128.32],[46902.09],[77975.99],[57691.69],[27818.46],[66384.96],[29778.4],[76922.26],[65858.1],[33930.09],[66384.96],[40041.72],[31655.09],[34246.21],[46206.04],[52482.95],[52686.48],[27344.28],[65858.1],[82928.52],[68262.13],[32182.11],[33200.35],[90161.48],[29346.37],[57980.94],[86019.43],[51878.64],[38206.75],[39514.86],[22918.62],[93255.07],[55355.89],[53158.13],[29662.49],[32138.28],[43176.57],[96205.51],[28510.14],[40589.66],[34562.33],[65858.1],[36839.97],[29664.59],[39514.86],[85352.1],[86862.09],[79556.59],[39514.86],[55847.67],[73234.21],[31822.63],[81075.01],[29212.28],[31980.69],[56796.02],[44783.51],[44364.02],[56866.41],[44151.27],[49051.11],[91487.28],[94045.37],[38091.59],[44783.51],[38012.24],[80635.87],[14163.7],[51632.75],[68070.93],[47391.75],[62170.05],[33719.34],[85878.96],[35636.08],[63171.09],[44783.51],[33488.61],[54949.68],[86563.89],[43202.91],[30031.29],[35847.88],[86148.19],[28977.56],[86748.29],[64488.25],[68492.42],[52686.48],[60043.36],[38904.59],[89567.02],[34983.82],[44659.17],[46785.59],[89524.87],[39251.43],[79029.72],[50936.29],[34615.01],[61647.13],[46094.35],[50579.02],[94858.16],[47681.26],[34509.64],[48102.75],[22022.95],[47417.83],[40067.01],[50052.15],[49051.11],[60589.45],[18708.13],[44275.77],[58271.25],[51592.29],[76722.05],[53092.64],[52949.91],[58271.25],[39524.23],[29451.74],[96697.24],[29962.59],[32876.36],[44178.77],[35856.38],[18440.26],[50064.02],[39514.86],[53776.72],[30952.36],[45837.24],[36088.87],[81075.01],[65612.21],[57916.17],[33508.6],[81664.04],[46943.65],[61641.52],[68350.57],[38472.4],[53213.34],[39897.02],[62170.05],[41105.2],[73177.15],[51105.88],[40041.72],[62591.54],[46469.47],[68861.23],[88513.29],[44783.51],[63223.78],[79029.72],[57441.88],[45837.24],[40766.64],[72817.98],[63750.64],[54933.04],[51632.75],[94045.37],[71390.18],[49525.29],[68546.69],[21109.68],[95257.16],[28398.01],[39514.86],[77975.99],[41622.32],[44081.04],[64134.65],[90884.18],[53609.39],[43097.54],[55320.8],[43202.91],[56866.41],[50403.42],[64155.64],[77167.11],[45696.77],[55239.14],[54949.68],[63223.78],[63344.17],[77148.81],[75783.82],[56959.35],[31980.69],[93089.89],[48550.59],[22396.9],[34254.33],[93071.72],[93255.07],[44167.29],[67965.56],[94045.37],[58390.46],[43729.78],[47119.62],[44048.9],[34446.05],[35890.03],[93071.72],[37481.16],[40041.72],[29574.66],[41105.2],[35890.24],[93540.68],[61881.11],[69335.41],[21348.77],[21074.59],[52686.48],[46954.78],[26027.12],[62170.05],[84466.97],[59391.74],[25822.49],[43202.91],[31506.51],[86140.71],[51632.75],[26870.1],[61895.74],[59535.72],[94308.8],[53399.87],[67664.19],[32185.47],[20568.8],[42159.18],[35616.06],[90747.64],[97891.48],[75692.87],[31611.89],[65873.72],[66384.96],[94045.37],[25795.3],[56416.68],[27192.67],[24235.78],[34562.33],[58671.66],[76922.26],[37943.26],[33508.6],[60030.97],[43213.16],[49033.51],[77712.56],[88758.86],[32857.66],[92201.34],[36880.53],[72760.03],[40568.59],[7823.94],[93518.5],[77712.56],[90747.64],[29609.8],[63238.77],[38735.1],[86862.09],[39514.86],[40103.47],[21343.29],[62380.79],[51076.22],[98020.09],[94858.16],[33982.78],[46832.91],[47681.26],[52313.62],[39514.86],[51105.88],[44794.13],[93311.24],[53092.59],[67981.68],[57902.44],[34387.36],[42149.18],[46890.97],[52956.04],[77975.99],[52686.48],[48396.32],[37249.34],[67438.69],[31085.02],[30584.53],[48524.25],[37201.39],[50546.2],[55847.67],[26556.62],[69019.29],[47417.83],[66384.96],[52423.05],[67175.26],[41348.35],[94045.37],[51000.51],[43202.91],[39883.66],[30831.23],[68597.8],[35602.46],[33118.72],[33192.48],[39260.73],[38812.34],[46775.06],[75125.55],[46943.65],[61864.46],[52317.67],[37354.71],[49894.1],[34878.45],[89567.02],[87443.75],[60603.82],[52678.58],[44167.29],[41885.75],[45046.94],[68228.99],[31787.49],[46364.1],[90093.88],[79820.02],[68228.99],[48987.89],[58685.58],[17494.02],[63223.78],[81683.41],[63243.8],[39946.36],[76711.52],[84298.37],[8693.26],[60811.74],[18449.22],[72777.28],[37191.38],[49638.57],[50410.42],[39778.29],[66384.96],[32823.67],[27607.71],[49525.29],[47128.05],[26265.89],[86142.4],[40392.93],[43093.85],[75833.82],[75375.18],[37934.26],[68508.67],[77975.99],[79029.72],[88513.29],[44794.13],[65120.49],[94436.56],[52405.45],[38989.78],[76219.79],[29212.28],[43549.17],[42334.82],[68861.23],[57733.9],[42676.05],[37049.13],[65194.25],[71126.75],[53399.87],[48642.73],[39573.87],[57733.84],[53099.54],[70863.32],[50930.28],[84298.37],[58990.73],[19757.43],[75107.69],[52943.48],[94449.26],[35080.76],[54793.94],[43093.85],[55847.67],[46574.85],[77712.56],[87248.81],[51118.0],[74762.12],[39887.51],[44888.88],[28398.01],[38370.12],[38817.08],[69440.78],[39875.63],[48483.05],[33613.97],[48629.62],[60062.59],[54267.07],[43093.85],[65858.1],[90093.88],[49525.29],[34035.46],[44783.51],[49051.11],[79029.72],[64170.91],[21902.43],[37201.39],[30558.16],[45837.24],[44141.21],[82190.91],[22976.89],[88513.29],[38092.32],[90936.87],[47119.62],[23392.79],[58692.74],[84298.37],[37201.39],[51632.75],[21922.77],[58671.66],[63238.77],[47417.83],[44178.77],[24393.84],[46943.65],[49525.29],[93518.5],[93511.29],[45429.02],[62184.79],[57375.58],[98787.15],[93465.82],[20552.6],[38817.03],[54091.47],[50901.94],[24427.03],[68007.71],[39887.51],[61537.81],[18971.63],[61626.95],[59377.66],[84318.36],[46094.35],[91411.04],[48998.42],[44794.13],[38987.99],[45429.07],[35879.49],[55847.67],[44941.57],[55689.61],[59377.66],[44178.77],[92367.6],[94308.8],[33192.48],[93465.82],[50579.02],[77467.49],[55689.61],[93540.68],[46943.65],[40103.47],[53160.66],[41253.51],[43202.91],[34088.15],[94045.37],[47417.83],[62170.05],[36839.97],[90884.18],[39524.23],[44189.25],[73761.07],[32165.09],[81664.04],[32770.99],[26265.89]],\"hovertemplate\":\"lat=%{lat}<br>lon=%{lon}<br>price_aprox_usd=%{marker.color}<extra></extra>\",\"lat\":[23.634501,19.4024128,19.35782,19.504985,19.354219,19.400785,19.366632,19.400731,19.337163,19.435666,19.2990233,19.453854,19.458968,19.332034,19.305214,19.370272,19.386715,19.458968,19.445471,19.443903,19.317741,19.365843,19.365843,19.399841,19.465454,19.334546,19.376392,19.416439,19.401456,19.4045899,19.4553585442,19.440749,19.484532,19.452143,19.386551,19.466822,19.462425,null,19.474885,19.36994,19.379525,19.400731,19.480501,23.634501,null,19.402752,19.465454,19.414261,null,19.405883,19.471896,19.309208,19.304501,19.36269,19.400097,19.484532,19.278198,19.383251,19.461871,19.422398,null,19.453513,19.439037,null,19.384327,19.317698,19.503195,19.524143,19.325608,19.332149,19.410307,19.379109,19.452419,19.287188,19.475187,19.273716,19.396862,19.422243,19.469418,19.262049,19.402944,19.379525,19.346767,19.384808,23.634501,19.283388,19.456145,19.410307,19.334546,19.370272,19.307417,19.384808,19.473415,19.44673,19.302076,19.472155,19.456439,19.368823,19.395097,19.320269,19.468092,null,19.2818221685,19.418844,null,19.397649,19.408805,23.634501,19.313878,19.392025,19.384808,19.361114,19.490331,19.3821,19.461416,19.363469,19.440749,19.45178,19.478815,19.409843,19.273713,19.348122,19.404442,19.384506,19.505199,19.3883217,19.472155,19.391754,null,19.383446,19.324386,19.452689,19.3915,19.436264,19.422676,null,19.457685,19.511198,19.404918,19.396893,19.443178,19.4555330491,19.448187,19.461306,19.419427,19.194247,19.474223,19.489901,19.39177,19.385994,19.404661,19.30241,19.455894,19.383948,19.422817,19.2990233,19.446253,19.383599,19.383251,19.427118,19.398983,19.384371,19.39557,19.383446,19.382649,19.406759,19.49662,19.39617,19.370046,19.359901,19.427754,19.396705,19.298168,19.369509,19.456595,19.4179232,19.307754,19.410307,19.461871,19.527836,19.359897,19.445816,19.444865,19.377369,19.352333,19.456595,19.4113101,19.392349,19.504602,19.384327,19.439037,19.357981,19.445816,19.387651,19.464437,19.334546,19.347664,19.301945,19.29312,19.36269,19.324947,19.391834,19.360367,19.298168,19.469681,19.392025,19.301945,19.415143,19.524143,19.393257,19.336195,19.410419,19.479793,19.400785,19.497521,19.45789,19.363469,19.260421,19.39942,19.400097,19.393751,19.365843,19.36678,19.323772,19.415461,19.395058,19.312223,19.27838,19.428767,19.403309,19.350145,19.402944,19.453201,19.417636,19.410215,19.392814,19.409843,19.362679,19.48888,19.334738,19.369859,19.410412,19.468775,19.470215,19.3223015,19.39106,19.41275,19.38751,19.361385,19.38828,19.3865508,19.452365,19.392185,19.323772,19.441047,null,19.399461,19.4900536,19.417363,19.386852,19.326922,19.439253,null,null,19.384467,19.309208,19.383446,19.392349,19.411112,19.369509,19.364891,19.445553,23.634501,19.3778105,19.417923,19.38828,19.370046,19.29707,19.441879,19.452255,19.458831,19.298347,19.401456,19.386852,19.473415,19.3437444,19.371132,19.452689,19.359901,19.365843,19.368568,19.457129,19.441809,19.449997,19.287188,19.383446,19.460913,19.3579916,19.40263,19.404442,19.46731,19.383547,null,19.377369,19.4959960885,null,19.342508,19.366738,19.385853,19.436738,19.318662,19.371745,19.352333,19.460913,19.386033,19.46731,19.4306069,19.366738,19.343558,19.472155,19.35782,null,19.372248,19.3604024,19.37197,19.394628,19.311038,19.346609,19.377171,19.317698,19.473693,19.422817,19.361993,19.538431,19.406489,null,19.476817,19.377523,19.452689,19.457911,19.455518,19.461871,19.39942,19.524143,19.519199,19.443903,19.392349,19.445743,19.446873,19.392425,19.2963742,19.390062,19.386385,19.404661,19.410307,19.457982,19.391579,19.452473,null,19.387209,19.448187,19.396705,19.379802,19.501818,null,19.3653,19.386852,19.386852,null,19.383078,19.386852,19.36269,19.385027,19.334265,19.401819,19.458968,19.486021,null,19.41275,19.417923,19.422817,19.2878066,19.35782,19.365917,19.405298,19.3200381,19.306092,19.311038,19.4558491807,19.377811,19.3865940087,19.328243,19.328392,19.342083,19.439253,null,19.516777,19.42196,19.372724,19.457982,19.4503249,19.523798,19.335364,19.500817,19.2990233,19.336994,19.36243,19.329989,19.461349,19.387868,19.443592,null,19.366996,null,null,19.370822,19.443178,19.3703924,19.475187,19.402944,19.391819,19.39942,19.399375,19.455243,19.400623,19.28008,19.3847719,19.493185,19.439946,19.379765,19.49551,19.35944,19.382649,19.487856,19.289772,19.452689,19.392349,19.348122,19.473415,19.392349,19.455894,19.414009,19.474655,19.342083,19.525082,19.4302678,19.446852,19.396593,19.40012,19.328669,19.336195,19.346609,19.336195,19.52589,19.376392,19.442791,19.38499,19.439253,19.377033,null,19.453691,19.392349,19.380953,19.444584,19.456941,19.307417,19.313175,19.440147,19.517644,19.347664,19.401819,null,19.481886,19.400785,19.38828,19.365533,19.47963,19.375412,19.486385,19.455159,19.441809,19.443903,19.333901,19.453036,19.49662,19.462598,19.410412,19.365533,19.35944,19.342083,19.3012,null,19.374704,19.427072,19.4594892,19.387868,19.395835,19.459691,23.634501,19.41084,19.428622,19.281423,19.363542,19.43895,19.440943,19.342083,19.456941,19.415143,19.4126915168,19.36461,19.439253,19.448187,19.421989,19.439253,19.334868,19.401312,19.381729,19.444584,19.48888,19.394628,19.376456,19.4285813,19.38855,19.394628,19.336195,19.41263,19.2990233,19.396538,19.377651,19.283605,19.395097,19.36461,19.490177,19.384955,19.473415,19.388662,19.524143,19.429183,19.451685,19.416376,19.396705,19.328705,19.490054,19.486053,19.368823,19.453854,19.457982,19.357504,19.27362,19.395097,null,19.392349,19.365584,19.451919,19.42116,19.304502,19.365843,19.456993,19.369859,19.383799,19.36269,19.450342,19.363254,null,19.461662,19.469681,null,19.449216,null,19.444538,null,19.366448,19.472155,19.460913,19.443178,19.468775,19.365843,19.455944,19.396705,19.49551,19.40012,19.408179,19.363542,19.374721,19.403109,19.285943,19.36269,19.486808,19.365843,null,19.302076,19.300642,19.477476,19.520214,19.524143,19.41066,19.303392,19.392349,19.299713,19.384808,19.308685,null,19.476817,19.461306,19.436404,19.487729,19.394361,19.392382,19.37335,19.4306069,19.361837,19.326215,19.472155,19.368823,19.395097,19.508114,19.472481,19.308076,19.365865,null,19.310943,19.317534,19.335103,19.439131,19.438456,19.488871,19.386852,19.343979,19.440749,19.387651,19.407816,19.452331,19.307737,19.292877,19.3217152,19.441879,19.328366,19.317698,19.363343,null,19.470991,19.446256,19.39516,19.472155,19.445743,19.317698,19.562385,19.473486,19.363469,19.452419,19.375223,19.470215,19.392185,19.38642,19.396893,19.474446,null,19.477389,19.362363,19.2990233,19.386551,19.309208,19.46731,19.453854,19.283701,19.365427,19.388044,19.366738,19.287188,19.437147,19.445816,19.408155,19.410307,19.51918,19.365624,19.451809,19.345152,19.305666,19.428152,19.445553,19.511437,19.404288,19.527514,19.454332,19.199665,19.305233,19.299713,19.454332,19.29707,19.469689,19.417363,19.3707909,19.456993,19.264647,null,19.359407,19.397531,19.325608,19.388044,19.35782,19.336195,19.496491,19.431252,19.306256,19.371132,19.458968,19.317741,19.382145,19.453854,19.422397,null,19.387651,null,19.447374,19.417363,19.374628,19.291685,19.416195,19.443178,19.399226,19.441043,19.501572,19.39942,19.4546836,19.410055,19.389044,19.38828,19.411112,19.4661858,19.523731,19.395427,19.468153,19.384037,19.363542,19.473415,23.634501,19.392349,19.441809,19.482603,19.396247,19.444606,19.348586,19.269985,19.452365,19.2990233,19.396593,19.472155,19.446829,19.415143,19.383446,19.418844,19.396247,19.363469,19.35568,19.376456,19.348909,19.380236,null,19.446207,19.446198,19.516777,19.441392,19.410307,null,19.402991,19.377369,19.417923,19.455944,19.306092,19.2990233,19.486215,19.377033,19.417923,19.512787,19.402944,19.441879,19.395077,19.523341,19.3513303772,19.524143,19.375618,19.472155,19.357981,19.416408,19.472155,null,19.391054,19.3915,19.410215,19.467806,19.487416,19.375618,null,19.446524,19.41526,19.469689,19.41275,19.472155,19.354219,19.455525,19.446313,19.305449,19.453142,19.378533,19.410419,19.411112,19.389067,19.443178,null,19.410307,19.456454,19.317887,19.323772,19.448311,19.352333,19.309208,19.298168,19.2990233,19.366505,null,19.486329,19.4301421,19.498246,19.333981,19.386836,null,19.291903,19.48314,19.364891,19.472155,19.321644,19.363542,19.439858,19.504985,19.317534,19.450827,19.36867,19.490054,19.399226,19.402944,19.381259203,19.446256,19.396727,19.348122,null,19.4526892,19.424719,19.401819,19.388044,19.2833321409,19.472155,19.382956,19.333981,19.383966,19.378786,null,19.348122,19.452301,19.368697,19.446313,19.441234,19.392185,19.384467,19.3246591,19.448187,19.444569,19.457982,19.446829,19.412097,19.439759,19.412142,23.634501,19.35782,19.392349,19.439253,19.527836,19.306255,19.264442,19.400785,19.392025,19.453697,19.314895,23.634501,19.414261,19.3029619922,null,23.634501,23.634501,19.458118,19.407816,19.369418,19.394965,19.469689,19.36269,19.362027,19.428152,19.263022,19.472155,19.345893,19.410307,19.372724,19.415783,19.39932,19.444688,19.402386,19.462598,19.4445021981,19.464589,19.404377,19.377383,19.359901,19.334546,19.452621,19.375983,19.366866,19.440549,19.410307,19.388044,19.416151,19.378321,19.357981,19.318575,19.517598,19.35782,19.441816,19.380236,19.353813,null,19.35782,19.45984,19.450827,19.302219,19.400763,19.441043,19.403302,19.3939,19.396705,19.412061,19.2833726485,19.441809,19.409701,19.401819,19.489521,19.2672863,19.278036,19.29292,19.36269,19.329521,19.355462,19.423086,19.326922,19.48492,19.397983,19.324239,19.318989,19.334546,19.465454,19.363174,null,19.375374,19.482603,19.373503,19.357715,19.452621,19.343979,19.37335,19.365611,19.359625,19.342083,null,19.451576,19.473415,19.376456,19.449392,null,19.486016,19.4752953603,19.2990233,19.285118,19.498877,19.376456,19.324386,19.450551,19.399461,19.452728,19.299511,null,19.377383,19.400785,19.420551,19.516777,null,19.318989,19.408805,19.49662,19.396727,19.394638,19.395427,19.308287,19.38828,19.449292,23.634501,19.4597505,19.453564,19.281164,19.457352,19.413992,19.335108,19.41497,19.336455,19.41627,19.318989,19.445219,19.369509,19.415175,19.374721,19.412142,19.456993,19.366914,19.377369,19.359645,19.370272,19.506042,19.480501,19.470991,19.496491,19.281164,23.634501,19.335073,19.444584,19.39169,19.33427,19.450551,19.466822,19.370272,19.452419,null,19.450827,19.476577,19.452255,19.382649,19.474655,19.34518,19.415143,19.472155,null,19.398514,19.43672,19.448226,19.283831,19.40012,19.311038,19.452297,19.451597,19.335419,19.411434,19.280481,19.38828,19.392349,null,19.39942,19.367348,19.380443,null,19.377404,19.262049,19.412142,19.493185,19.398514,19.370822,19.408805,19.323772,19.410412,19.367721,19.38634,19.3905245,19.298168,19.474706,19.40012,19.392025,19.360367,19.41031,19.472155,19.359901,19.366632,19.31999,19.451809,19.429916,19.374721,19.472155,19.490709,19.411112,19.441374,19.446144,19.452503,19.382649,19.375733,19.325608,19.441043,19.442796,19.484988],\"legendgroup\":\"\",\"lon\":[-102.552788,-99.0953907,-99.149406,-99.208557,-99.126244,-99.147419,-99.1979,-99.125466,-99.080899,-99.14973,-99.0436467,-99.193979,-99.152898,-99.062028,-99.046887,-99.149127,-99.143999,-99.152898,-99.17317,-99.171681,-99.119331,-99.149901,-99.149901,-99.154813,-99.162665,-99.207876,-99.192439,-99.125632,-99.146787,-99.0601489,-99.1632923484,-99.141649,-99.207027,-99.181477,-99.193708,-99.157379,-99.17654,null,-99.188231,-99.007399,-99.188914,-99.125466,-99.178139,-102.552788,null,-99.098587,-99.162665,-99.104118,null,-99.183079,-99.224024,-99.171906,-99.123121,-99.150565,-99.122093,-99.207027,-99.200831,-99.105499,-99.129227,-99.167129,null,-99.210223,-99.119514,null,-99.215523,-99.061256,-99.206723,-99.160149,-99.06112,-99.244008,-99.065399,-99.187689,-99.175058,-99.170525,-99.175019,-99.186416,-99.172659,-99.127305,-99.164299,-99.1138,-99.199727,-99.188914,-99.123658,-99.137496,-102.552788,-99.055038,-99.201167,-99.065399,-99.207876,-99.149127,-99.125191,-99.155339,-99.143539,-99.161695,-99.049427,-99.161186,-99.144414,-99.224603,-99.150424,-99.055412,-99.088883,null,-99.1876426712,-99.132357,null,-99.093087,-99.129702,-102.552788,-99.094271,-99.135302,-99.155339,-99.222666,-99.207579,-99.204573,-99.133163,-99.010141,-99.141649,-99.15709,-99.196831,-99.125509,-99.120741,-99.125716,-99.162688,-99.135865,-99.155991,-99.1862188,-99.161186,-99.056058,null,-99.137643,-99.124228,-99.117987,-99.038137,-99.099608,-99.097893,null,-99.121754,-99.200576,-99.1978,-99.152302,-99.144234,-99.1633956134,-99.161176,-99.127826,-99.067675,-99.141976,-99.18722,-99.192497,-99.159996,-99.106613,-99.133858,-99.109299,-99.18355,-99.067884,-99.058911,-99.0436467,-99.157519,-99.190834,-99.105499,-99.141954,-99.154034,-99.135965,-99.132937,-99.137643,-99.143384,-99.125172,-99.185876,-99.13791,-99.146155,-99.189606,-99.171109,-99.181902,-99.113106,-99.172532,-99.20456,-99.1483827,-99.12497,-99.065399,-99.129227,-99.169827,-99.18956,-99.170462,-99.156877,-99.198052,-99.121169,-99.20456,-99.064722,-99.07093,-99.153096,-99.215523,-99.119514,-99.080612,-99.170462,-99.142257,-99.175369,-99.207876,-99.125001,-99.0495332,-99.052935,-99.150565,-99.083468,-99.188695,-99.192614,-99.113106,-99.086136,-99.135302,-99.049533,-99.14685,-99.160149,-99.157113,-99.23692,-99.194748,-99.100174,-99.147419,-99.203979,-99.20016,-99.010141,-99.120697,-99.141673,-99.122093,-99.049999,-99.149901,-99.21145,-99.116562,-99.124168,-99.13078,-99.105454,-99.199387,-99.1459,-99.145494,-99.086731,-99.199727,-99.132967,-99.153292,-99.14595,-99.175476,-99.125509,-99.171002,-99.179278,-99.176758,-99.135812,-99.098521,-99.115636,-99.140075,-99.1035542,-99.14775,-99.126007,-99.142247,-99.246689,-99.195529,-99.1937082,-99.124572,-99.135357,-99.116562,-99.135306,null,-99.175182,-99.0935504,-99.068463,-99.194748,-99.121203,-99.163605,null,null,-99.135872,-99.171906,-99.137643,-99.07093,-99.193066,-99.172532,-99.148384,-99.097057,-102.552788,-99.1975082,-99.148384,-99.195529,-99.146155,-99.051074,-99.167819,-99.124703,-99.203999,-99.116905,-99.146787,-99.194748,-99.143539,-99.1561883,-99.173156,-99.117987,-99.189606,-99.149901,-99.15031,-99.174456,-99.156423,-99.18117,-99.170525,-99.137643,-99.12858,-99.0648692,-99.078233,-99.162688,-99.133163,-99.074514,null,-99.198052,-99.2017929554,null,-99.137204,-99.14554,-99.137921,-99.138619,-99.07476,-99.212281,-99.121169,-99.12858,-99.18296,-99.133163,-99.0949899,-99.14554,-99.15189,-99.161186,-99.149406,null,-99.133377,-99.1497664,-99.175052,-99.143842,-99.101601,-99.072311,-99.188503,-99.061256,-99.164851,-99.058911,-99.137782,-99.143669,-99.133375,null,-99.188708,-99.193103,-99.117987,-99.144234,-99.123801,-99.129227,-99.141673,-99.160149,-99.151759,-99.171681,-99.07093,-99.174986,-99.158503,-99.140582,-99.1186279,-99.192293,-99.142736,-99.133858,-99.065399,-99.19269,-99.182986,-99.168346,null,-99.222038,-99.161176,-99.181902,-99.111326,-99.116044,null,-99.148217,-99.194748,-99.194748,null,-99.185903,-99.194748,-99.150565,-99.223488,-99.205021,-99.184615,-99.152898,-99.118413,null,-99.126007,-99.148384,-99.058911,-99.0522925,-99.149406,-99.196977,-99.164986,-99.082512,-99.113431,-99.101601,-99.2046815157,-99.197508,-99.1936147213,-99.077778,-99.087854,-99.0532159,-99.163605,null,-99.160149,-99.174559,-99.137094,-99.19269,-99.1351802,-99.155941,-99.024154,-99.184177,-99.0436467,-99.162355,-99.176957,-99.085524,-99.149071,-99.142256,-99.121407,null,-99.191824,null,null,-99.105239,-99.144234,-99.1249413,-99.175019,-99.199727,-99.188639,-99.141673,-99.149986,-99.184091,-99.14173,-99.217066,-99.1664667,-99.205755,-99.099697,-99.150386,-99.201675,-99.217652,-99.143384,-99.0909786,-99.05598,-99.117987,-99.07093,-99.125716,-99.143539,-99.07093,-99.18355,-99.142481,-99.189277,-99.0532159,-99.144372,-99.1373136,-99.154461,-99.133163,-99.1532,-99.070529,-99.23692,-99.072311,-99.23692,-99.151703,-99.192439,-99.124128,-99.227853,-99.163605,-99.129878,null,-99.180039,-99.07093,-99.245651,-99.174675,-99.156312,-99.125191,-99.115,-99.172286,-99.138753,-99.125001,-99.184615,null,-99.112749,-99.147419,-99.195529,-99.1923,-99.093286,-99.144234,-99.181492,-99.200508,-99.156423,-99.171681,-99.240356,-99.15556,-99.185876,-99.131469,-99.098521,-99.1923,-99.217652,-99.0532159,-99.116511,null,-99.1404,-99.166079,-99.1221422,-99.142256,-99.135191,-99.155801,-102.552788,-99.120408,-99.14602,-99.141801,-99.224084,-99.161234,-99.09249,-99.0532159,-99.156312,-99.14685,-99.1277845949,-99.14455,-99.163605,-99.161176,-99.110763,-99.163605,-99.060641,-99.173525,-99.164986,-99.174675,-99.179278,-99.143842,-99.145563,-99.0609099,-99.055877,-99.143842,-99.23692,-99.155464,-99.0436467,-99.141249,-99.128459,-99.19472,-99.150424,-99.14455,-99.205132,-99.227837,-99.143539,-99.147988,-99.160149,-99.139946,-99.157107,-99.157502,-99.181902,-99.164986,-99.093551,-99.109844,-99.224603,-99.193979,-99.19269,-99.234987,-99.155521,-99.150424,null,-99.07093,-99.192475,-99.131919,-99.161997,-99.123118,-99.149901,-99.118637,-99.135812,-99.10155,-99.150565,-99.126058,-99.174611,null,-99.190926,-99.086136,null,-99.175596,null,-99.162752,null,-99.21224,-99.161186,-99.12858,-99.144234,-99.115636,-99.149901,-99.211803,-99.181902,-99.201675,-99.1532,-99.148713,-99.224084,-99.140098,-99.150557,-99.044333,-99.150565,-99.18371,-99.149901,null,-99.049427,-99.11401,-99.093448,-99.135933,-99.160149,-99.070237,-99.243225,-99.07093,-99.037758,-99.137496,-99.148313,null,-99.188708,-99.127826,-99.173617,-99.10539,-99.082092,-99.187073,-99.174777,-99.0949899,-99.22252,-99.044148,-99.161186,-99.224603,-99.150424,-99.197712,-99.182374,-99.167762,-99.148341,null,-99.049669,-99.058491,-99.235722,-99.161361,-99.150497,-99.109581,-99.194748,-99.124863,-99.141649,-99.142257,-99.129707,-99.177162,-99.047271,-99.117048,-99.2645126,-99.167819,-99.114767,-99.061256,-99.224118,null,-99.168165,-99.147767,-99.168487,-99.161186,-99.174986,-99.061256,-99.141146,-99.185753,-99.010141,-99.175058,-99.182056,-99.140075,-99.135357,-99.222521,-99.152302,-99.088493,null,-99.150971,-99.017827,-99.0436467,-99.193708,-99.171906,-99.133163,-99.193979,-99.220215,-99.243484,-99.185753,-99.14554,-99.170525,-99.167073,-99.170462,-99.107965,-99.065399,-99.143403,-99.196608,-99.170181,-99.197821,-99.051631,-99.106194,-99.097057,-99.133339,-99.119604,-99.15184,-99.200287,-99.153915,-99.12269,-99.037758,-99.200287,-99.051074,-99.085457,-99.068463,-99.1370465,-99.118637,-99.112747,null,-99.060657,-99.182964,-99.06112,-99.185753,-99.149406,-99.23692,-99.149702,-99.146999,-99.236671,-99.173156,-99.152898,-99.119331,-99.142159,-99.193979,-99.09769,null,-99.142257,null,-99.137868,-99.068463,-99.188927,-99.11704,-99.157971,-99.144234,-99.134352,-99.175585,-99.17551,-99.141673,-99.1933664,-99.114487,-99.179657,-99.195529,-99.193066,-99.1545368,-99.137538,-99.05035,-99.189217,-99.140704,-99.224084,-99.143539,-102.552788,-99.07093,-99.156423,-99.194748,-99.190282,-99.1740457,-99.115129,-99.11523,-99.124572,-99.0436467,-99.133163,-99.161186,-99.159454,-99.14685,-99.137643,-99.132357,-99.190282,-99.010141,-99.099406,-99.145563,-99.073563,-99.139978,null,-99.169959,-99.139166,-99.160149,-99.174422,-99.065399,null,-99.173922,-99.198052,-99.148384,-99.211803,-99.113431,-99.0436467,-99.092376,-99.129878,-99.148384,-99.141393,-99.199727,-99.167819,-99.168409,-99.1517,-99.0816683695,-99.160149,-99.194918,-99.161186,-99.080612,-99.126701,-99.161186,null,-99.14077,-99.038137,-99.14595,-99.130254,-99.118006,-99.194918,null,-99.142241,-99.075364,-99.085457,-99.126007,-99.161186,-99.126244,-99.124086,-99.14006,-99.051736,-99.180214,-99.187561,-99.194748,-99.193066,-99.162824,-99.144234,null,-99.065399,-99.123252,-99.135625,-99.116562,-99.157021,-99.121169,-99.171906,-99.113106,-99.0436467,-99.222297,null,-99.086792,-99.109777,-99.202133,-99.233654,-99.217824,null,-99.124191,-99.211139,-99.148384,-99.161186,-99.044846,-99.224084,-99.150241,-99.208557,-99.058491,-99.156468,-99.218886,-99.093551,-99.134352,-99.199727,-99.1038592905,-99.147767,-99.115875,-99.125716,null,-99.1179867,-99.06065,-99.184615,-99.185753,-99.0550169349,-99.161186,-99.145972,-99.233654,-99.101121,-99.208595,null,-99.125716,-99.207422,-99.208668,-99.14006,-99.136622,-99.135357,-99.135872,-99.140855,-99.161176,-99.168699,-99.19269,-99.159454,-99.073245,-99.1047,-99.146127,-102.552788,-99.149406,-99.07093,-99.163605,-99.169827,-99.234777,-99.124863,-99.147419,-99.135302,-99.180085,-99.09423,-102.552788,-99.104118,-99.0406322479,null,-102.552788,-102.552788,-99.125557,-99.129707,-99.007392,-99.181702,-99.085457,-99.150565,-99.19464,-99.106194,-99.119657,-99.161186,-99.067395,-99.065399,-99.137094,-99.060391,-99.154999,-99.16605,-99.069638,-99.131469,-99.1660007089,-99.183659,-99.076596,-99.144978,-99.189606,-99.207876,-99.154479,-99.017354,-99.221296,-99.168493,-99.065399,-99.185753,-99.147042,-99.102702,-99.080612,-99.08635,-99.137671,-99.149406,-99.092908,-99.139978,-99.163605,null,-99.149406,-99.124797,-99.156468,-99.049311,-99.132191,-99.175585,-99.14489,-99.128976,-99.181902,-99.1448,-99.0550169349,-99.156423,-99.069021,-99.184615,-99.079282,-99.1659764,-99.170541,-99.064874,-99.150565,-99.08413,-99.065676,-99.145135,-99.121203,-99.11168,-99.146696,-99.117785,-99.094437,-99.207876,-99.162665,-99.013236,null,-99.137657,-99.194748,-99.112912,-99.084599,-99.154479,-99.124863,-99.174777,-99.140876,-99.152478,-99.0532159,null,-99.190662,-99.143539,-99.145563,-99.138544,null,-99.180528,-99.1893056412,-99.0436467,-99.217489,-99.207909,-99.145563,-99.124228,-99.156352,-99.175182,-99.161658,-99.150433,null,-99.144978,-99.147419,-99.14649,-99.160149,null,-99.094437,-99.129702,-99.185876,-99.115875,-99.186447,-99.05035,-99.146309,-99.195529,-99.17551,-102.552788,-99.2067717,-99.133092,-99.20237,-99.155304,-99.138695,-99.083164,-99.065035,-99.149511,-99.087547,-99.094437,-99.171761,-99.172532,-99.146898,-99.140098,-99.146127,-99.118637,-99.1516,-99.198052,-99.138745,-99.149127,-99.153915,-99.178139,-99.168165,-99.149702,-99.20237,-102.552788,-99.128238,-99.174675,-99.03793,-99.083374,-99.156352,-99.157379,-99.149127,-99.175058,null,-99.156468,-99.180073,-99.124703,-99.143384,-99.189277,-99.189969,-99.14685,-99.161186,null,-99.130366,-99.138969,-99.173938,-99.236992,-99.1532,-99.101601,-99.138695,-99.196136,-99.119331,-99.152197,-99.170604,-99.195529,-99.07093,null,-99.141673,-99.220413,-99.188263,null,-99.193301,-99.1138,-99.146127,-99.205755,-99.130366,-99.105239,-99.129702,-99.116562,-99.098521,-99.219332,-99.142743,-99.1797506,-99.113106,-99.18843,-99.1532,-99.135302,-99.192614,-99.098527,-99.161186,-99.189606,-99.1979,-99.117808,-99.170181,-99.108826,-99.140098,-99.161186,-99.178959,-99.193066,-99.160559,-99.170327,-99.120018,-99.143384,-99.139518,-99.06112,-99.175585,-99.154915,-99.11171],\"marker\":{\"color\":[94022.66,70880.12,68228.99,24235.78,94140.2,76395.4,40103.52,68070.93,39409.48,44794.13,53399.87,35847.88,29962.59,35984.86,16967.15,37196.65,79820.02,29969.69,68228.99,52440.59,62644.22,76940.5,79029.72,68597.8,55847.67,61864.46,37039.91,41358.15,91147.61,47376.38,99530.03,79556.59,77141.75,66455.88,94858.16,76395.4,31822.63,48340.87,71126.75,30716.22,54899.31,68070.93,45837.24,62170.05,55847.67,98523.72,75375.18,49419.92,65858.1,31875.32,42823.57,52698.97,47681.26,66384.96,89514.33,76614.89,69546.15,38039.64,52067.41,74498.68,46256.62,39585.14,34720.39,39773.02,47417.83,34720.39,68508.67,34246.21,31717.26,85668.22,89567.02,54899.31,51632.75,68492.42,44203.95,46469.47,86827.32,54688.57,75375.18,60603.82,60030.97,54372.45,62433.48,68546.74,76922.26,38303.07,54688.57,47207.08,75815.85,37201.39,27198.6,90058.74,68861.23,54952.0,33930.09,93255.07,52100.61,54829.08,53158.13,26870.1,60589.45,25306.04,36889.28,20582.81,29682.82,33297.85,55847.67,94022.66,46364.1,51076.22,90058.74,46726.39,31927.95,32314.35,39524.23,28398.01,79575.45,21795.44,76395.4,24459.75,70516.85,86862.09,76079.28,81664.04,31619.38,57968.87,94045.37,37934.26,36880.53,71126.75,53112.13,27133.53,50327.52,98502.65,18444.64,46633.43,32279.21,38777.25,26027.12,85878.96,42676.05,80139.33,33982.78,60076.83,44203.95,51632.75,81664.04,42823.57,93333.36,55320.8,79029.72,47191.28,35475.54,25299.31,27486.01,53399.87,32138.75,40568.59,38039.64,46364.1,60238.19,90093.88,84482.77,68546.69,44203.95,33218.82,47628.58,46375.1,79029.72,46954.78,79556.59,77533.42,94308.8,90093.88,39567.54,33200.35,32474.95,43202.91,64857.06,34387.36,46943.65,60043.36,81372.59,96416.26,61881.11,39567.54,50327.52,44783.51,34351.58,34421.87,34720.39,44167.29,90884.18,39514.86,54583.19,75815.85,85547.99,18971.63,32763.82,66384.96,32911.5,71670.61,77449.13,94308.8,60589.45,36692.81,33930.09,36459.04,34254.33,71653.61,90726.12,61288.91,42524.31,52943.48,54758.8,39567.54,17386.53,92201.34,61641.52,89514.33,27606.96,58640.21,55320.8,39773.02,60484.08,89040.15,20547.72,47417.83,52171.98,67596.75,28766.82,61274.38,28837.1,45205.0,44045.9,83191.95,26595.29,68492.42,51393.55,73900.83,38329.41,55689.61,57955.13,47402.99,44497.91,35458.0,35911.31,39524.23,34088.15,39887.51,86584.42,24235.78,50579.02,33982.78,18861.76,33719.34,50947.82,37934.26,40067.01,86858.35,47139.23,88513.29,44151.27,63171.09,97996.85,77572.89,54322.39,61537.81,62170.05,90093.88,76922.26,50948.31,57968.87,81683.41,77148.81,39896.97,79029.72,32763.77,31440.65,54793.94,55847.67,50052.15,91147.61,39514.86,68861.23,65858.1,97751.02,31611.89,46943.65,76922.26,86953.31,61401.0,60826.16,73761.07,68492.42,65858.1,45563.27,41368.69,46146.24,76097.32,83244.64,63926.24,24858.52,64119.45,28825.02,42149.18,76395.4,64488.25,79048.46,46123.32,29525.5,23919.66,61881.06,15809.69,69019.29,26751.56,36889.28,63961.39,67579.16,93518.5,68228.99,98787.15,56643.6,91990.6,82190.91,73761.07,20547.72,60589.45,90093.88,44783.51,43694.63,27486.01,54279.94,32876.36,33502.21,48581.99,24382.88,58481.99,36269.37,88112.69,60958.26,60062.59,61626.9,34254.33,31611.89,52440.59,57955.13,38091.59,53929.88,94835.67,65873.72,94858.16,44178.77,79029.72,43202.91,44572.76,44666.44,58671.66,26138.69,97891.48,33982.78,86748.29,31593.03,35080.76,93071.72,63750.64,36300.98,66384.96,37916.86,71748.66,85352.1,66384.96,33719.34,42570.67,72760.03,22128.32,48218.66,67069.89,35890.24,77148.81,27486.01,7823.94,84298.37,40041.72,64031.62,51632.75,55252.24,20552.6,42159.18,81683.41,86689.81,34246.21,45995.3,34831.03,88534.28,93118.88,63238.77,97404.94,39883.66,44583.33,79029.72,36195.61,33508.6,43729.78,82138.73,63898.79,40568.59,36511.73,29962.59,40041.72,34193.52,22133.57,39764.59,63238.77,48097.12,35826.8,42676.05,24768.51,49279.39,56972.86,71653.61,61626.9,53160.66,34948.68,55847.67,48631.25,94858.16,38987.99,70599.88,56936.49,35616.06,35631.86,44178.77,43202.91,26349.48,57955.13,44783.51,86880.01,68861.23,61537.81,35483.96,35793.4,45310.37,22912.19,35278.86,51381.5,50958.36,51076.22,94014.97,34246.21,90747.64,60589.45,97996.85,48550.59,52686.48,35185.34,49876.55,88513.29,48629.62,60062.59,52686.48,44161.44,39040.68,90936.87,25822.49,27198.6,59430.35,50385.91,31655.09,84999.1,78502.86,93118.88,65494.29,94835.67,26943.86,41854.14,62711.78,71126.75,28977.56,50579.02,53476.78,52440.59,85668.22,47010.35,47101.71,33200.35,55689.61,40028.02,36158.73,52574.87,43213.16,31092.39,40568.59,95889.4,33787.84,39514.86,77449.13,47429.08,88513.29,38904.64,48295.96,48443.74,46902.09,36353.67,79029.72,29212.28,25816.37,54056.33,45584.61,94835.67,83244.64,38819.4,52686.48,88513.29,32919.31,69194.89,89588.26,34246.21,51405.79,73761.07,57733.84,36880.53,25842.19,73778.56,90726.12,70705.26,54166.48,73761.07,94858.16,23023.99,53158.18,98523.72,34825.76,50930.23,68861.23,87810.82,16118.9,38935.31,37960.61,65085.35,77533.42,48893.05,34246.21,22381.21,55882.76,35847.88,47681.26,44363.96,48969.03,53158.18,18861.76,44783.51,40028.02,39093.37,92991.64,47681.26,58640.16,49051.11,26876.47,29571.34,66384.96,28450.7,81261.82,28292.64,31085.02,60589.45,46890.97,41797.92,59520.18,32770.99,80610.32,44363.96,93518.5,15809.69,59377.66,60284.62,76922.26,45696.72,83116.82,56234.02,93992.68,22128.32,46902.09,77975.99,57691.69,27818.46,66384.96,29778.4,76922.26,65858.1,33930.09,66384.96,40041.72,31655.09,34246.21,46206.04,52482.95,52686.48,27344.28,65858.1,82928.52,68262.13,32182.11,33200.35,90161.48,29346.37,57980.94,86019.43,51878.64,38206.75,39514.86,22918.62,93255.07,55355.89,53158.13,29662.49,32138.28,43176.57,96205.51,28510.14,40589.66,34562.33,65858.1,36839.97,29664.59,39514.86,85352.1,86862.09,79556.59,39514.86,55847.67,73234.21,31822.63,81075.01,29212.28,31980.69,56796.02,44783.51,44364.02,56866.41,44151.27,49051.11,91487.28,94045.37,38091.59,44783.51,38012.24,80635.87,14163.7,51632.75,68070.93,47391.75,62170.05,33719.34,85878.96,35636.08,63171.09,44783.51,33488.61,54949.68,86563.89,43202.91,30031.29,35847.88,86148.19,28977.56,86748.29,64488.25,68492.42,52686.48,60043.36,38904.59,89567.02,34983.82,44659.17,46785.59,89524.87,39251.43,79029.72,50936.29,34615.01,61647.13,46094.35,50579.02,94858.16,47681.26,34509.64,48102.75,22022.95,47417.83,40067.01,50052.15,49051.11,60589.45,18708.13,44275.77,58271.25,51592.29,76722.05,53092.64,52949.91,58271.25,39524.23,29451.74,96697.24,29962.59,32876.36,44178.77,35856.38,18440.26,50064.02,39514.86,53776.72,30952.36,45837.24,36088.87,81075.01,65612.21,57916.17,33508.6,81664.04,46943.65,61641.52,68350.57,38472.4,53213.34,39897.02,62170.05,41105.2,73177.15,51105.88,40041.72,62591.54,46469.47,68861.23,88513.29,44783.51,63223.78,79029.72,57441.88,45837.24,40766.64,72817.98,63750.64,54933.04,51632.75,94045.37,71390.18,49525.29,68546.69,21109.68,95257.16,28398.01,39514.86,77975.99,41622.32,44081.04,64134.65,90884.18,53609.39,43097.54,55320.8,43202.91,56866.41,50403.42,64155.64,77167.11,45696.77,55239.14,54949.68,63223.78,63344.17,77148.81,75783.82,56959.35,31980.69,93089.89,48550.59,22396.9,34254.33,93071.72,93255.07,44167.29,67965.56,94045.37,58390.46,43729.78,47119.62,44048.9,34446.05,35890.03,93071.72,37481.16,40041.72,29574.66,41105.2,35890.24,93540.68,61881.11,69335.41,21348.77,21074.59,52686.48,46954.78,26027.12,62170.05,84466.97,59391.74,25822.49,43202.91,31506.51,86140.71,51632.75,26870.1,61895.74,59535.72,94308.8,53399.87,67664.19,32185.47,20568.8,42159.18,35616.06,90747.64,97891.48,75692.87,31611.89,65873.72,66384.96,94045.37,25795.3,56416.68,27192.67,24235.78,34562.33,58671.66,76922.26,37943.26,33508.6,60030.97,43213.16,49033.51,77712.56,88758.86,32857.66,92201.34,36880.53,72760.03,40568.59,7823.94,93518.5,77712.56,90747.64,29609.8,63238.77,38735.1,86862.09,39514.86,40103.47,21343.29,62380.79,51076.22,98020.09,94858.16,33982.78,46832.91,47681.26,52313.62,39514.86,51105.88,44794.13,93311.24,53092.59,67981.68,57902.44,34387.36,42149.18,46890.97,52956.04,77975.99,52686.48,48396.32,37249.34,67438.69,31085.02,30584.53,48524.25,37201.39,50546.2,55847.67,26556.62,69019.29,47417.83,66384.96,52423.05,67175.26,41348.35,94045.37,51000.51,43202.91,39883.66,30831.23,68597.8,35602.46,33118.72,33192.48,39260.73,38812.34,46775.06,75125.55,46943.65,61864.46,52317.67,37354.71,49894.1,34878.45,89567.02,87443.75,60603.82,52678.58,44167.29,41885.75,45046.94,68228.99,31787.49,46364.1,90093.88,79820.02,68228.99,48987.89,58685.58,17494.02,63223.78,81683.41,63243.8,39946.36,76711.52,84298.37,8693.26,60811.74,18449.22,72777.28,37191.38,49638.57,50410.42,39778.29,66384.96,32823.67,27607.71,49525.29,47128.05,26265.89,86142.4,40392.93,43093.85,75833.82,75375.18,37934.26,68508.67,77975.99,79029.72,88513.29,44794.13,65120.49,94436.56,52405.45,38989.78,76219.79,29212.28,43549.17,42334.82,68861.23,57733.9,42676.05,37049.13,65194.25,71126.75,53399.87,48642.73,39573.87,57733.84,53099.54,70863.32,50930.28,84298.37,58990.73,19757.43,75107.69,52943.48,94449.26,35080.76,54793.94,43093.85,55847.67,46574.85,77712.56,87248.81,51118.0,74762.12,39887.51,44888.88,28398.01,38370.12,38817.08,69440.78,39875.63,48483.05,33613.97,48629.62,60062.59,54267.07,43093.85,65858.1,90093.88,49525.29,34035.46,44783.51,49051.11,79029.72,64170.91,21902.43,37201.39,30558.16,45837.24,44141.21,82190.91,22976.89,88513.29,38092.32,90936.87,47119.62,23392.79,58692.74,84298.37,37201.39,51632.75,21922.77,58671.66,63238.77,47417.83,44178.77,24393.84,46943.65,49525.29,93518.5,93511.29,45429.02,62184.79,57375.58,98787.15,93465.82,20552.6,38817.03,54091.47,50901.94,24427.03,68007.71,39887.51,61537.81,18971.63,61626.95,59377.66,84318.36,46094.35,91411.04,48998.42,44794.13,38987.99,45429.07,35879.49,55847.67,44941.57,55689.61,59377.66,44178.77,92367.6,94308.8,33192.48,93465.82,50579.02,77467.49,55689.61,93540.68,46943.65,40103.47,53160.66,41253.51,43202.91,34088.15,94045.37,47417.83,62170.05,36839.97,90884.18,39524.23,44189.25,73761.07,32165.09,81664.04,32770.99,26265.89],\"coloraxis\":\"coloraxis\"},\"mode\":\"markers\",\"name\":\"\",\"showlegend\":false,\"subplot\":\"mapbox\",\"type\":\"scattermapbox\"}],                        {\"template\":{\"data\":{\"histogram2dcontour\":[{\"type\":\"histogram2dcontour\",\"colorbar\":{\"outlinewidth\":0,\"ticks\":\"\"},\"colorscale\":[[0.0,\"#0d0887\"],[0.1111111111111111,\"#46039f\"],[0.2222222222222222,\"#7201a8\"],[0.3333333333333333,\"#9c179e\"],[0.4444444444444444,\"#bd3786\"],[0.5555555555555556,\"#d8576b\"],[0.6666666666666666,\"#ed7953\"],[0.7777777777777778,\"#fb9f3a\"],[0.8888888888888888,\"#fdca26\"],[1.0,\"#f0f921\"]]}],\"choropleth\":[{\"type\":\"choropleth\",\"colorbar\":{\"outlinewidth\":0,\"ticks\":\"\"}}],\"histogram2d\":[{\"type\":\"histogram2d\",\"colorbar\":{\"outlinewidth\":0,\"ticks\":\"\"},\"colorscale\":[[0.0,\"#0d0887\"],[0.1111111111111111,\"#46039f\"],[0.2222222222222222,\"#7201a8\"],[0.3333333333333333,\"#9c179e\"],[0.4444444444444444,\"#bd3786\"],[0.5555555555555556,\"#d8576b\"],[0.6666666666666666,\"#ed7953\"],[0.7777777777777778,\"#fb9f3a\"],[0.8888888888888888,\"#fdca26\"],[1.0,\"#f0f921\"]]}],\"heatmap\":[{\"type\":\"heatmap\",\"colorbar\":{\"outlinewidth\":0,\"ticks\":\"\"},\"colorscale\":[[0.0,\"#0d0887\"],[0.1111111111111111,\"#46039f\"],[0.2222222222222222,\"#7201a8\"],[0.3333333333333333,\"#9c179e\"],[0.4444444444444444,\"#bd3786\"],[0.5555555555555556,\"#d8576b\"],[0.6666666666666666,\"#ed7953\"],[0.7777777777777778,\"#fb9f3a\"],[0.8888888888888888,\"#fdca26\"],[1.0,\"#f0f921\"]]}],\"heatmapgl\":[{\"type\":\"heatmapgl\",\"colorbar\":{\"outlinewidth\":0,\"ticks\":\"\"},\"colorscale\":[[0.0,\"#0d0887\"],[0.1111111111111111,\"#46039f\"],[0.2222222222222222,\"#7201a8\"],[0.3333333333333333,\"#9c179e\"],[0.4444444444444444,\"#bd3786\"],[0.5555555555555556,\"#d8576b\"],[0.6666666666666666,\"#ed7953\"],[0.7777777777777778,\"#fb9f3a\"],[0.8888888888888888,\"#fdca26\"],[1.0,\"#f0f921\"]]}],\"contourcarpet\":[{\"type\":\"contourcarpet\",\"colorbar\":{\"outlinewidth\":0,\"ticks\":\"\"}}],\"contour\":[{\"type\":\"contour\",\"colorbar\":{\"outlinewidth\":0,\"ticks\":\"\"},\"colorscale\":[[0.0,\"#0d0887\"],[0.1111111111111111,\"#46039f\"],[0.2222222222222222,\"#7201a8\"],[0.3333333333333333,\"#9c179e\"],[0.4444444444444444,\"#bd3786\"],[0.5555555555555556,\"#d8576b\"],[0.6666666666666666,\"#ed7953\"],[0.7777777777777778,\"#fb9f3a\"],[0.8888888888888888,\"#fdca26\"],[1.0,\"#f0f921\"]]}],\"surface\":[{\"type\":\"surface\",\"colorbar\":{\"outlinewidth\":0,\"ticks\":\"\"},\"colorscale\":[[0.0,\"#0d0887\"],[0.1111111111111111,\"#46039f\"],[0.2222222222222222,\"#7201a8\"],[0.3333333333333333,\"#9c179e\"],[0.4444444444444444,\"#bd3786\"],[0.5555555555555556,\"#d8576b\"],[0.6666666666666666,\"#ed7953\"],[0.7777777777777778,\"#fb9f3a\"],[0.8888888888888888,\"#fdca26\"],[1.0,\"#f0f921\"]]}],\"mesh3d\":[{\"type\":\"mesh3d\",\"colorbar\":{\"outlinewidth\":0,\"ticks\":\"\"}}],\"scatter\":[{\"fillpattern\":{\"fillmode\":\"overlay\",\"size\":10,\"solidity\":0.2},\"type\":\"scatter\"}],\"parcoords\":[{\"type\":\"parcoords\",\"line\":{\"colorbar\":{\"outlinewidth\":0,\"ticks\":\"\"}}}],\"scatterpolargl\":[{\"type\":\"scatterpolargl\",\"marker\":{\"colorbar\":{\"outlinewidth\":0,\"ticks\":\"\"}}}],\"bar\":[{\"error_x\":{\"color\":\"#2a3f5f\"},\"error_y\":{\"color\":\"#2a3f5f\"},\"marker\":{\"line\":{\"color\":\"#E5ECF6\",\"width\":0.5},\"pattern\":{\"fillmode\":\"overlay\",\"size\":10,\"solidity\":0.2}},\"type\":\"bar\"}],\"scattergeo\":[{\"type\":\"scattergeo\",\"marker\":{\"colorbar\":{\"outlinewidth\":0,\"ticks\":\"\"}}}],\"scatterpolar\":[{\"type\":\"scatterpolar\",\"marker\":{\"colorbar\":{\"outlinewidth\":0,\"ticks\":\"\"}}}],\"histogram\":[{\"marker\":{\"pattern\":{\"fillmode\":\"overlay\",\"size\":10,\"solidity\":0.2}},\"type\":\"histogram\"}],\"scattergl\":[{\"type\":\"scattergl\",\"marker\":{\"colorbar\":{\"outlinewidth\":0,\"ticks\":\"\"}}}],\"scatter3d\":[{\"type\":\"scatter3d\",\"line\":{\"colorbar\":{\"outlinewidth\":0,\"ticks\":\"\"}},\"marker\":{\"colorbar\":{\"outlinewidth\":0,\"ticks\":\"\"}}}],\"scattermapbox\":[{\"type\":\"scattermapbox\",\"marker\":{\"colorbar\":{\"outlinewidth\":0,\"ticks\":\"\"}}}],\"scatterternary\":[{\"type\":\"scatterternary\",\"marker\":{\"colorbar\":{\"outlinewidth\":0,\"ticks\":\"\"}}}],\"scattercarpet\":[{\"type\":\"scattercarpet\",\"marker\":{\"colorbar\":{\"outlinewidth\":0,\"ticks\":\"\"}}}],\"carpet\":[{\"aaxis\":{\"endlinecolor\":\"#2a3f5f\",\"gridcolor\":\"white\",\"linecolor\":\"white\",\"minorgridcolor\":\"white\",\"startlinecolor\":\"#2a3f5f\"},\"baxis\":{\"endlinecolor\":\"#2a3f5f\",\"gridcolor\":\"white\",\"linecolor\":\"white\",\"minorgridcolor\":\"white\",\"startlinecolor\":\"#2a3f5f\"},\"type\":\"carpet\"}],\"table\":[{\"cells\":{\"fill\":{\"color\":\"#EBF0F8\"},\"line\":{\"color\":\"white\"}},\"header\":{\"fill\":{\"color\":\"#C8D4E3\"},\"line\":{\"color\":\"white\"}},\"type\":\"table\"}],\"barpolar\":[{\"marker\":{\"line\":{\"color\":\"#E5ECF6\",\"width\":0.5},\"pattern\":{\"fillmode\":\"overlay\",\"size\":10,\"solidity\":0.2}},\"type\":\"barpolar\"}],\"pie\":[{\"automargin\":true,\"type\":\"pie\"}]},\"layout\":{\"autotypenumbers\":\"strict\",\"colorway\":[\"#636efa\",\"#EF553B\",\"#00cc96\",\"#ab63fa\",\"#FFA15A\",\"#19d3f3\",\"#FF6692\",\"#B6E880\",\"#FF97FF\",\"#FECB52\"],\"font\":{\"color\":\"#2a3f5f\"},\"hovermode\":\"closest\",\"hoverlabel\":{\"align\":\"left\"},\"paper_bgcolor\":\"white\",\"plot_bgcolor\":\"#E5ECF6\",\"polar\":{\"bgcolor\":\"#E5ECF6\",\"angularaxis\":{\"gridcolor\":\"white\",\"linecolor\":\"white\",\"ticks\":\"\"},\"radialaxis\":{\"gridcolor\":\"white\",\"linecolor\":\"white\",\"ticks\":\"\"}},\"ternary\":{\"bgcolor\":\"#E5ECF6\",\"aaxis\":{\"gridcolor\":\"white\",\"linecolor\":\"white\",\"ticks\":\"\"},\"baxis\":{\"gridcolor\":\"white\",\"linecolor\":\"white\",\"ticks\":\"\"},\"caxis\":{\"gridcolor\":\"white\",\"linecolor\":\"white\",\"ticks\":\"\"}},\"coloraxis\":{\"colorbar\":{\"outlinewidth\":0,\"ticks\":\"\"}},\"colorscale\":{\"sequential\":[[0.0,\"#0d0887\"],[0.1111111111111111,\"#46039f\"],[0.2222222222222222,\"#7201a8\"],[0.3333333333333333,\"#9c179e\"],[0.4444444444444444,\"#bd3786\"],[0.5555555555555556,\"#d8576b\"],[0.6666666666666666,\"#ed7953\"],[0.7777777777777778,\"#fb9f3a\"],[0.8888888888888888,\"#fdca26\"],[1.0,\"#f0f921\"]],\"sequentialminus\":[[0.0,\"#0d0887\"],[0.1111111111111111,\"#46039f\"],[0.2222222222222222,\"#7201a8\"],[0.3333333333333333,\"#9c179e\"],[0.4444444444444444,\"#bd3786\"],[0.5555555555555556,\"#d8576b\"],[0.6666666666666666,\"#ed7953\"],[0.7777777777777778,\"#fb9f3a\"],[0.8888888888888888,\"#fdca26\"],[1.0,\"#f0f921\"]],\"diverging\":[[0,\"#8e0152\"],[0.1,\"#c51b7d\"],[0.2,\"#de77ae\"],[0.3,\"#f1b6da\"],[0.4,\"#fde0ef\"],[0.5,\"#f7f7f7\"],[0.6,\"#e6f5d0\"],[0.7,\"#b8e186\"],[0.8,\"#7fbc41\"],[0.9,\"#4d9221\"],[1,\"#276419\"]]},\"xaxis\":{\"gridcolor\":\"white\",\"linecolor\":\"white\",\"ticks\":\"\",\"title\":{\"standoff\":15},\"zerolinecolor\":\"white\",\"automargin\":true,\"zerolinewidth\":2},\"yaxis\":{\"gridcolor\":\"white\",\"linecolor\":\"white\",\"ticks\":\"\",\"title\":{\"standoff\":15},\"zerolinecolor\":\"white\",\"automargin\":true,\"zerolinewidth\":2},\"scene\":{\"xaxis\":{\"backgroundcolor\":\"#E5ECF6\",\"gridcolor\":\"white\",\"linecolor\":\"white\",\"showbackground\":true,\"ticks\":\"\",\"zerolinecolor\":\"white\",\"gridwidth\":2},\"yaxis\":{\"backgroundcolor\":\"#E5ECF6\",\"gridcolor\":\"white\",\"linecolor\":\"white\",\"showbackground\":true,\"ticks\":\"\",\"zerolinecolor\":\"white\",\"gridwidth\":2},\"zaxis\":{\"backgroundcolor\":\"#E5ECF6\",\"gridcolor\":\"white\",\"linecolor\":\"white\",\"showbackground\":true,\"ticks\":\"\",\"zerolinecolor\":\"white\",\"gridwidth\":2}},\"shapedefaults\":{\"line\":{\"color\":\"#2a3f5f\"}},\"annotationdefaults\":{\"arrowcolor\":\"#2a3f5f\",\"arrowhead\":0,\"arrowwidth\":1},\"geo\":{\"bgcolor\":\"white\",\"landcolor\":\"#E5ECF6\",\"subunitcolor\":\"white\",\"showland\":true,\"showlakes\":true,\"lakecolor\":\"white\"},\"title\":{\"x\":0.05},\"mapbox\":{\"style\":\"light\"}}},\"mapbox\":{\"domain\":{\"x\":[0.0,1.0],\"y\":[0.0,1.0]},\"center\":{\"lat\":19.45368542754726,\"lon\":-99.18642266728925},\"zoom\":8,\"style\":\"open-street-map\"},\"coloraxis\":{\"colorbar\":{\"title\":{\"text\":\"price_aprox_usd\"}},\"colorscale\":[[0.0,\"#0d0887\"],[0.1111111111111111,\"#46039f\"],[0.2222222222222222,\"#7201a8\"],[0.3333333333333333,\"#9c179e\"],[0.4444444444444444,\"#bd3786\"],[0.5555555555555556,\"#d8576b\"],[0.6666666666666666,\"#ed7953\"],[0.7777777777777778,\"#fb9f3a\"],[0.8888888888888888,\"#fdca26\"],[1.0,\"#f0f921\"]]},\"legend\":{\"tracegroupgap\":0},\"margin\":{\"t\":60},\"height\":400,\"width\":1000},                        {\"responsive\": true}                    ).then(function(){\n",
              "                            \n",
              "var gd = document.getElementById('c4365b01-71cc-4b2a-a2ba-cd77d8912fe9');\n",
              "var x = new MutationObserver(function (mutations, observer) {{\n",
              "        var display = window.getComputedStyle(gd).display;\n",
              "        if (!display || display === 'none') {{\n",
              "            console.log([gd, 'removed!']);\n",
              "            Plotly.purge(gd);\n",
              "            observer.disconnect();\n",
              "        }}\n",
              "}});\n",
              "\n",
              "// Listen for the removal of the full notebook cells\n",
              "var notebookContainer = gd.closest('#notebook-container');\n",
              "if (notebookContainer) {{\n",
              "    x.observe(notebookContainer, {childList: true});\n",
              "}}\n",
              "\n",
              "// Listen for the clearing of the current output cell\n",
              "var outputEl = gd.closest('.output');\n",
              "if (outputEl) {{\n",
              "    x.observe(outputEl, {childList: true});\n",
              "}}\n",
              "\n",
              "                        })                };                            </script>        </div>\n",
              "</body>\n",
              "</html>"
            ]
          },
          "metadata": {}
        }
      ]
    },
    {
      "cell_type": "code",
      "source": [
        "#Mexico City is divided into 15 boroughs. Create a \"borough\" feature from the \"place_with_parent_names\" column.\n",
        "df[\"borough\"] = df[\"place_with_parent_names\"].str.split(\"|\", expand = True)[1]\n",
        "df.drop(columns = [\"place_with_parent_names\"], inplace =True)\n",
        "df.head()"
      ],
      "metadata": {
        "colab": {
          "base_uri": "https://localhost:8080/",
          "height": 409
        },
        "id": "KN_fTSSVk2ZY",
        "outputId": "3b837b47-7c0e-4995-f5d9-15cb84a0b9c9"
      },
      "execution_count": 19,
      "outputs": [
        {
          "output_type": "execute_result",
          "data": {
            "text/plain": [
              "   operation property_type      price currency  price_aprox_local_currency  \\\n",
              "11      sell     apartment  1784569.0      MXN                  1768425.20   \n",
              "20      sell     apartment  1345000.0      MXN                  1333148.73   \n",
              "21      sell     apartment  1295000.0      MXN                  1283284.95   \n",
              "22      sell     apartment   460000.0      MXN                   455838.66   \n",
              "26      sell     apartment  1786800.0      MXN                  1770635.95   \n",
              "\n",
              "    price_aprox_usd  surface_total_in_m2  surface_covered_in_m2  \\\n",
              "11         94022.66                  NaN                   57.0   \n",
              "20         70880.12                 56.0                   56.0   \n",
              "21         68228.99                  NaN                   80.0   \n",
              "22         24235.78                  NaN                   60.0   \n",
              "26         94140.20                  NaN                   50.0   \n",
              "\n",
              "    price_usd_per_m2  price_per_m2  floor  rooms  expenses  \\\n",
              "11               NaN  31308.228070    NaN    NaN       NaN   \n",
              "20       1265.716429  24017.857140    NaN    NaN       NaN   \n",
              "21               NaN  16187.500000    NaN    NaN       NaN   \n",
              "22               NaN   7666.666667    NaN    NaN       NaN   \n",
              "26               NaN  35736.000000    NaN    NaN       NaN   \n",
              "\n",
              "                                        properati_url        lat         lon  \\\n",
              "11  http://benito-juarez.properati.com.mx/pdji_ven...  23.634501 -102.552788   \n",
              "20  http://iztacalco.properati.com.mx/r6gm_venta_d...  19.402413  -99.095391   \n",
              "21  http://benito-juarez.properati.com.mx/qvop_ven...  19.357820  -99.149406   \n",
              "22  http://prados-del-rosario.properati.com.mx/qba...  19.504985  -99.208557   \n",
              "26  http://prado-churubusco.properati.com.mx/pm05_...  19.354219  -99.126244   \n",
              "\n",
              "          borough  \n",
              "11  Benito Juárez  \n",
              "20      Iztacalco  \n",
              "21  Benito Juárez  \n",
              "22   Azcapotzalco  \n",
              "26       Coyoacán  "
            ],
            "text/html": [
              "\n",
              "  <div id=\"df-ae41629d-2f42-4b71-8fb0-b3e413b54b7e\">\n",
              "    <div class=\"colab-df-container\">\n",
              "      <div>\n",
              "<style scoped>\n",
              "    .dataframe tbody tr th:only-of-type {\n",
              "        vertical-align: middle;\n",
              "    }\n",
              "\n",
              "    .dataframe tbody tr th {\n",
              "        vertical-align: top;\n",
              "    }\n",
              "\n",
              "    .dataframe thead th {\n",
              "        text-align: right;\n",
              "    }\n",
              "</style>\n",
              "<table border=\"1\" class=\"dataframe\">\n",
              "  <thead>\n",
              "    <tr style=\"text-align: right;\">\n",
              "      <th></th>\n",
              "      <th>operation</th>\n",
              "      <th>property_type</th>\n",
              "      <th>price</th>\n",
              "      <th>currency</th>\n",
              "      <th>price_aprox_local_currency</th>\n",
              "      <th>price_aprox_usd</th>\n",
              "      <th>surface_total_in_m2</th>\n",
              "      <th>surface_covered_in_m2</th>\n",
              "      <th>price_usd_per_m2</th>\n",
              "      <th>price_per_m2</th>\n",
              "      <th>floor</th>\n",
              "      <th>rooms</th>\n",
              "      <th>expenses</th>\n",
              "      <th>properati_url</th>\n",
              "      <th>lat</th>\n",
              "      <th>lon</th>\n",
              "      <th>borough</th>\n",
              "    </tr>\n",
              "  </thead>\n",
              "  <tbody>\n",
              "    <tr>\n",
              "      <th>11</th>\n",
              "      <td>sell</td>\n",
              "      <td>apartment</td>\n",
              "      <td>1784569.0</td>\n",
              "      <td>MXN</td>\n",
              "      <td>1768425.20</td>\n",
              "      <td>94022.66</td>\n",
              "      <td>NaN</td>\n",
              "      <td>57.0</td>\n",
              "      <td>NaN</td>\n",
              "      <td>31308.228070</td>\n",
              "      <td>NaN</td>\n",
              "      <td>NaN</td>\n",
              "      <td>NaN</td>\n",
              "      <td>http://benito-juarez.properati.com.mx/pdji_ven...</td>\n",
              "      <td>23.634501</td>\n",
              "      <td>-102.552788</td>\n",
              "      <td>Benito Juárez</td>\n",
              "    </tr>\n",
              "    <tr>\n",
              "      <th>20</th>\n",
              "      <td>sell</td>\n",
              "      <td>apartment</td>\n",
              "      <td>1345000.0</td>\n",
              "      <td>MXN</td>\n",
              "      <td>1333148.73</td>\n",
              "      <td>70880.12</td>\n",
              "      <td>56.0</td>\n",
              "      <td>56.0</td>\n",
              "      <td>1265.716429</td>\n",
              "      <td>24017.857140</td>\n",
              "      <td>NaN</td>\n",
              "      <td>NaN</td>\n",
              "      <td>NaN</td>\n",
              "      <td>http://iztacalco.properati.com.mx/r6gm_venta_d...</td>\n",
              "      <td>19.402413</td>\n",
              "      <td>-99.095391</td>\n",
              "      <td>Iztacalco</td>\n",
              "    </tr>\n",
              "    <tr>\n",
              "      <th>21</th>\n",
              "      <td>sell</td>\n",
              "      <td>apartment</td>\n",
              "      <td>1295000.0</td>\n",
              "      <td>MXN</td>\n",
              "      <td>1283284.95</td>\n",
              "      <td>68228.99</td>\n",
              "      <td>NaN</td>\n",
              "      <td>80.0</td>\n",
              "      <td>NaN</td>\n",
              "      <td>16187.500000</td>\n",
              "      <td>NaN</td>\n",
              "      <td>NaN</td>\n",
              "      <td>NaN</td>\n",
              "      <td>http://benito-juarez.properati.com.mx/qvop_ven...</td>\n",
              "      <td>19.357820</td>\n",
              "      <td>-99.149406</td>\n",
              "      <td>Benito Juárez</td>\n",
              "    </tr>\n",
              "    <tr>\n",
              "      <th>22</th>\n",
              "      <td>sell</td>\n",
              "      <td>apartment</td>\n",
              "      <td>460000.0</td>\n",
              "      <td>MXN</td>\n",
              "      <td>455838.66</td>\n",
              "      <td>24235.78</td>\n",
              "      <td>NaN</td>\n",
              "      <td>60.0</td>\n",
              "      <td>NaN</td>\n",
              "      <td>7666.666667</td>\n",
              "      <td>NaN</td>\n",
              "      <td>NaN</td>\n",
              "      <td>NaN</td>\n",
              "      <td>http://prados-del-rosario.properati.com.mx/qba...</td>\n",
              "      <td>19.504985</td>\n",
              "      <td>-99.208557</td>\n",
              "      <td>Azcapotzalco</td>\n",
              "    </tr>\n",
              "    <tr>\n",
              "      <th>26</th>\n",
              "      <td>sell</td>\n",
              "      <td>apartment</td>\n",
              "      <td>1786800.0</td>\n",
              "      <td>MXN</td>\n",
              "      <td>1770635.95</td>\n",
              "      <td>94140.20</td>\n",
              "      <td>NaN</td>\n",
              "      <td>50.0</td>\n",
              "      <td>NaN</td>\n",
              "      <td>35736.000000</td>\n",
              "      <td>NaN</td>\n",
              "      <td>NaN</td>\n",
              "      <td>NaN</td>\n",
              "      <td>http://prado-churubusco.properati.com.mx/pm05_...</td>\n",
              "      <td>19.354219</td>\n",
              "      <td>-99.126244</td>\n",
              "      <td>Coyoacán</td>\n",
              "    </tr>\n",
              "  </tbody>\n",
              "</table>\n",
              "</div>\n",
              "      <button class=\"colab-df-convert\" onclick=\"convertToInteractive('df-ae41629d-2f42-4b71-8fb0-b3e413b54b7e')\"\n",
              "              title=\"Convert this dataframe to an interactive table.\"\n",
              "              style=\"display:none;\">\n",
              "        \n",
              "  <svg xmlns=\"http://www.w3.org/2000/svg\" height=\"24px\"viewBox=\"0 0 24 24\"\n",
              "       width=\"24px\">\n",
              "    <path d=\"M0 0h24v24H0V0z\" fill=\"none\"/>\n",
              "    <path d=\"M18.56 5.44l.94 2.06.94-2.06 2.06-.94-2.06-.94-.94-2.06-.94 2.06-2.06.94zm-11 1L8.5 8.5l.94-2.06 2.06-.94-2.06-.94L8.5 2.5l-.94 2.06-2.06.94zm10 10l.94 2.06.94-2.06 2.06-.94-2.06-.94-.94-2.06-.94 2.06-2.06.94z\"/><path d=\"M17.41 7.96l-1.37-1.37c-.4-.4-.92-.59-1.43-.59-.52 0-1.04.2-1.43.59L10.3 9.45l-7.72 7.72c-.78.78-.78 2.05 0 2.83L4 21.41c.39.39.9.59 1.41.59.51 0 1.02-.2 1.41-.59l7.78-7.78 2.81-2.81c.8-.78.8-2.07 0-2.86zM5.41 20L4 18.59l7.72-7.72 1.47 1.35L5.41 20z\"/>\n",
              "  </svg>\n",
              "      </button>\n",
              "      \n",
              "  <style>\n",
              "    .colab-df-container {\n",
              "      display:flex;\n",
              "      flex-wrap:wrap;\n",
              "      gap: 12px;\n",
              "    }\n",
              "\n",
              "    .colab-df-convert {\n",
              "      background-color: #E8F0FE;\n",
              "      border: none;\n",
              "      border-radius: 50%;\n",
              "      cursor: pointer;\n",
              "      display: none;\n",
              "      fill: #1967D2;\n",
              "      height: 32px;\n",
              "      padding: 0 0 0 0;\n",
              "      width: 32px;\n",
              "    }\n",
              "\n",
              "    .colab-df-convert:hover {\n",
              "      background-color: #E2EBFA;\n",
              "      box-shadow: 0px 1px 2px rgba(60, 64, 67, 0.3), 0px 1px 3px 1px rgba(60, 64, 67, 0.15);\n",
              "      fill: #174EA6;\n",
              "    }\n",
              "\n",
              "    [theme=dark] .colab-df-convert {\n",
              "      background-color: #3B4455;\n",
              "      fill: #D2E3FC;\n",
              "    }\n",
              "\n",
              "    [theme=dark] .colab-df-convert:hover {\n",
              "      background-color: #434B5C;\n",
              "      box-shadow: 0px 1px 3px 1px rgba(0, 0, 0, 0.15);\n",
              "      filter: drop-shadow(0px 1px 2px rgba(0, 0, 0, 0.3));\n",
              "      fill: #FFFFFF;\n",
              "    }\n",
              "  </style>\n",
              "\n",
              "      <script>\n",
              "        const buttonEl =\n",
              "          document.querySelector('#df-ae41629d-2f42-4b71-8fb0-b3e413b54b7e button.colab-df-convert');\n",
              "        buttonEl.style.display =\n",
              "          google.colab.kernel.accessAllowed ? 'block' : 'none';\n",
              "\n",
              "        async function convertToInteractive(key) {\n",
              "          const element = document.querySelector('#df-ae41629d-2f42-4b71-8fb0-b3e413b54b7e');\n",
              "          const dataTable =\n",
              "            await google.colab.kernel.invokeFunction('convertToInteractive',\n",
              "                                                     [key], {});\n",
              "          if (!dataTable) return;\n",
              "\n",
              "          const docLinkHtml = 'Like what you see? Visit the ' +\n",
              "            '<a target=\"_blank\" href=https://colab.research.google.com/notebooks/data_table.ipynb>data table notebook</a>'\n",
              "            + ' to learn more about interactive tables.';\n",
              "          element.innerHTML = '';\n",
              "          dataTable['output_type'] = 'display_data';\n",
              "          await google.colab.output.renderOutput(dataTable, element);\n",
              "          const docLink = document.createElement('div');\n",
              "          docLink.innerHTML = docLinkHtml;\n",
              "          element.appendChild(docLink);\n",
              "        }\n",
              "      </script>\n",
              "    </div>\n",
              "  </div>\n",
              "  "
            ]
          },
          "metadata": {},
          "execution_count": 19
        }
      ]
    },
    {
      "cell_type": "code",
      "source": [
        "# showcolumns that are more than 50\\% null values.\n",
        "df.isnull().sum()/len(df)"
      ],
      "metadata": {
        "colab": {
          "base_uri": "https://localhost:8080/"
        },
        "id": "m0yNPSSmlFMu",
        "outputId": "f722d038-80c5-450a-d1f0-99ac63d4dbaf"
      },
      "execution_count": 20,
      "outputs": [
        {
          "output_type": "execute_result",
          "data": {
            "text/plain": [
              "operation                     0.000000\n",
              "property_type                 0.000000\n",
              "price                         0.000000\n",
              "currency                      0.000000\n",
              "price_aprox_local_currency    0.000000\n",
              "price_aprox_usd               0.000000\n",
              "surface_total_in_m2           0.908265\n",
              "surface_covered_in_m2         0.000000\n",
              "price_usd_per_m2              0.936421\n",
              "price_per_m2                  0.000000\n",
              "floor                         1.000000\n",
              "rooms                         0.994550\n",
              "expenses                      1.000000\n",
              "properati_url                 0.000000\n",
              "lat                           0.054496\n",
              "lon                           0.054496\n",
              "borough                       0.000000\n",
              "dtype: float64"
            ]
          },
          "metadata": {},
          "execution_count": 20
        }
      ]
    },
    {
      "cell_type": "code",
      "source": [
        "#Drop columns that are more than 50\\% null values.\n",
        "df.drop(columns = [\"floor\", \"expenses\", \"rooms\"], inplace = True)\n",
        "df.info()"
      ],
      "metadata": {
        "colab": {
          "base_uri": "https://localhost:8080/"
        },
        "id": "p_TPu9R5mCk8",
        "outputId": "40bf0148-aaf4-4531-98de-7f79b42d0060"
      },
      "execution_count": 21,
      "outputs": [
        {
          "output_type": "stream",
          "name": "stdout",
          "text": [
            "<class 'pandas.core.frame.DataFrame'>\n",
            "Int64Index: 1101 entries, 11 to 4605\n",
            "Data columns (total 14 columns):\n",
            " #   Column                      Non-Null Count  Dtype  \n",
            "---  ------                      --------------  -----  \n",
            " 0   operation                   1101 non-null   object \n",
            " 1   property_type               1101 non-null   object \n",
            " 2   price                       1101 non-null   float64\n",
            " 3   currency                    1101 non-null   object \n",
            " 4   price_aprox_local_currency  1101 non-null   float64\n",
            " 5   price_aprox_usd             1101 non-null   float64\n",
            " 6   surface_total_in_m2         101 non-null    float64\n",
            " 7   surface_covered_in_m2       1101 non-null   float64\n",
            " 8   price_usd_per_m2            70 non-null     float64\n",
            " 9   price_per_m2                1101 non-null   float64\n",
            " 10  properati_url               1101 non-null   object \n",
            " 11  lat                         1041 non-null   float64\n",
            " 12  lon                         1041 non-null   float64\n",
            " 13  borough                     1101 non-null   object \n",
            "dtypes: float64(9), object(5)\n",
            "memory usage: 129.0+ KB\n"
          ]
        }
      ]
    },
    {
      "cell_type": "code",
      "source": [
        "# show columns containing low- or high-cardinality categorical values.\n",
        "for i in df.columns:\n",
        "  print(f\"The number of unique values of feature {i}: {df[i].nunique()}\")"
      ],
      "metadata": {
        "colab": {
          "base_uri": "https://localhost:8080/"
        },
        "id": "WEtfRqgRnH3_",
        "outputId": "c427e0b7-90e6-436a-dd82-596eb3eeba51"
      },
      "execution_count": 22,
      "outputs": [
        {
          "output_type": "stream",
          "name": "stdout",
          "text": [
            "The number of unique values of feature operation: 1\n",
            "The number of unique values of feature property_type: 1\n",
            "The number of unique values of feature price: 619\n",
            "The number of unique values of feature currency: 1\n",
            "The number of unique values of feature price_aprox_local_currency: 698\n",
            "The number of unique values of feature price_aprox_usd: 698\n",
            "The number of unique values of feature surface_total_in_m2: 39\n",
            "The number of unique values of feature surface_covered_in_m2: 44\n",
            "The number of unique values of feature price_usd_per_m2: 66\n",
            "The number of unique values of feature price_per_m2: 888\n",
            "The number of unique values of feature properati_url: 1101\n",
            "The number of unique values of feature lat: 660\n",
            "The number of unique values of feature lon: 644\n",
            "The number of unique values of feature borough: 14\n"
          ]
        }
      ]
    },
    {
      "cell_type": "markdown",
      "source": [
        "From the experiment above It is effortless to realize that \"operation\" and \"property_type\", \"currency\" has only 1 and 2 values So these features are Low-Cardanality Features of the dataset.\n",
        "\n",
        "On the other hand, \"properati_url\" has 1405 values which is excalty equal to the number of row. So \"properati_url\" will be High-Cardanality Feature.\n",
        "\n",
        "\n"
      ],
      "metadata": {
        "id": "FwXAs3VyoLXs"
      }
    },
    {
      "cell_type": "code",
      "source": [
        "#Drop columns containing low- or high-cardinality categorical values. \n",
        "df.drop(columns = [\"operation\", \"property_type\", \"currency\", \"properati_url\"], inplace = True)"
      ],
      "metadata": {
        "id": "pNc-Z-9lmyFY"
      },
      "execution_count": 23,
      "outputs": []
    },
    {
      "cell_type": "markdown",
      "source": [
        "Since our purpose is to predict the price of house in Mexico so our target will be \"price_aprox_usd\" so every feature relate to money will have a strong correlation with the target feature so I will drop those columns express price of house in the DataFrame\n",
        "Those columns are \"price\", \"price_aprox_local_currency\", \"price_per_m2\", \"price_usd_per_m2\"\n"
      ],
      "metadata": {
        "id": "N2pojWjzooMj"
      }
    },
    {
      "cell_type": "code",
      "source": [
        "#Drop any columns that would constitute leakage for the target `\"price_aprox_usd\"`.\n",
        "df.drop(columns = [\"price\", \"price_aprox_local_currency\", \"price_per_m2\", \"price_usd_per_m2\"], inplace = True)"
      ],
      "metadata": {
        "id": "L96tQZRSop1Y"
      },
      "execution_count": 24,
      "outputs": []
    },
    {
      "cell_type": "code",
      "source": [
        "cor = df.corr()\n",
        "sns.heatmap(cor,annot=True,linecolor='white',center=True)"
      ],
      "metadata": {
        "colab": {
          "base_uri": "https://localhost:8080/",
          "height": 602
        },
        "id": "KWRgMwG8iEya",
        "outputId": "7f1ffde1-a455-4be5-b6ff-71ef61c98d00"
      },
      "execution_count": 25,
      "outputs": [
        {
          "output_type": "execute_result",
          "data": {
            "text/plain": [
              "<Axes: >"
            ]
          },
          "metadata": {},
          "execution_count": 25
        },
        {
          "output_type": "display_data",
          "data": {
            "text/plain": [
              "<Figure size 640x480 with 2 Axes>"
            ],
            "image/png": "[encoded data removed]"
          },
          "metadata": {}
        }
      ]
    },
    {
      "cell_type": "markdown",
      "source": [
        "As everyone see the correlation coefficient between \"surface_covered_in_m2\" and \"surface_total_in_m2\" is pretty high we only need one of them so I will drop \"surface_total_in_m2\n",
        "\n"
      ],
      "metadata": {
        "id": "brso9zKXpUZf"
      }
    },
    {
      "cell_type": "code",
      "source": [
        "df.drop(columns = [\"surface_total_in_m2\"], inplace = True)"
      ],
      "metadata": {
        "id": "NTON1TU5o1SA"
      },
      "execution_count": 26,
      "outputs": []
    },
    {
      "cell_type": "markdown",
      "source": [
        "\n",
        "\n",
        "> **4-Data split**\n",
        "\n"
      ],
      "metadata": {
        "id": "RgSPV_i1BNAB"
      }
    },
    {
      "cell_type": "code",
      "source": [
        "target = \"price_aprox_usd\"\n",
        "X = df.drop(columns = [target])\n",
        "y = df[target]\n",
        "print(\"X shape:\", X.shape)\n",
        "print(\"y shape:\", y.shape)"
      ],
      "metadata": {
        "colab": {
          "base_uri": "https://localhost:8080/"
        },
        "id": "Xb4f7HJYxauo",
        "outputId": "57a2038d-c42d-48b9-8fe1-e82a10e021fd"
      },
      "execution_count": 27,
      "outputs": [
        {
          "output_type": "stream",
          "name": "stdout",
          "text": [
            "X shape: (1101, 4)\n",
            "y shape: (1101,)\n"
          ]
        }
      ]
    },
    {
      "cell_type": "code",
      "source": [
        "#split data\n",
        "X_train, X_val, y_train, y_val = train_test_split(X, y, test_size = 0.2,  random_state = 42)\n",
        "print(\"X_train shape:\", X_train.shape)\n",
        "print(\"y_train shape:\", y_train.shape)\n",
        "print(\"X_test shape:\", X_val.shape)\n",
        "print(\"y_test shape:\", y_val.shape)"
      ],
      "metadata": {
        "colab": {
          "base_uri": "https://localhost:8080/"
        },
        "id": "L7KtTBe-Bxz5",
        "outputId": "ae9f0f00-1203-41c9-9ece-8ccf1ce2e0b0"
      },
      "execution_count": 28,
      "outputs": [
        {
          "output_type": "stream",
          "name": "stdout",
          "text": [
            "X_train shape: (880, 4)\n",
            "y_train shape: (880,)\n",
            "X_test shape: (221, 4)\n",
            "y_test shape: (221,)\n"
          ]
        }
      ]
    },
    {
      "cell_type": "markdown",
      "source": [
        "\n",
        "\n",
        "> **5-Build Model**\n",
        "\n",
        "\n"
      ],
      "metadata": {
        "id": "OeFBVqHMGLDy"
      }
    },
    {
      "cell_type": "markdown",
      "source": [
        "# **5.1.1-Baseline**"
      ],
      "metadata": {
        "id": "gcqHpIzlIKMu"
      }
    },
    {
      "cell_type": "code",
      "source": [
        "y_mean = y_train.mean()\n",
        "print(\"Mean apt price:\",round(y_mean,2))\n",
        "\n",
        "print(\"___\"*20)\n",
        "\n",
        "y_pred_baseline = [y_mean]*len(y_train)\n",
        "mae_baseline = mean_absolute_error(y_pred_baseline, y_train)\n",
        "print(\"Baseline MAE:\", round(mae_baseline, 2))"
      ],
      "metadata": {
        "colab": {
          "base_uri": "https://localhost:8080/"
        },
        "id": "QEg04oQLII6f",
        "outputId": "c8faf307-7ca6-4124-919c-fb20bde6482e"
      },
      "execution_count": 36,
      "outputs": [
        {
          "output_type": "stream",
          "name": "stdout",
          "text": [
            "Mean apt price: 54421.72\n",
            "____________________________________________________________\n",
            "Baseline MAE: 17146.18\n"
          ]
        }
      ]
    },
    {
      "cell_type": "markdown",
      "source": [
        "The mean apartment price and baseline MAE should be similar but not identical "
      ],
      "metadata": {
        "id": "V-C4iFv27S_g"
      }
    },
    {
      "cell_type": "markdown",
      "source": [
        "# **5.1.2-Iterate**"
      ],
      "metadata": {
        "id": "tS5UiqaHITuy"
      }
    },
    {
      "cell_type": "markdown",
      "source": [
        "# **`Linear Regression`**"
      ],
      "metadata": {
        "id": "7Oso0eaY6u-2"
      }
    },
    {
      "cell_type": "code",
      "source": [
        "#Create a pipeline named model that contains all the required transformers and fit the model\n",
        "model=make_pipeline(OneHotEncoder(),\n",
        "                    SimpleImputer(),\n",
        "                    LinearRegression())\n",
        "# Fit model\n",
        "model.fit(X_train, y_train)"
      ],
      "metadata": {
        "colab": {
          "base_uri": "https://localhost:8080/",
          "height": 219
        },
        "id": "Hdqzrz27Xjgs",
        "outputId": "9e2d31e3-f670-4ff8-8112-a34eef4bb4e6"
      },
      "execution_count": 57,
      "outputs": [
        {
          "output_type": "execute_result",
          "data": {
            "text/plain": [
              "Pipeline(steps=[('onehotencoder', OneHotEncoder(cols=['borough'])),\n",
              "                ('simpleimputer', SimpleImputer()),\n",
              "                ('linearregression', LinearRegression())])"
            ],
            "text/html": [
              "<style>#sk-container-id-6 {color: black;background-color: white;}#sk-container-id-6 pre{padding: 0;}#sk-container-id-6 div.sk-toggleable {background-color: white;}#sk-container-id-6 label.sk-toggleable__label {cursor: pointer;display: block;width: 100%;margin-bottom: 0;padding: 0.3em;box-sizing: border-box;text-align: center;}#sk-container-id-6 label.sk-toggleable__label-arrow:before {content: \"▸\";float: left;margin-right: 0.25em;color: #696969;}#sk-container-id-6 label.sk-toggleable__label-arrow:hover:before {color: black;}#sk-container-id-6 div.sk-estimator:hover label.sk-toggleable__label-arrow:before {color: black;}#sk-container-id-6 div.sk-toggleable__content {max-height: 0;max-width: 0;overflow: hidden;text-align: left;background-color: #f0f8ff;}#sk-container-id-6 div.sk-toggleable__content pre {margin: 0.2em;color: black;border-radius: 0.25em;background-color: #f0f8ff;}#sk-container-id-6 input.sk-toggleable__control:checked~div.sk-toggleable__content {max-height: 200px;max-width: 100%;overflow: auto;}#sk-container-id-6 input.sk-toggleable__control:checked~label.sk-toggleable__label-arrow:before {content: \"▾\";}#sk-container-id-6 div.sk-estimator input.sk-toggleable__control:checked~label.sk-toggleable__label {background-color: #d4ebff;}#sk-container-id-6 div.sk-label input.sk-toggleable__control:checked~label.sk-toggleable__label {background-color: #d4ebff;}#sk-container-id-6 input.sk-hidden--visually {border: 0;clip: rect(1px 1px 1px 1px);clip: rect(1px, 1px, 1px, 1px);height: 1px;margin: -1px;overflow: hidden;padding: 0;position: absolute;width: 1px;}#sk-container-id-6 div.sk-estimator {font-family: monospace;background-color: #f0f8ff;border: 1px dotted black;border-radius: 0.25em;box-sizing: border-box;margin-bottom: 0.5em;}#sk-container-id-6 div.sk-estimator:hover {background-color: #d4ebff;}#sk-container-id-6 div.sk-parallel-item::after {content: \"\";width: 100%;border-bottom: 1px solid gray;flex-grow: 1;}#sk-container-id-6 div.sk-label:hover label.sk-toggleable__label {background-color: #d4ebff;}#sk-container-id-6 div.sk-serial::before {content: \"\";position: absolute;border-left: 1px solid gray;box-sizing: border-box;top: 0;bottom: 0;left: 50%;z-index: 0;}#sk-container-id-6 div.sk-serial {display: flex;flex-direction: column;align-items: center;background-color: white;padding-right: 0.2em;padding-left: 0.2em;position: relative;}#sk-container-id-6 div.sk-item {position: relative;z-index: 1;}#sk-container-id-6 div.sk-parallel {display: flex;align-items: stretch;justify-content: center;background-color: white;position: relative;}#sk-container-id-6 div.sk-item::before, #sk-container-id-6 div.sk-parallel-item::before {content: \"\";position: absolute;border-left: 1px solid gray;box-sizing: border-box;top: 0;bottom: 0;left: 50%;z-index: -1;}#sk-container-id-6 div.sk-parallel-item {display: flex;flex-direction: column;z-index: 1;position: relative;background-color: white;}#sk-container-id-6 div.sk-parallel-item:first-child::after {align-self: flex-end;width: 50%;}#sk-container-id-6 div.sk-parallel-item:last-child::after {align-self: flex-start;width: 50%;}#sk-container-id-6 div.sk-parallel-item:only-child::after {width: 0;}#sk-container-id-6 div.sk-dashed-wrapped {border: 1px dashed gray;margin: 0 0.4em 0.5em 0.4em;box-sizing: border-box;padding-bottom: 0.4em;background-color: white;}#sk-container-id-6 div.sk-label label {font-family: monospace;font-weight: bold;display: inline-block;line-height: 1.2em;}#sk-container-id-6 div.sk-label-container {text-align: center;}#sk-container-id-6 div.sk-container {/* jupyter's `normalize.less` sets `[hidden] { display: none; }` but bootstrap.min.css set `[hidden] { display: none !important; }` so we also need the `!important` here to be able to override the default hidden behavior on the sphinx rendered scikit-learn.org. See: https://github.com/scikit-learn/scikit-learn/issues/21755 */display: inline-block !important;position: relative;}#sk-container-id-6 div.sk-text-repr-fallback {display: none;}</style><div id=\"sk-container-id-6\" class=\"sk-top-container\"><div class=\"sk-text-repr-fallback\"><pre>Pipeline(steps=[(&#x27;onehotencoder&#x27;, OneHotEncoder(cols=[&#x27;borough&#x27;])),\n",
              "                (&#x27;simpleimputer&#x27;, SimpleImputer()),\n",
              "                (&#x27;linearregression&#x27;, LinearRegression())])</pre><b>In a Jupyter environment, please rerun this cell to show the HTML representation or trust the notebook. <br />On GitHub, the HTML representation is unable to render, please try loading this page with nbviewer.org.</b></div><div class=\"sk-container\" hidden><div class=\"sk-item sk-dashed-wrapped\"><div class=\"sk-label-container\"><div class=\"sk-label sk-toggleable\"><input class=\"sk-toggleable__control sk-hidden--visually\" id=\"sk-estimator-id-21\" type=\"checkbox\" ><label for=\"sk-estimator-id-21\" class=\"sk-toggleable__label sk-toggleable__label-arrow\">Pipeline</label><div class=\"sk-toggleable__content\"><pre>Pipeline(steps=[(&#x27;onehotencoder&#x27;, OneHotEncoder(cols=[&#x27;borough&#x27;])),\n",
              "                (&#x27;simpleimputer&#x27;, SimpleImputer()),\n",
              "                (&#x27;linearregression&#x27;, LinearRegression())])</pre></div></div></div><div class=\"sk-serial\"><div class=\"sk-item\"><div class=\"sk-estimator sk-toggleable\"><input class=\"sk-toggleable__control sk-hidden--visually\" id=\"sk-estimator-id-22\" type=\"checkbox\" ><label for=\"sk-estimator-id-22\" class=\"sk-toggleable__label sk-toggleable__label-arrow\">OneHotEncoder</label><div class=\"sk-toggleable__content\"><pre>OneHotEncoder(cols=[&#x27;borough&#x27;])</pre></div></div></div><div class=\"sk-item\"><div class=\"sk-estimator sk-toggleable\"><input class=\"sk-toggleable__control sk-hidden--visually\" id=\"sk-estimator-id-23\" type=\"checkbox\" ><label for=\"sk-estimator-id-23\" class=\"sk-toggleable__label sk-toggleable__label-arrow\">SimpleImputer</label><div class=\"sk-toggleable__content\"><pre>SimpleImputer()</pre></div></div></div><div class=\"sk-item\"><div class=\"sk-estimator sk-toggleable\"><input class=\"sk-toggleable__control sk-hidden--visually\" id=\"sk-estimator-id-24\" type=\"checkbox\" ><label for=\"sk-estimator-id-24\" class=\"sk-toggleable__label sk-toggleable__label-arrow\">LinearRegression</label><div class=\"sk-toggleable__content\"><pre>LinearRegression()</pre></div></div></div></div></div></div></div>"
            ]
          },
          "metadata": {},
          "execution_count": 57
        }
      ]
    },
    {
      "cell_type": "code",
      "source": [
        "y_pred = model.predict(X_val)\n",
        "print(\"Training MAE:\", mean_absolute_error(y_val, y_pred))"
      ],
      "metadata": {
        "colab": {
          "base_uri": "https://localhost:8080/"
        },
        "id": "oDbfwG2x4RmO",
        "outputId": "fffe6d1b-7b47-469d-93d2-a5685bd46d4c"
      },
      "execution_count": 59,
      "outputs": [
        {
          "output_type": "stream",
          "name": "stdout",
          "text": [
            "Training MAE: 15650.600935173688\n"
          ]
        }
      ]
    },
    {
      "cell_type": "markdown",
      "source": [
        "\n",
        "\n",
        "> **6-Evaluate**\n",
        "\n"
      ],
      "metadata": {
        "id": "G3WviEGxjXOT"
      }
    },
    {
      "cell_type": "code",
      "source": [
        "X_test = pd.read_csv(\"/content/drive/MyDrive/mexico house/mexico-city-test-features.csv\")\n",
        "X_test.head()"
      ],
      "metadata": {
        "id": "6uIupqBRHxY8",
        "colab": {
          "base_uri": "https://localhost:8080/",
          "height": 206
        },
        "outputId": "e843c90a-3c87-43a6-fe56-8869c641bd15"
      },
      "execution_count": 60,
      "outputs": [
        {
          "output_type": "execute_result",
          "data": {
            "text/plain": [
              "   Unnamed: 0  surface_covered_in_m2        lat        lon        borough\n",
              "0           1                     60  19.493185 -99.205755   Azcapotzalco\n",
              "1           2                     55  19.307247 -99.166700       Coyoacán\n",
              "2           3                     50  19.363469 -99.010141     Iztapalapa\n",
              "3           4                     60  19.474655 -99.189277   Azcapotzalco\n",
              "4           5                     74  19.394628 -99.143842  Benito Juárez"
            ],
            "text/html": [
              "\n",
              "  <div id=\"df-dc377630-67d4-44f6-b244-3756493f8f23\">\n",
              "    <div class=\"colab-df-container\">\n",
              "      <div>\n",
              "<style scoped>\n",
              "    .dataframe tbody tr th:only-of-type {\n",
              "        vertical-align: middle;\n",
              "    }\n",
              "\n",
              "    .dataframe tbody tr th {\n",
              "        vertical-align: top;\n",
              "    }\n",
              "\n",
              "    .dataframe thead th {\n",
              "        text-align: right;\n",
              "    }\n",
              "</style>\n",
              "<table border=\"1\" class=\"dataframe\">\n",
              "  <thead>\n",
              "    <tr style=\"text-align: right;\">\n",
              "      <th></th>\n",
              "      <th>Unnamed: 0</th>\n",
              "      <th>surface_covered_in_m2</th>\n",
              "      <th>lat</th>\n",
              "      <th>lon</th>\n",
              "      <th>borough</th>\n",
              "    </tr>\n",
              "  </thead>\n",
              "  <tbody>\n",
              "    <tr>\n",
              "      <th>0</th>\n",
              "      <td>1</td>\n",
              "      <td>60</td>\n",
              "      <td>19.493185</td>\n",
              "      <td>-99.205755</td>\n",
              "      <td>Azcapotzalco</td>\n",
              "    </tr>\n",
              "    <tr>\n",
              "      <th>1</th>\n",
              "      <td>2</td>\n",
              "      <td>55</td>\n",
              "      <td>19.307247</td>\n",
              "      <td>-99.166700</td>\n",
              "      <td>Coyoacán</td>\n",
              "    </tr>\n",
              "    <tr>\n",
              "      <th>2</th>\n",
              "      <td>3</td>\n",
              "      <td>50</td>\n",
              "      <td>19.363469</td>\n",
              "      <td>-99.010141</td>\n",
              "      <td>Iztapalapa</td>\n",
              "    </tr>\n",
              "    <tr>\n",
              "      <th>3</th>\n",
              "      <td>4</td>\n",
              "      <td>60</td>\n",
              "      <td>19.474655</td>\n",
              "      <td>-99.189277</td>\n",
              "      <td>Azcapotzalco</td>\n",
              "    </tr>\n",
              "    <tr>\n",
              "      <th>4</th>\n",
              "      <td>5</td>\n",
              "      <td>74</td>\n",
              "      <td>19.394628</td>\n",
              "      <td>-99.143842</td>\n",
              "      <td>Benito Juárez</td>\n",
              "    </tr>\n",
              "  </tbody>\n",
              "</table>\n",
              "</div>\n",
              "      <button class=\"colab-df-convert\" onclick=\"convertToInteractive('df-dc377630-67d4-44f6-b244-3756493f8f23')\"\n",
              "              title=\"Convert this dataframe to an interactive table.\"\n",
              "              style=\"display:none;\">\n",
              "        \n",
              "  <svg xmlns=\"http://www.w3.org/2000/svg\" height=\"24px\"viewBox=\"0 0 24 24\"\n",
              "       width=\"24px\">\n",
              "    <path d=\"M0 0h24v24H0V0z\" fill=\"none\"/>\n",
              "    <path d=\"M18.56 5.44l.94 2.06.94-2.06 2.06-.94-2.06-.94-.94-2.06-.94 2.06-2.06.94zm-11 1L8.5 8.5l.94-2.06 2.06-.94-2.06-.94L8.5 2.5l-.94 2.06-2.06.94zm10 10l.94 2.06.94-2.06 2.06-.94-2.06-.94-.94-2.06-.94 2.06-2.06.94z\"/><path d=\"M17.41 7.96l-1.37-1.37c-.4-.4-.92-.59-1.43-.59-.52 0-1.04.2-1.43.59L10.3 9.45l-7.72 7.72c-.78.78-.78 2.05 0 2.83L4 21.41c.39.39.9.59 1.41.59.51 0 1.02-.2 1.41-.59l7.78-7.78 2.81-2.81c.8-.78.8-2.07 0-2.86zM5.41 20L4 18.59l7.72-7.72 1.47 1.35L5.41 20z\"/>\n",
              "  </svg>\n",
              "      </button>\n",
              "      \n",
              "  <style>\n",
              "    .colab-df-container {\n",
              "      display:flex;\n",
              "      flex-wrap:wrap;\n",
              "      gap: 12px;\n",
              "    }\n",
              "\n",
              "    .colab-df-convert {\n",
              "      background-color: #E8F0FE;\n",
              "      border: none;\n",
              "      border-radius: 50%;\n",
              "      cursor: pointer;\n",
              "      display: none;\n",
              "      fill: #1967D2;\n",
              "      height: 32px;\n",
              "      padding: 0 0 0 0;\n",
              "      width: 32px;\n",
              "    }\n",
              "\n",
              "    .colab-df-convert:hover {\n",
              "      background-color: #E2EBFA;\n",
              "      box-shadow: 0px 1px 2px rgba(60, 64, 67, 0.3), 0px 1px 3px 1px rgba(60, 64, 67, 0.15);\n",
              "      fill: #174EA6;\n",
              "    }\n",
              "\n",
              "    [theme=dark] .colab-df-convert {\n",
              "      background-color: #3B4455;\n",
              "      fill: #D2E3FC;\n",
              "    }\n",
              "\n",
              "    [theme=dark] .colab-df-convert:hover {\n",
              "      background-color: #434B5C;\n",
              "      box-shadow: 0px 1px 3px 1px rgba(0, 0, 0, 0.15);\n",
              "      filter: drop-shadow(0px 1px 2px rgba(0, 0, 0, 0.3));\n",
              "      fill: #FFFFFF;\n",
              "    }\n",
              "  </style>\n",
              "\n",
              "      <script>\n",
              "        const buttonEl =\n",
              "          document.querySelector('#df-dc377630-67d4-44f6-b244-3756493f8f23 button.colab-df-convert');\n",
              "        buttonEl.style.display =\n",
              "          google.colab.kernel.accessAllowed ? 'block' : 'none';\n",
              "\n",
              "        async function convertToInteractive(key) {\n",
              "          const element = document.querySelector('#df-dc377630-67d4-44f6-b244-3756493f8f23');\n",
              "          const dataTable =\n",
              "            await google.colab.kernel.invokeFunction('convertToInteractive',\n",
              "                                                     [key], {});\n",
              "          if (!dataTable) return;\n",
              "\n",
              "          const docLinkHtml = 'Like what you see? Visit the ' +\n",
              "            '<a target=\"_blank\" href=https://colab.research.google.com/notebooks/data_table.ipynb>data table notebook</a>'\n",
              "            + ' to learn more about interactive tables.';\n",
              "          element.innerHTML = '';\n",
              "          dataTable['output_type'] = 'display_data';\n",
              "          await google.colab.output.renderOutput(dataTable, element);\n",
              "          const docLink = document.createElement('div');\n",
              "          docLink.innerHTML = docLinkHtml;\n",
              "          element.appendChild(docLink);\n",
              "        }\n",
              "      </script>\n",
              "    </div>\n",
              "  </div>\n",
              "  "
            ]
          },
          "metadata": {},
          "execution_count": 60
        }
      ]
    },
    {
      "cell_type": "code",
      "source": [
        "X_test.info()"
      ],
      "metadata": {
        "id": "ypQFau9hjkKF",
        "colab": {
          "base_uri": "https://localhost:8080/"
        },
        "outputId": "b518f64a-3c39-4232-e262-e04130b1cfb7"
      },
      "execution_count": 61,
      "outputs": [
        {
          "output_type": "stream",
          "name": "stdout",
          "text": [
            "<class 'pandas.core.frame.DataFrame'>\n",
            "RangeIndex: 1041 entries, 0 to 1040\n",
            "Data columns (total 5 columns):\n",
            " #   Column                 Non-Null Count  Dtype  \n",
            "---  ------                 --------------  -----  \n",
            " 0   Unnamed: 0             1041 non-null   int64  \n",
            " 1   surface_covered_in_m2  1041 non-null   int64  \n",
            " 2   lat                    986 non-null    float64\n",
            " 3   lon                    986 non-null    float64\n",
            " 4   borough                1041 non-null   object \n",
            "dtypes: float64(2), int64(2), object(1)\n",
            "memory usage: 40.8+ KB\n"
          ]
        }
      ]
    },
    {
      "cell_type": "code",
      "source": [
        "intercept = model.named_steps[\"linearregression\"].intercept_\n",
        "coefficients = model.named_steps[\"linearregression\"].coef_\n",
        "print(\"coefficients len:\", len(coefficients))\n",
        "print(coefficients[:7])  # First five coefficients"
      ],
      "metadata": {
        "colab": {
          "base_uri": "https://localhost:8080/"
        },
        "id": "QqgMd7P_5F6A",
        "outputId": "c3ba23c4-9927-4be5-8e89-fb5eab84ec3b"
      },
      "execution_count": 65,
      "outputs": [
        {
          "output_type": "stream",
          "name": "stdout",
          "text": [
            "coefficients len: 17\n",
            "[   337.66105386 -25985.07377873 -34275.67725304   4952.8141056\n",
            "  13434.81381221   3615.74302661  -3327.48814411]\n"
          ]
        }
      ]
    },
    {
      "cell_type": "code",
      "source": [
        "feature_names = model.named_steps[\"onehotencoder\"].get_feature_names_out()\n",
        "print(\"features len:\", len(feature_names))\n",
        "print(feature_names[:7])  # First five feature names"
      ],
      "metadata": {
        "colab": {
          "base_uri": "https://localhost:8080/"
        },
        "id": "lCuAtyM75Qdn",
        "outputId": "899021b8-19c5-4978-fa8c-fffc16a0164f"
      },
      "execution_count": 64,
      "outputs": [
        {
          "output_type": "stream",
          "name": "stdout",
          "text": [
            "features len: 17\n",
            "['surface_covered_in_m2', 'lat', 'lon', 'borough_1', 'borough_2', 'borough_3', 'borough_4']\n"
          ]
        }
      ]
    },
    {
      "cell_type": "code",
      "source": [
        "feat_imp = pd.Series(coefficients, index = feature_names)\n",
        "feat_imp.head()"
      ],
      "metadata": {
        "colab": {
          "base_uri": "https://localhost:8080/"
        },
        "id": "_2Em9E3b5evC",
        "outputId": "01bd56d7-1e3e-4635-85ed-3d0b4ab54a45"
      },
      "execution_count": 66,
      "outputs": [
        {
          "output_type": "execute_result",
          "data": {
            "text/plain": [
              "surface_covered_in_m2      337.661054\n",
              "lat                     -25985.073779\n",
              "lon                     -34275.677253\n",
              "borough_1                 4952.814106\n",
              "borough_2                13434.813812\n",
              "dtype: float64"
            ]
          },
          "metadata": {},
          "execution_count": 66
        }
      ]
    },
    {
      "cell_type": "code",
      "source": [
        "#feature importance \n",
        "feat_imp.sort_values(key=abs).tail(15).plot(kind = \"barh\")\n",
        "plt.xlabel(\"Importance [USD]\")\n",
        "plt.ylabel(\"Feature\")\n",
        "plt.title(\"Feature Importance for Apartment Price\")"
      ],
      "metadata": {
        "colab": {
          "base_uri": "https://localhost:8080/",
          "height": 490
        },
        "id": "HikZgvJZ59dn",
        "outputId": "d833b873-ef34-474b-c71d-f6a7a9d3a736"
      },
      "execution_count": 67,
      "outputs": [
        {
          "output_type": "execute_result",
          "data": {
            "text/plain": [
              "Text(0.5, 1.0, 'Feature Importance for Apartment Price')"
            ]
          },
          "metadata": {},
          "execution_count": 67
        },
        {
          "output_type": "display_data",
          "data": {
            "text/plain": [
              "<Figure size 640x480 with 1 Axes>"
            ],
            "image/png": "[encoded data removed]"
          },
          "metadata": {}
        }
      ]
    },
    {
      "cell_type": "markdown",
      "source": [
        "# **`Ridge`**"
      ],
      "metadata": {
        "id": "59dO-53m7Rrl"
      }
    },
    {
      "cell_type": "code",
      "source": [
        "model_ridge = make_pipeline(OneHotEncoder(), SimpleImputer(), Ridge())\n",
        "model_ridge.fit(X_train, y_train)"
      ],
      "metadata": {
        "colab": {
          "base_uri": "https://localhost:8080/",
          "height": 201
        },
        "id": "wnJp02S_7UJL",
        "outputId": "114d2444-de50-4d45-a5f2-91b6de66be2d"
      },
      "execution_count": 68,
      "outputs": [
        {
          "output_type": "execute_result",
          "data": {
            "text/plain": [
              "Pipeline(steps=[('onehotencoder', OneHotEncoder(cols=['borough'])),\n",
              "                ('simpleimputer', SimpleImputer()), ('ridge', Ridge())])"
            ],
            "text/html": [
              "<style>#sk-container-id-7 {color: black;background-color: white;}#sk-container-id-7 pre{padding: 0;}#sk-container-id-7 div.sk-toggleable {background-color: white;}#sk-container-id-7 label.sk-toggleable__label {cursor: pointer;display: block;width: 100%;margin-bottom: 0;padding: 0.3em;box-sizing: border-box;text-align: center;}#sk-container-id-7 label.sk-toggleable__label-arrow:before {content: \"▸\";float: left;margin-right: 0.25em;color: #696969;}#sk-container-id-7 label.sk-toggleable__label-arrow:hover:before {color: black;}#sk-container-id-7 div.sk-estimator:hover label.sk-toggleable__label-arrow:before {color: black;}#sk-container-id-7 div.sk-toggleable__content {max-height: 0;max-width: 0;overflow: hidden;text-align: left;background-color: #f0f8ff;}#sk-container-id-7 div.sk-toggleable__content pre {margin: 0.2em;color: black;border-radius: 0.25em;background-color: #f0f8ff;}#sk-container-id-7 input.sk-toggleable__control:checked~div.sk-toggleable__content {max-height: 200px;max-width: 100%;overflow: auto;}#sk-container-id-7 input.sk-toggleable__control:checked~label.sk-toggleable__label-arrow:before {content: \"▾\";}#sk-container-id-7 div.sk-estimator input.sk-toggleable__control:checked~label.sk-toggleable__label {background-color: #d4ebff;}#sk-container-id-7 div.sk-label input.sk-toggleable__control:checked~label.sk-toggleable__label {background-color: #d4ebff;}#sk-container-id-7 input.sk-hidden--visually {border: 0;clip: rect(1px 1px 1px 1px);clip: rect(1px, 1px, 1px, 1px);height: 1px;margin: -1px;overflow: hidden;padding: 0;position: absolute;width: 1px;}#sk-container-id-7 div.sk-estimator {font-family: monospace;background-color: #f0f8ff;border: 1px dotted black;border-radius: 0.25em;box-sizing: border-box;margin-bottom: 0.5em;}#sk-container-id-7 div.sk-estimator:hover {background-color: #d4ebff;}#sk-container-id-7 div.sk-parallel-item::after {content: \"\";width: 100%;border-bottom: 1px solid gray;flex-grow: 1;}#sk-container-id-7 div.sk-label:hover label.sk-toggleable__label {background-color: #d4ebff;}#sk-container-id-7 div.sk-serial::before {content: \"\";position: absolute;border-left: 1px solid gray;box-sizing: border-box;top: 0;bottom: 0;left: 50%;z-index: 0;}#sk-container-id-7 div.sk-serial {display: flex;flex-direction: column;align-items: center;background-color: white;padding-right: 0.2em;padding-left: 0.2em;position: relative;}#sk-container-id-7 div.sk-item {position: relative;z-index: 1;}#sk-container-id-7 div.sk-parallel {display: flex;align-items: stretch;justify-content: center;background-color: white;position: relative;}#sk-container-id-7 div.sk-item::before, #sk-container-id-7 div.sk-parallel-item::before {content: \"\";position: absolute;border-left: 1px solid gray;box-sizing: border-box;top: 0;bottom: 0;left: 50%;z-index: -1;}#sk-container-id-7 div.sk-parallel-item {display: flex;flex-direction: column;z-index: 1;position: relative;background-color: white;}#sk-container-id-7 div.sk-parallel-item:first-child::after {align-self: flex-end;width: 50%;}#sk-container-id-7 div.sk-parallel-item:last-child::after {align-self: flex-start;width: 50%;}#sk-container-id-7 div.sk-parallel-item:only-child::after {width: 0;}#sk-container-id-7 div.sk-dashed-wrapped {border: 1px dashed gray;margin: 0 0.4em 0.5em 0.4em;box-sizing: border-box;padding-bottom: 0.4em;background-color: white;}#sk-container-id-7 div.sk-label label {font-family: monospace;font-weight: bold;display: inline-block;line-height: 1.2em;}#sk-container-id-7 div.sk-label-container {text-align: center;}#sk-container-id-7 div.sk-container {/* jupyter's `normalize.less` sets `[hidden] { display: none; }` but bootstrap.min.css set `[hidden] { display: none !important; }` so we also need the `!important` here to be able to override the default hidden behavior on the sphinx rendered scikit-learn.org. See: https://github.com/scikit-learn/scikit-learn/issues/21755 */display: inline-block !important;position: relative;}#sk-container-id-7 div.sk-text-repr-fallback {display: none;}</style><div id=\"sk-container-id-7\" class=\"sk-top-container\"><div class=\"sk-text-repr-fallback\"><pre>Pipeline(steps=[(&#x27;onehotencoder&#x27;, OneHotEncoder(cols=[&#x27;borough&#x27;])),\n",
              "                (&#x27;simpleimputer&#x27;, SimpleImputer()), (&#x27;ridge&#x27;, Ridge())])</pre><b>In a Jupyter environment, please rerun this cell to show the HTML representation or trust the notebook. <br />On GitHub, the HTML representation is unable to render, please try loading this page with nbviewer.org.</b></div><div class=\"sk-container\" hidden><div class=\"sk-item sk-dashed-wrapped\"><div class=\"sk-label-container\"><div class=\"sk-label sk-toggleable\"><input class=\"sk-toggleable__control sk-hidden--visually\" id=\"sk-estimator-id-25\" type=\"checkbox\" ><label for=\"sk-estimator-id-25\" class=\"sk-toggleable__label sk-toggleable__label-arrow\">Pipeline</label><div class=\"sk-toggleable__content\"><pre>Pipeline(steps=[(&#x27;onehotencoder&#x27;, OneHotEncoder(cols=[&#x27;borough&#x27;])),\n",
              "                (&#x27;simpleimputer&#x27;, SimpleImputer()), (&#x27;ridge&#x27;, Ridge())])</pre></div></div></div><div class=\"sk-serial\"><div class=\"sk-item\"><div class=\"sk-estimator sk-toggleable\"><input class=\"sk-toggleable__control sk-hidden--visually\" id=\"sk-estimator-id-26\" type=\"checkbox\" ><label for=\"sk-estimator-id-26\" class=\"sk-toggleable__label sk-toggleable__label-arrow\">OneHotEncoder</label><div class=\"sk-toggleable__content\"><pre>OneHotEncoder(cols=[&#x27;borough&#x27;])</pre></div></div></div><div class=\"sk-item\"><div class=\"sk-estimator sk-toggleable\"><input class=\"sk-toggleable__control sk-hidden--visually\" id=\"sk-estimator-id-27\" type=\"checkbox\" ><label for=\"sk-estimator-id-27\" class=\"sk-toggleable__label sk-toggleable__label-arrow\">SimpleImputer</label><div class=\"sk-toggleable__content\"><pre>SimpleImputer()</pre></div></div></div><div class=\"sk-item\"><div class=\"sk-estimator sk-toggleable\"><input class=\"sk-toggleable__control sk-hidden--visually\" id=\"sk-estimator-id-28\" type=\"checkbox\" ><label for=\"sk-estimator-id-28\" class=\"sk-toggleable__label sk-toggleable__label-arrow\">Ridge</label><div class=\"sk-toggleable__content\"><pre>Ridge()</pre></div></div></div></div></div></div></div>"
            ]
          },
          "metadata": {},
          "execution_count": 68
        }
      ]
    },
    {
      "cell_type": "code",
      "source": [
        "y_pred = model_ridge.predict(X_val)\n",
        "print(\"Training MAE:\", mean_absolute_error(y_val, y_pred))"
      ],
      "metadata": {
        "colab": {
          "base_uri": "https://localhost:8080/"
        },
        "id": "ZYIRt5pF7bvo",
        "outputId": "1851ab5b-5d8d-4a3f-b64e-3ce2a1b4fa23"
      },
      "execution_count": 69,
      "outputs": [
        {
          "output_type": "stream",
          "name": "stdout",
          "text": [
            "Training MAE: 15712.621701521428\n"
          ]
        }
      ]
    },
    {
      "cell_type": "code",
      "source": [
        "coefficients = model_ridge.named_steps[\"ridge\"].coef_\n",
        "features = model_ridge.named_steps[\"onehotencoder\"].get_feature_names_out()\n",
        "feat_imp = pd.Series(coefficients, index = features)\n",
        "feat_imp"
      ],
      "metadata": {
        "colab": {
          "base_uri": "https://localhost:8080/"
        },
        "id": "ev3YV_um7bsj",
        "outputId": "ddc7ff10-a479-41d7-aa52-cd1465659800"
      },
      "execution_count": 71,
      "outputs": [
        {
          "output_type": "execute_result",
          "data": {
            "text/plain": [
              "surface_covered_in_m2      345.829925\n",
              "lat                      -6954.319296\n",
              "lon                     -10585.223783\n",
              "borough_1                 3206.454118\n",
              "borough_2                13269.653039\n",
              "borough_3                 4954.898879\n",
              "borough_4                -5182.775767\n",
              "borough_5                 3484.798652\n",
              "borough_6                 -483.423916\n",
              "borough_7                 1537.108371\n",
              "borough_8                 9025.360476\n",
              "borough_9               -14815.164985\n",
              "borough_10              -13412.623539\n",
              "borough_11                4871.091603\n",
              "borough_12                7399.403262\n",
              "borough_13               -3883.261537\n",
              "borough_14               -9971.518655\n",
              "dtype: float64"
            ]
          },
          "metadata": {},
          "execution_count": 71
        }
      ]
    },
    {
      "cell_type": "code",
      "source": [
        "feat_imp = pd.Series(coefficients, index = feature_names)\n",
        "feat_imp.head()\n",
        "     "
      ],
      "metadata": {
        "colab": {
          "base_uri": "https://localhost:8080/"
        },
        "id": "w4EhzND47-VS",
        "outputId": "28d752a0-c1f1-499c-ef45-a16feab5870e"
      },
      "execution_count": 72,
      "outputs": [
        {
          "output_type": "execute_result",
          "data": {
            "text/plain": [
              "surface_covered_in_m2      345.829925\n",
              "lat                      -6954.319296\n",
              "lon                     -10585.223783\n",
              "borough_1                 3206.454118\n",
              "borough_2                13269.653039\n",
              "dtype: float64"
            ]
          },
          "metadata": {},
          "execution_count": 72
        }
      ]
    },
    {
      "cell_type": "code",
      "source": [
        "feat_imp.sort_values(key=abs).tail(15).plot(kind = \"barh\")\n",
        "plt.xlabel(\"Importance [USD]\")\n",
        "plt.ylabel(\"Feature\")\n",
        "plt.title(\"Feature Importance for Apartment Price\")"
      ],
      "metadata": {
        "colab": {
          "base_uri": "https://localhost:8080/",
          "height": 490
        },
        "id": "0DBJ7_xr8Bc1",
        "outputId": "f763bb9f-b69a-4308-eb86-a17f6fcf315b"
      },
      "execution_count": 73,
      "outputs": [
        {
          "output_type": "execute_result",
          "data": {
            "text/plain": [
              "Text(0.5, 1.0, 'Feature Importance for Apartment Price')"
            ]
          },
          "metadata": {},
          "execution_count": 73
        },
        {
          "output_type": "display_data",
          "data": {
            "text/plain": [
              "<Figure size 640x480 with 1 Axes>"
            ],
            "image/png": "[encoded data removed]"
          },
          "metadata": {}
        }
      ]
    },
    {
      "cell_type": "code",
      "source": [
        "#Create a function predict_price that takes four arguments (area, lat, lon, and neighborhood) and returns your model's prediction for an apartment price\n",
        "def predict_price(area, lat, lon, borough):\n",
        "    data = {\n",
        "        \"surface_covered_in_m2\": area,\n",
        "        \"lat\": lat,\n",
        "        \"lon\": lon,\n",
        "        \"borough\": borough\n",
        "    }\n",
        "    df = pd.DataFrame(data, index = [0])\n",
        "    \n",
        "    prediction = model.predict(df).round(2)[0]\n",
        "    return f\"Predicted apartment price: ${prediction}\""
      ],
      "metadata": {
        "id": "0Tbx40OR_aw1"
      },
      "execution_count": 76,
      "outputs": []
    },
    {
      "cell_type": "code",
      "source": [
        "predict_price(100, 18, -100, \"Azcapotzalco\")"
      ],
      "metadata": {
        "colab": {
          "base_uri": "https://localhost:8080/",
          "height": 35
        },
        "id": "uulb_DYn_lwT",
        "outputId": "19b15747-c062-49bc-b825-57b89ba2da54"
      },
      "execution_count": 77,
      "outputs": [
        {
          "output_type": "execute_result",
          "data": {
            "text/plain": [
              "'Predicted apartment price: $134709.28'"
            ],
            "application/vnd.google.colaboratory.intrinsic+json": {
              "type": "string"
            }
          },
          "metadata": {},
          "execution_count": 77
        }
      ]
    },
    {
      "cell_type": "code",
      "source": [
        "interact(\n",
        "    predict_price,\n",
        "    area=IntSlider(\n",
        "        min=X_train[\"surface_covered_in_m2\"].min(),\n",
        "        max=X_train[\"surface_covered_in_m2\"].max(),\n",
        "        value=X_train[\"surface_covered_in_m2\"].mean(),\n",
        "    ),\n",
        "    lat=FloatSlider(\n",
        "        min=X_train[\"lat\"].min(),\n",
        "        max=X_train[\"lat\"].max(),\n",
        "        step=0.01,\n",
        "        value=X_train[\"lat\"].mean(),\n",
        "    ),\n",
        "    lon=FloatSlider(\n",
        "        min=X_train[\"lon\"].min(),\n",
        "        max=X_train[\"lon\"].max(),\n",
        "        step=0.01,\n",
        "        value=X_train[\"lon\"].mean(),\n",
        "    ),\n",
        "    borough=Dropdown(options=sorted(X_train[\"borough\"].unique())),\n",
        ");"
      ],
      "metadata": {
        "id": "A3oWbVAM5HWy",
        "colab": {
          "base_uri": "https://localhost:8080/",
          "height": 163,
          "referenced_widgets": [
            "0d0753fac70a42a28c9d7981cae76836",
            "97d87f15c4dd428eb234c35df22ba641",
            "373af50f2bab4dedb428435608b6fb7a",
            "fef2e563cdfe45c78dfdb2feffa04578",
            "e40d56de3f404aeca13f05adc5d5f78e",
            "4e77b6b6ba6f4143a801c37361df185c",
            "c96f3713cbe643a1aaaf5b30b08e9a55",
            "898ffe614b6d47b6a839b40907f14eac",
            "bcb618e466984732964743879082dc04",
            "8af49a73a08844e5bdd864cbe49ec04a",
            "490e66b40e164a228481eaf41e0f4252",
            "ecc61c1b47654cc8a3ac9235bac655b5",
            "9568685a2f3449958174498d62d3b2b5",
            "6af46d412f1d4ae4a0967c075e6b2103",
            "29ae5187e3284936a7fca0a7b53dfdaf",
            "bb047f6fbe824761844829ef5a99e5be"
          ]
        },
        "outputId": "6cfb32d1-9d4c-4b3b-a356-4c733ed9a954"
      },
      "execution_count": 78,
      "outputs": [
        {
          "output_type": "display_data",
          "data": {
            "text/plain": [
              "interactive(children=(IntSlider(value=66, description='area', max=91, min=48), FloatSlider(value=19.4605381111…"
            ],
            "application/vnd.jupyter.widget-view+json": {
              "version_major": 2,
              "version_minor": 0,
              "model_id": "0d0753fac70a42a28c9d7981cae76836"
            }
          },
          "metadata": {}
        }
      ]
    }
  ]
}